{
 "cells": [
  {
   "cell_type": "code",
   "execution_count": 1,
   "id": "44fc65dc",
   "metadata": {},
   "outputs": [
    {
     "name": "stdout",
     "output_type": "stream",
     "text": [
      "Device: cuda\n",
      "cuda\n"
     ]
    }
   ],
   "source": [
    "import os\n",
    "from model_lib import *\n",
    "from load_data_lib import *\n",
    "from train_analyze_lib import *\n",
    "\n",
    "device = torch.device('cuda' if torch.cuda.is_available() else 'cpu')\n",
    "print(device)"
   ]
  },
  {
   "cell_type": "code",
   "execution_count": 3,
   "id": "4964602c",
   "metadata": {},
   "outputs": [
    {
     "name": "stdout",
     "output_type": "stream",
     "text": [
      "Plant Disease Detection - Multi-Model Error Analysis\n",
      "============================================================\n",
      "Current working directory: C:\\Users\\nhdkr\\off_plant_di_err_analyze\n",
      "Data path: C:\\Users\\nhdkr\\off_plant_di_err_analyze\\plant_data_tvt.pkl\n",
      "Models directory: C:\\Users\\nhdkr\\off_plant_di_err_analyze\\models\n",
      "Results directory: C:\\Users\\nhdkr\\off_plant_di_err_analyze\\results\n",
      "Data subset ratio: 100.0%\n",
      "Training epochs per model: 40\n",
      "\n",
      "Loading data...\n",
      "Data loaded successfully!\n",
      "Classes: 38\n",
      "Train batches: 1019\n",
      "Val batches: 340\n",
      "\n",
      "Initializing models...\n",
      "Total models to train: 12\n",
      "\n",
      "================================================================================\n",
      "TRAINING MODEL 1/12: LeNet\n",
      "================================================================================\n",
      "\n",
      "Training LeNet...\n"
     ]
    },
    {
     "name": "stderr",
     "output_type": "stream",
     "text": [
      "Training: 100%|████████████████████████████████████████████████████████████████████| 1019/1019 [00:51<00:00, 19.69it/s]\n",
      "Validation: 100%|████████████████████████████████████████████████████████████████████| 340/340 [00:19<00:00, 17.40it/s]\n"
     ]
    },
    {
     "name": "stdout",
     "output_type": "stream",
     "text": [
      "Epoch 1: Train 56.6%, Val 68.8%\n"
     ]
    },
    {
     "name": "stderr",
     "output_type": "stream",
     "text": [
      "Training: 100%|████████████████████████████████████████████████████████████████████| 1019/1019 [00:56<00:00, 18.15it/s]\n",
      "Validation: 100%|████████████████████████████████████████████████████████████████████| 340/340 [00:20<00:00, 16.51it/s]\n"
     ]
    },
    {
     "name": "stdout",
     "output_type": "stream",
     "text": [
      "Epoch 2: Train 75.0%, Val 80.8%\n"
     ]
    },
    {
     "name": "stderr",
     "output_type": "stream",
     "text": [
      "Training: 100%|████████████████████████████████████████████████████████████████████| 1019/1019 [00:56<00:00, 18.12it/s]\n",
      "Validation: 100%|████████████████████████████████████████████████████████████████████| 340/340 [00:21<00:00, 16.07it/s]\n"
     ]
    },
    {
     "name": "stdout",
     "output_type": "stream",
     "text": [
      "Epoch 3: Train 80.4%, Val 86.0%\n"
     ]
    },
    {
     "name": "stderr",
     "output_type": "stream",
     "text": [
      "Training: 100%|████████████████████████████████████████████████████████████████████| 1019/1019 [00:56<00:00, 17.99it/s]\n",
      "Validation: 100%|████████████████████████████████████████████████████████████████████| 340/340 [00:21<00:00, 15.60it/s]\n"
     ]
    },
    {
     "name": "stdout",
     "output_type": "stream",
     "text": [
      "Epoch 4: Train 83.1%, Val 84.3%\n"
     ]
    },
    {
     "name": "stderr",
     "output_type": "stream",
     "text": [
      "Training: 100%|████████████████████████████████████████████████████████████████████| 1019/1019 [01:03<00:00, 15.98it/s]\n",
      "Validation: 100%|████████████████████████████████████████████████████████████████████| 340/340 [00:24<00:00, 13.70it/s]\n"
     ]
    },
    {
     "name": "stdout",
     "output_type": "stream",
     "text": [
      "Epoch 5: Train 85.2%, Val 87.1%\n"
     ]
    },
    {
     "name": "stderr",
     "output_type": "stream",
     "text": [
      "Training: 100%|████████████████████████████████████████████████████████████████████| 1019/1019 [01:03<00:00, 15.96it/s]\n",
      "Validation: 100%|████████████████████████████████████████████████████████████████████| 340/340 [00:24<00:00, 13.94it/s]\n"
     ]
    },
    {
     "name": "stdout",
     "output_type": "stream",
     "text": [
      "Epoch 6: Train 86.1%, Val 89.5%\n"
     ]
    },
    {
     "name": "stderr",
     "output_type": "stream",
     "text": [
      "Training: 100%|████████████████████████████████████████████████████████████████████| 1019/1019 [01:03<00:00, 16.03it/s]\n",
      "Validation: 100%|████████████████████████████████████████████████████████████████████| 340/340 [00:24<00:00, 13.97it/s]\n"
     ]
    },
    {
     "name": "stdout",
     "output_type": "stream",
     "text": [
      "Epoch 7: Train 87.8%, Val 90.9%\n"
     ]
    },
    {
     "name": "stderr",
     "output_type": "stream",
     "text": [
      "Training: 100%|████████████████████████████████████████████████████████████████████| 1019/1019 [02:32<00:00,  6.69it/s]\n",
      "Validation: 100%|████████████████████████████████████████████████████████████████████| 340/340 [00:50<00:00,  6.78it/s]\n"
     ]
    },
    {
     "name": "stdout",
     "output_type": "stream",
     "text": [
      "Epoch 8: Train 88.4%, Val 91.9%\n"
     ]
    },
    {
     "name": "stderr",
     "output_type": "stream",
     "text": [
      "Training: 100%|████████████████████████████████████████████████████████████████████| 1019/1019 [00:58<00:00, 17.43it/s]\n",
      "Validation: 100%|████████████████████████████████████████████████████████████████████| 340/340 [00:21<00:00, 16.00it/s]\n"
     ]
    },
    {
     "name": "stdout",
     "output_type": "stream",
     "text": [
      "Epoch 9: Train 89.4%, Val 91.3%\n"
     ]
    },
    {
     "name": "stderr",
     "output_type": "stream",
     "text": [
      "Training: 100%|████████████████████████████████████████████████████████████████████| 1019/1019 [00:58<00:00, 17.40it/s]\n",
      "Validation: 100%|████████████████████████████████████████████████████████████████████| 340/340 [00:21<00:00, 15.90it/s]\n"
     ]
    },
    {
     "name": "stdout",
     "output_type": "stream",
     "text": [
      "Epoch 10: Train 90.1%, Val 92.8%\n"
     ]
    },
    {
     "name": "stderr",
     "output_type": "stream",
     "text": [
      "Training: 100%|████████████████████████████████████████████████████████████████████| 1019/1019 [00:59<00:00, 17.21it/s]\n",
      "Validation: 100%|████████████████████████████████████████████████████████████████████| 340/340 [00:21<00:00, 15.75it/s]\n"
     ]
    },
    {
     "name": "stdout",
     "output_type": "stream",
     "text": [
      "Epoch 11: Train 90.6%, Val 92.1%\n"
     ]
    },
    {
     "name": "stderr",
     "output_type": "stream",
     "text": [
      "Training: 100%|████████████████████████████████████████████████████████████████████| 1019/1019 [00:59<00:00, 17.21it/s]\n",
      "Validation: 100%|████████████████████████████████████████████████████████████████████| 340/340 [00:21<00:00, 16.12it/s]\n"
     ]
    },
    {
     "name": "stdout",
     "output_type": "stream",
     "text": [
      "Epoch 12: Train 91.0%, Val 92.7%\n"
     ]
    },
    {
     "name": "stderr",
     "output_type": "stream",
     "text": [
      "Training: 100%|████████████████████████████████████████████████████████████████████| 1019/1019 [00:59<00:00, 17.26it/s]\n",
      "Validation: 100%|████████████████████████████████████████████████████████████████████| 340/340 [00:21<00:00, 16.06it/s]\n"
     ]
    },
    {
     "name": "stdout",
     "output_type": "stream",
     "text": [
      "Epoch 13: Train 91.6%, Val 92.3%\n"
     ]
    },
    {
     "name": "stderr",
     "output_type": "stream",
     "text": [
      "Training: 100%|████████████████████████████████████████████████████████████████████| 1019/1019 [00:59<00:00, 17.17it/s]\n",
      "Validation: 100%|████████████████████████████████████████████████████████████████████| 340/340 [00:21<00:00, 15.76it/s]\n"
     ]
    },
    {
     "name": "stdout",
     "output_type": "stream",
     "text": [
      "Epoch 14: Train 92.4%, Val 93.4%\n"
     ]
    },
    {
     "name": "stderr",
     "output_type": "stream",
     "text": [
      "Training: 100%|████████████████████████████████████████████████████████████████████| 1019/1019 [00:59<00:00, 17.19it/s]\n",
      "Validation: 100%|████████████████████████████████████████████████████████████████████| 340/340 [00:21<00:00, 16.12it/s]\n"
     ]
    },
    {
     "name": "stdout",
     "output_type": "stream",
     "text": [
      "Epoch 15: Train 92.4%, Val 91.8%\n"
     ]
    },
    {
     "name": "stderr",
     "output_type": "stream",
     "text": [
      "Training: 100%|████████████████████████████████████████████████████████████████████| 1019/1019 [00:58<00:00, 17.38it/s]\n",
      "Validation: 100%|████████████████████████████████████████████████████████████████████| 340/340 [00:21<00:00, 15.85it/s]\n"
     ]
    },
    {
     "name": "stdout",
     "output_type": "stream",
     "text": [
      "Epoch 16: Train 92.7%, Val 94.2%\n"
     ]
    },
    {
     "name": "stderr",
     "output_type": "stream",
     "text": [
      "Training: 100%|████████████████████████████████████████████████████████████████████| 1019/1019 [00:59<00:00, 17.05it/s]\n",
      "Validation: 100%|████████████████████████████████████████████████████████████████████| 340/340 [00:21<00:00, 15.92it/s]\n"
     ]
    },
    {
     "name": "stdout",
     "output_type": "stream",
     "text": [
      "Epoch 17: Train 93.5%, Val 94.7%\n"
     ]
    },
    {
     "name": "stderr",
     "output_type": "stream",
     "text": [
      "Training: 100%|████████████████████████████████████████████████████████████████████| 1019/1019 [00:59<00:00, 17.09it/s]\n",
      "Validation: 100%|████████████████████████████████████████████████████████████████████| 340/340 [00:21<00:00, 15.92it/s]\n"
     ]
    },
    {
     "name": "stdout",
     "output_type": "stream",
     "text": [
      "Epoch 18: Train 94.1%, Val 94.4%\n"
     ]
    },
    {
     "name": "stderr",
     "output_type": "stream",
     "text": [
      "Training: 100%|████████████████████████████████████████████████████████████████████| 1019/1019 [00:59<00:00, 17.26it/s]\n",
      "Validation: 100%|████████████████████████████████████████████████████████████████████| 340/340 [00:21<00:00, 15.95it/s]\n"
     ]
    },
    {
     "name": "stdout",
     "output_type": "stream",
     "text": [
      "Epoch 19: Train 94.3%, Val 94.4%\n"
     ]
    },
    {
     "name": "stderr",
     "output_type": "stream",
     "text": [
      "Training: 100%|████████████████████████████████████████████████████████████████████| 1019/1019 [00:59<00:00, 17.15it/s]\n",
      "Validation: 100%|████████████████████████████████████████████████████████████████████| 340/340 [00:21<00:00, 16.04it/s]\n"
     ]
    },
    {
     "name": "stdout",
     "output_type": "stream",
     "text": [
      "Epoch 20: Train 94.5%, Val 93.9%\n"
     ]
    },
    {
     "name": "stderr",
     "output_type": "stream",
     "text": [
      "Training: 100%|████████████████████████████████████████████████████████████████████| 1019/1019 [00:58<00:00, 17.37it/s]\n",
      "Validation: 100%|████████████████████████████████████████████████████████████████████| 340/340 [00:21<00:00, 16.15it/s]\n"
     ]
    },
    {
     "name": "stdout",
     "output_type": "stream",
     "text": [
      "Epoch 21: Train 95.1%, Val 94.3%\n"
     ]
    },
    {
     "name": "stderr",
     "output_type": "stream",
     "text": [
      "Training: 100%|████████████████████████████████████████████████████████████████████| 1019/1019 [00:59<00:00, 17.23it/s]\n",
      "Validation: 100%|████████████████████████████████████████████████████████████████████| 340/340 [00:21<00:00, 15.85it/s]\n"
     ]
    },
    {
     "name": "stdout",
     "output_type": "stream",
     "text": [
      "Epoch 22: Train 95.4%, Val 95.8%\n"
     ]
    },
    {
     "name": "stderr",
     "output_type": "stream",
     "text": [
      "Training: 100%|████████████████████████████████████████████████████████████████████| 1019/1019 [00:58<00:00, 17.29it/s]\n",
      "Validation: 100%|████████████████████████████████████████████████████████████████████| 340/340 [00:21<00:00, 16.09it/s]\n"
     ]
    },
    {
     "name": "stdout",
     "output_type": "stream",
     "text": [
      "Epoch 23: Train 95.9%, Val 96.0%\n"
     ]
    },
    {
     "name": "stderr",
     "output_type": "stream",
     "text": [
      "Training: 100%|████████████████████████████████████████████████████████████████████| 1019/1019 [00:58<00:00, 17.33it/s]\n",
      "Validation: 100%|████████████████████████████████████████████████████████████████████| 340/340 [00:21<00:00, 15.95it/s]\n"
     ]
    },
    {
     "name": "stdout",
     "output_type": "stream",
     "text": [
      "Epoch 24: Train 95.9%, Val 96.3%\n"
     ]
    },
    {
     "name": "stderr",
     "output_type": "stream",
     "text": [
      "Training: 100%|████████████████████████████████████████████████████████████████████| 1019/1019 [00:58<00:00, 17.31it/s]\n",
      "Validation: 100%|████████████████████████████████████████████████████████████████████| 340/340 [00:21<00:00, 16.02it/s]\n"
     ]
    },
    {
     "name": "stdout",
     "output_type": "stream",
     "text": [
      "Epoch 25: Train 96.4%, Val 95.5%\n"
     ]
    },
    {
     "name": "stderr",
     "output_type": "stream",
     "text": [
      "Training: 100%|████████████████████████████████████████████████████████████████████| 1019/1019 [01:28<00:00, 11.51it/s]\n",
      "Validation: 100%|████████████████████████████████████████████████████████████████████| 340/340 [00:49<00:00,  6.93it/s]\n"
     ]
    },
    {
     "name": "stdout",
     "output_type": "stream",
     "text": [
      "Epoch 26: Train 96.7%, Val 96.0%\n"
     ]
    },
    {
     "name": "stderr",
     "output_type": "stream",
     "text": [
      "Training: 100%|████████████████████████████████████████████████████████████████████| 1019/1019 [01:53<00:00,  8.95it/s]\n",
      "Validation: 100%|████████████████████████████████████████████████████████████████████| 340/340 [00:21<00:00, 16.08it/s]\n"
     ]
    },
    {
     "name": "stdout",
     "output_type": "stream",
     "text": [
      "Epoch 27: Train 96.9%, Val 96.4%\n"
     ]
    },
    {
     "name": "stderr",
     "output_type": "stream",
     "text": [
      "Training: 100%|████████████████████████████████████████████████████████████████████| 1019/1019 [00:58<00:00, 17.50it/s]\n",
      "Validation: 100%|████████████████████████████████████████████████████████████████████| 340/340 [00:21<00:00, 16.12it/s]\n"
     ]
    },
    {
     "name": "stdout",
     "output_type": "stream",
     "text": [
      "Epoch 28: Train 97.0%, Val 96.4%\n"
     ]
    },
    {
     "name": "stderr",
     "output_type": "stream",
     "text": [
      "Training: 100%|████████████████████████████████████████████████████████████████████| 1019/1019 [00:58<00:00, 17.45it/s]\n",
      "Validation: 100%|████████████████████████████████████████████████████████████████████| 340/340 [00:21<00:00, 15.69it/s]\n"
     ]
    },
    {
     "name": "stdout",
     "output_type": "stream",
     "text": [
      "Epoch 29: Train 97.4%, Val 96.8%\n"
     ]
    },
    {
     "name": "stderr",
     "output_type": "stream",
     "text": [
      "Training: 100%|████████████████████████████████████████████████████████████████████| 1019/1019 [00:58<00:00, 17.35it/s]\n",
      "Validation: 100%|████████████████████████████████████████████████████████████████████| 340/340 [00:21<00:00, 15.92it/s]\n"
     ]
    },
    {
     "name": "stdout",
     "output_type": "stream",
     "text": [
      "Epoch 30: Train 97.5%, Val 96.1%\n"
     ]
    },
    {
     "name": "stderr",
     "output_type": "stream",
     "text": [
      "Training: 100%|████████████████████████████████████████████████████████████████████| 1019/1019 [00:58<00:00, 17.43it/s]\n",
      "Validation: 100%|████████████████████████████████████████████████████████████████████| 340/340 [00:21<00:00, 15.96it/s]\n"
     ]
    },
    {
     "name": "stdout",
     "output_type": "stream",
     "text": [
      "Epoch 31: Train 97.7%, Val 96.7%\n"
     ]
    },
    {
     "name": "stderr",
     "output_type": "stream",
     "text": [
      "Training: 100%|████████████████████████████████████████████████████████████████████| 1019/1019 [00:59<00:00, 17.16it/s]\n",
      "Validation: 100%|████████████████████████████████████████████████████████████████████| 340/340 [00:21<00:00, 16.10it/s]\n"
     ]
    },
    {
     "name": "stdout",
     "output_type": "stream",
     "text": [
      "Epoch 32: Train 97.9%, Val 96.6%\n"
     ]
    },
    {
     "name": "stderr",
     "output_type": "stream",
     "text": [
      "Training: 100%|████████████████████████████████████████████████████████████████████| 1019/1019 [00:58<00:00, 17.30it/s]\n",
      "Validation: 100%|████████████████████████████████████████████████████████████████████| 340/340 [00:21<00:00, 16.09it/s]\n"
     ]
    },
    {
     "name": "stdout",
     "output_type": "stream",
     "text": [
      "Epoch 33: Train 97.9%, Val 97.1%\n"
     ]
    },
    {
     "name": "stderr",
     "output_type": "stream",
     "text": [
      "Training: 100%|████████████████████████████████████████████████████████████████████| 1019/1019 [00:58<00:00, 17.39it/s]\n",
      "Validation: 100%|████████████████████████████████████████████████████████████████████| 340/340 [00:21<00:00, 15.95it/s]\n"
     ]
    },
    {
     "name": "stdout",
     "output_type": "stream",
     "text": [
      "Epoch 34: Train 98.1%, Val 97.0%\n"
     ]
    },
    {
     "name": "stderr",
     "output_type": "stream",
     "text": [
      "Training: 100%|████████████████████████████████████████████████████████████████████| 1019/1019 [00:59<00:00, 17.20it/s]\n",
      "Validation: 100%|████████████████████████████████████████████████████████████████████| 340/340 [00:21<00:00, 15.84it/s]\n"
     ]
    },
    {
     "name": "stdout",
     "output_type": "stream",
     "text": [
      "Epoch 35: Train 98.2%, Val 97.2%\n"
     ]
    },
    {
     "name": "stderr",
     "output_type": "stream",
     "text": [
      "Training: 100%|████████████████████████████████████████████████████████████████████| 1019/1019 [00:59<00:00, 17.21it/s]\n",
      "Validation: 100%|████████████████████████████████████████████████████████████████████| 340/340 [00:20<00:00, 16.20it/s]\n"
     ]
    },
    {
     "name": "stdout",
     "output_type": "stream",
     "text": [
      "Epoch 36: Train 98.3%, Val 97.1%\n"
     ]
    },
    {
     "name": "stderr",
     "output_type": "stream",
     "text": [
      "Training: 100%|████████████████████████████████████████████████████████████████████| 1019/1019 [00:58<00:00, 17.30it/s]\n",
      "Validation: 100%|████████████████████████████████████████████████████████████████████| 340/340 [00:21<00:00, 15.83it/s]\n"
     ]
    },
    {
     "name": "stdout",
     "output_type": "stream",
     "text": [
      "Epoch 37: Train 98.4%, Val 97.3%\n"
     ]
    },
    {
     "name": "stderr",
     "output_type": "stream",
     "text": [
      "Training: 100%|████████████████████████████████████████████████████████████████████| 1019/1019 [00:58<00:00, 17.34it/s]\n",
      "Validation: 100%|████████████████████████████████████████████████████████████████████| 340/340 [00:21<00:00, 16.01it/s]\n"
     ]
    },
    {
     "name": "stdout",
     "output_type": "stream",
     "text": [
      "Epoch 38: Train 98.3%, Val 97.2%\n"
     ]
    },
    {
     "name": "stderr",
     "output_type": "stream",
     "text": [
      "Training: 100%|████████████████████████████████████████████████████████████████████| 1019/1019 [00:58<00:00, 17.38it/s]\n",
      "Validation: 100%|████████████████████████████████████████████████████████████████████| 340/340 [00:21<00:00, 16.15it/s]\n"
     ]
    },
    {
     "name": "stdout",
     "output_type": "stream",
     "text": [
      "Epoch 39: Train 98.3%, Val 97.3%\n"
     ]
    },
    {
     "name": "stderr",
     "output_type": "stream",
     "text": [
      "Training: 100%|████████████████████████████████████████████████████████████████████| 1019/1019 [00:58<00:00, 17.32it/s]\n",
      "Validation: 100%|████████████████████████████████████████████████████████████████████| 340/340 [00:21<00:00, 16.00it/s]\n"
     ]
    },
    {
     "name": "stdout",
     "output_type": "stream",
     "text": [
      "Epoch 40: Train 98.4%, Val 97.2%\n"
     ]
    },
    {
     "name": "stderr",
     "output_type": "stream",
     "text": [
      "Validation: 100%|████████████████████████████████████████████████████████████████████| 340/340 [00:21<00:00, 16.15it/s]\n"
     ]
    },
    {
     "name": "stdout",
     "output_type": "stream",
     "text": [
      "Confusion matrix saved: C:\\Users\\nhdkr\\off_plant_di_err_analyze\\results\\lenet_confusion_matrix.csv\n",
      "Classification statistics saved: C:\\Users\\nhdkr\\off_plant_di_err_analyze\\results\\lenet_classification_stats.csv\n"
     ]
    },
    {
     "name": "stderr",
     "output_type": "stream",
     "text": [
      "C:\\Users\\nhdkr\\off_plant_di_err_analyze\\error_visualize.py:33: UserWarning: Creating a tensor from a list of numpy.ndarrays is extremely slow. Please consider converting the list to a single numpy.ndarray with numpy.array() before converting to a tensor. (Triggered internally at C:\\cb\\pytorch_1000000000000\\work\\torch\\csrc\\utils\\tensor_new.cpp:277.)\n",
      "  probs = torch.tensor(probs)\n",
      "Clipping input data to the valid range for imshow with RGB data ([0..1] for floats or [0..255] for integers). Got range [-2.0494049..2.2042704].\n",
      "Clipping input data to the valid range for imshow with RGB data ([0..1] for floats or [0..255] for integers). Got range [-1.5952941..1.3431373].\n"
     ]
    },
    {
     "name": "stdout",
     "output_type": "stream",
     "text": [
      "Confusion matrix plot saved: C:\\Users\\nhdkr\\off_plant_di_err_analyze\\results\\lenet_confusion_matrix.png\n",
      "Top-k Accuracy: {'top_1_acc': 97.2470306601602, 'top_3_acc': 99.74219685111868, 'top_5_acc': 99.9079274468281}\n"
     ]
    },
    {
     "name": "stderr",
     "output_type": "stream",
     "text": [
      "Clipping input data to the valid range for imshow with RGB data ([0..1] for floats or [0..255] for integers). Got range [-2.117904..1.8208281].\n",
      "Clipping input data to the valid range for imshow with RGB data ([0..1] for floats or [0..255] for integers). Got range [-1.9637812..1.6232493].\n",
      "Clipping input data to the valid range for imshow with RGB data ([0..1] for floats or [0..255] for integers). Got range [-1.8606442..1.6639653].\n",
      "Clipping input data to the valid range for imshow with RGB data ([0..1] for floats or [0..255] for integers). Got range [-1.9466565..1.3781513].\n",
      "Clipping input data to the valid range for imshow with RGB data ([0..1] for floats or [0..255] for integers). Got range [-2.0322802..1.0365143].\n",
      "Clipping input data to the valid range for imshow with RGB data ([0..1] for floats or [0..255] for integers). Got range [-1.6127234..1.6666666].\n",
      "Clipping input data to the valid range for imshow with RGB data ([0..1] for floats or [0..255] for integers). Got range [-2.0836544..1.5768193].\n",
      "Clipping input data to the valid range for imshow with RGB data ([0..1] for floats or [0..255] for integers). Got range [-1.5430065..1.8158263].\n",
      "Clipping input data to the valid range for imshow with RGB data ([0..1] for floats or [0..255] for integers). Got range [-1.9980307..2.0648367].\n",
      "Clipping input data to the valid range for imshow with RGB data ([0..1] for floats or [0..255] for integers). Got range [-2.0322802..1.2630938].\n",
      "Clipping input data to the valid range for imshow with RGB data ([0..1] for floats or [0..255] for integers). Got range [-1.8952821..1.5593902].\n",
      "Clipping input data to the valid range for imshow with RGB data ([0..1] for floats or [0..255] for integers). Got range [-1.8044444..1.733682].\n",
      "Clipping input data to the valid range for imshow with RGB data ([0..1] for floats or [0..255] for integers). Got range [-2.0151556..2.4308496].\n",
      "Clipping input data to the valid range for imshow with RGB data ([0..1] for floats or [0..255] for integers). Got range [-1.4558606..1.8033988].\n",
      "Clipping input data to the valid range for imshow with RGB data ([0..1] for floats or [0..255] for integers). Got range [-1.9637812..1.8892884].\n",
      "Clipping input data to the valid range for imshow with RGB data ([0..1] for floats or [0..255] for integers). Got range [-2.0151556..2.0648367].\n",
      "Clipping input data to the valid range for imshow with RGB data ([0..1] for floats or [0..255] for integers). Got range [-2.0494049..1.8033988].\n",
      "Clipping input data to the valid range for imshow with RGB data ([0..1] for floats or [0..255] for integers). Got range [-1.8044444..1.8158263].\n"
     ]
    },
    {
     "name": "stdout",
     "output_type": "stream",
     "text": [
      "Saved 20 misclassified images to C:\\Users\\nhdkr\\off_plant_di_err_analyze\\results\n",
      "\n",
      "LeNet RESULTS:\n",
      "----------------------------------------\n",
      "Accuracy: 97.25%\n",
      "Error rate: 2.75%\n",
      "Files saved:\n",
      "  - Confusion Matrix CSV: C:\\Users\\nhdkr\\off_plant_di_err_analyze\\results\\lenet_confusion_matrix.csv\n",
      "  - Classification Stats: C:\\Users\\nhdkr\\off_plant_di_err_analyze\\results\\lenet_classification_stats.csv\n",
      "  - Confusion Matrix Plot: C:\\Users\\nhdkr\\off_plant_di_err_analyze\\results\\lenet_confusion_matrix.png\n",
      "Model saved to: C:\\Users\\nhdkr\\off_plant_di_err_analyze\\models\\lenet_final.pth\n",
      "\n",
      "================================================================================\n",
      "TRAINING MODEL 2/12: SimpleCNN\n",
      "================================================================================\n",
      "\n",
      "Training SimpleCNN...\n"
     ]
    },
    {
     "name": "stderr",
     "output_type": "stream",
     "text": [
      "Training: 100%|████████████████████████████████████████████████████████████████████| 1019/1019 [01:05<00:00, 15.46it/s]\n",
      "Validation: 100%|████████████████████████████████████████████████████████████████████| 340/340 [00:21<00:00, 15.53it/s]\n"
     ]
    },
    {
     "name": "stdout",
     "output_type": "stream",
     "text": [
      "Epoch 1: Train 54.0%, Val 72.9%\n"
     ]
    },
    {
     "name": "stderr",
     "output_type": "stream",
     "text": [
      "Training: 100%|████████████████████████████████████████████████████████████████████| 1019/1019 [01:06<00:00, 15.33it/s]\n",
      "Validation: 100%|████████████████████████████████████████████████████████████████████| 340/340 [00:22<00:00, 15.10it/s]\n"
     ]
    },
    {
     "name": "stdout",
     "output_type": "stream",
     "text": [
      "Epoch 2: Train 72.7%, Val 82.2%\n"
     ]
    },
    {
     "name": "stderr",
     "output_type": "stream",
     "text": [
      "Training: 100%|████████████████████████████████████████████████████████████████████| 1019/1019 [01:06<00:00, 15.21it/s]\n",
      "Validation: 100%|████████████████████████████████████████████████████████████████████| 340/340 [00:22<00:00, 15.10it/s]\n"
     ]
    },
    {
     "name": "stdout",
     "output_type": "stream",
     "text": [
      "Epoch 3: Train 79.6%, Val 86.9%\n"
     ]
    },
    {
     "name": "stderr",
     "output_type": "stream",
     "text": [
      "Training: 100%|████████████████████████████████████████████████████████████████████| 1019/1019 [01:06<00:00, 15.27it/s]\n",
      "Validation: 100%|████████████████████████████████████████████████████████████████████| 340/340 [00:22<00:00, 14.82it/s]\n"
     ]
    },
    {
     "name": "stdout",
     "output_type": "stream",
     "text": [
      "Epoch 4: Train 83.3%, Val 89.4%\n"
     ]
    },
    {
     "name": "stderr",
     "output_type": "stream",
     "text": [
      "Training: 100%|████████████████████████████████████████████████████████████████████| 1019/1019 [01:06<00:00, 15.25it/s]\n",
      "Validation: 100%|████████████████████████████████████████████████████████████████████| 340/340 [00:22<00:00, 15.15it/s]\n"
     ]
    },
    {
     "name": "stdout",
     "output_type": "stream",
     "text": [
      "Epoch 5: Train 86.1%, Val 90.2%\n"
     ]
    },
    {
     "name": "stderr",
     "output_type": "stream",
     "text": [
      "Training: 100%|████████████████████████████████████████████████████████████████████| 1019/1019 [01:06<00:00, 15.26it/s]\n",
      "Validation: 100%|████████████████████████████████████████████████████████████████████| 340/340 [00:22<00:00, 14.97it/s]\n"
     ]
    },
    {
     "name": "stdout",
     "output_type": "stream",
     "text": [
      "Epoch 6: Train 88.4%, Val 92.9%\n"
     ]
    },
    {
     "name": "stderr",
     "output_type": "stream",
     "text": [
      "Training: 100%|████████████████████████████████████████████████████████████████████| 1019/1019 [01:06<00:00, 15.23it/s]\n",
      "Validation: 100%|████████████████████████████████████████████████████████████████████| 340/340 [00:22<00:00, 14.93it/s]\n"
     ]
    },
    {
     "name": "stdout",
     "output_type": "stream",
     "text": [
      "Epoch 7: Train 89.9%, Val 94.4%\n"
     ]
    },
    {
     "name": "stderr",
     "output_type": "stream",
     "text": [
      "Training: 100%|████████████████████████████████████████████████████████████████████| 1019/1019 [01:06<00:00, 15.25it/s]\n",
      "Validation: 100%|████████████████████████████████████████████████████████████████████| 340/340 [00:22<00:00, 15.07it/s]\n"
     ]
    },
    {
     "name": "stdout",
     "output_type": "stream",
     "text": [
      "Epoch 8: Train 91.0%, Val 90.6%\n"
     ]
    },
    {
     "name": "stderr",
     "output_type": "stream",
     "text": [
      "Training: 100%|████████████████████████████████████████████████████████████████████| 1019/1019 [01:06<00:00, 15.21it/s]\n",
      "Validation: 100%|████████████████████████████████████████████████████████████████████| 340/340 [00:22<00:00, 15.10it/s]\n"
     ]
    },
    {
     "name": "stdout",
     "output_type": "stream",
     "text": [
      "Epoch 9: Train 92.0%, Val 95.0%\n"
     ]
    },
    {
     "name": "stderr",
     "output_type": "stream",
     "text": [
      "Training: 100%|████████████████████████████████████████████████████████████████████| 1019/1019 [01:06<00:00, 15.24it/s]\n",
      "Validation: 100%|████████████████████████████████████████████████████████████████████| 340/340 [00:22<00:00, 14.93it/s]\n"
     ]
    },
    {
     "name": "stdout",
     "output_type": "stream",
     "text": [
      "Epoch 10: Train 92.8%, Val 95.6%\n"
     ]
    },
    {
     "name": "stderr",
     "output_type": "stream",
     "text": [
      "Training: 100%|████████████████████████████████████████████████████████████████████| 1019/1019 [01:06<00:00, 15.27it/s]\n",
      "Validation: 100%|████████████████████████████████████████████████████████████████████| 340/340 [00:22<00:00, 14.85it/s]\n"
     ]
    },
    {
     "name": "stdout",
     "output_type": "stream",
     "text": [
      "Epoch 11: Train 93.1%, Val 97.0%\n"
     ]
    },
    {
     "name": "stderr",
     "output_type": "stream",
     "text": [
      "Training: 100%|████████████████████████████████████████████████████████████████████| 1019/1019 [01:06<00:00, 15.24it/s]\n",
      "Validation: 100%|████████████████████████████████████████████████████████████████████| 340/340 [00:22<00:00, 14.89it/s]\n"
     ]
    },
    {
     "name": "stdout",
     "output_type": "stream",
     "text": [
      "Epoch 12: Train 93.8%, Val 94.8%\n"
     ]
    },
    {
     "name": "stderr",
     "output_type": "stream",
     "text": [
      "Training: 100%|████████████████████████████████████████████████████████████████████| 1019/1019 [01:06<00:00, 15.22it/s]\n",
      "Validation: 100%|████████████████████████████████████████████████████████████████████| 340/340 [00:22<00:00, 15.04it/s]\n"
     ]
    },
    {
     "name": "stdout",
     "output_type": "stream",
     "text": [
      "Epoch 13: Train 94.3%, Val 97.1%\n"
     ]
    },
    {
     "name": "stderr",
     "output_type": "stream",
     "text": [
      "Training: 100%|████████████████████████████████████████████████████████████████████| 1019/1019 [01:06<00:00, 15.27it/s]\n",
      "Validation: 100%|████████████████████████████████████████████████████████████████████| 340/340 [00:22<00:00, 14.90it/s]\n"
     ]
    },
    {
     "name": "stdout",
     "output_type": "stream",
     "text": [
      "Epoch 14: Train 94.9%, Val 96.5%\n"
     ]
    },
    {
     "name": "stderr",
     "output_type": "stream",
     "text": [
      "Training: 100%|████████████████████████████████████████████████████████████████████| 1019/1019 [01:06<00:00, 15.26it/s]\n",
      "Validation: 100%|████████████████████████████████████████████████████████████████████| 340/340 [00:23<00:00, 14.77it/s]\n"
     ]
    },
    {
     "name": "stdout",
     "output_type": "stream",
     "text": [
      "Epoch 15: Train 95.3%, Val 97.4%\n"
     ]
    },
    {
     "name": "stderr",
     "output_type": "stream",
     "text": [
      "Training: 100%|████████████████████████████████████████████████████████████████████| 1019/1019 [01:06<00:00, 15.23it/s]\n",
      "Validation: 100%|████████████████████████████████████████████████████████████████████| 340/340 [00:22<00:00, 14.91it/s]\n"
     ]
    },
    {
     "name": "stdout",
     "output_type": "stream",
     "text": [
      "Epoch 16: Train 95.5%, Val 97.7%\n"
     ]
    },
    {
     "name": "stderr",
     "output_type": "stream",
     "text": [
      "Training: 100%|████████████████████████████████████████████████████████████████████| 1019/1019 [01:07<00:00, 15.11it/s]\n",
      "Validation: 100%|████████████████████████████████████████████████████████████████████| 340/340 [00:22<00:00, 14.79it/s]\n"
     ]
    },
    {
     "name": "stdout",
     "output_type": "stream",
     "text": [
      "Epoch 17: Train 96.0%, Val 98.0%\n"
     ]
    },
    {
     "name": "stderr",
     "output_type": "stream",
     "text": [
      "Training: 100%|████████████████████████████████████████████████████████████████████| 1019/1019 [01:06<00:00, 15.23it/s]\n",
      "Validation: 100%|████████████████████████████████████████████████████████████████████| 340/340 [00:22<00:00, 14.88it/s]\n"
     ]
    },
    {
     "name": "stdout",
     "output_type": "stream",
     "text": [
      "Epoch 18: Train 96.2%, Val 97.5%\n"
     ]
    },
    {
     "name": "stderr",
     "output_type": "stream",
     "text": [
      "Training: 100%|████████████████████████████████████████████████████████████████████| 1019/1019 [01:06<00:00, 15.22it/s]\n",
      "Validation: 100%|████████████████████████████████████████████████████████████████████| 340/340 [00:22<00:00, 15.09it/s]\n"
     ]
    },
    {
     "name": "stdout",
     "output_type": "stream",
     "text": [
      "Epoch 19: Train 96.5%, Val 98.0%\n"
     ]
    },
    {
     "name": "stderr",
     "output_type": "stream",
     "text": [
      "Training: 100%|████████████████████████████████████████████████████████████████████| 1019/1019 [01:06<00:00, 15.21it/s]\n",
      "Validation: 100%|████████████████████████████████████████████████████████████████████| 340/340 [00:22<00:00, 15.01it/s]\n"
     ]
    },
    {
     "name": "stdout",
     "output_type": "stream",
     "text": [
      "Epoch 20: Train 96.7%, Val 98.0%\n"
     ]
    },
    {
     "name": "stderr",
     "output_type": "stream",
     "text": [
      "Training: 100%|████████████████████████████████████████████████████████████████████| 1019/1019 [01:06<00:00, 15.25it/s]\n",
      "Validation: 100%|████████████████████████████████████████████████████████████████████| 340/340 [00:22<00:00, 15.08it/s]\n"
     ]
    },
    {
     "name": "stdout",
     "output_type": "stream",
     "text": [
      "Epoch 21: Train 97.1%, Val 98.7%\n"
     ]
    },
    {
     "name": "stderr",
     "output_type": "stream",
     "text": [
      "Training: 100%|████████████████████████████████████████████████████████████████████| 1019/1019 [01:06<00:00, 15.22it/s]\n",
      "Validation: 100%|████████████████████████████████████████████████████████████████████| 340/340 [00:23<00:00, 14.74it/s]\n"
     ]
    },
    {
     "name": "stdout",
     "output_type": "stream",
     "text": [
      "Epoch 22: Train 97.2%, Val 98.9%\n"
     ]
    },
    {
     "name": "stderr",
     "output_type": "stream",
     "text": [
      "Training: 100%|████████████████████████████████████████████████████████████████████| 1019/1019 [01:06<00:00, 15.24it/s]\n",
      "Validation: 100%|████████████████████████████████████████████████████████████████████| 340/340 [00:22<00:00, 15.02it/s]\n"
     ]
    },
    {
     "name": "stdout",
     "output_type": "stream",
     "text": [
      "Epoch 23: Train 97.4%, Val 98.9%\n"
     ]
    },
    {
     "name": "stderr",
     "output_type": "stream",
     "text": [
      "Training: 100%|████████████████████████████████████████████████████████████████████| 1019/1019 [01:06<00:00, 15.21it/s]\n",
      "Validation: 100%|████████████████████████████████████████████████████████████████████| 340/340 [00:22<00:00, 14.94it/s]\n"
     ]
    },
    {
     "name": "stdout",
     "output_type": "stream",
     "text": [
      "Epoch 24: Train 97.6%, Val 99.1%\n"
     ]
    },
    {
     "name": "stderr",
     "output_type": "stream",
     "text": [
      "Training: 100%|████████████████████████████████████████████████████████████████████| 1019/1019 [01:06<00:00, 15.24it/s]\n",
      "Validation: 100%|████████████████████████████████████████████████████████████████████| 340/340 [00:23<00:00, 14.74it/s]\n"
     ]
    },
    {
     "name": "stdout",
     "output_type": "stream",
     "text": [
      "Epoch 25: Train 97.6%, Val 98.7%\n"
     ]
    },
    {
     "name": "stderr",
     "output_type": "stream",
     "text": [
      "Training: 100%|████████████████████████████████████████████████████████████████████| 1019/1019 [01:06<00:00, 15.25it/s]\n",
      "Validation: 100%|████████████████████████████████████████████████████████████████████| 340/340 [00:23<00:00, 14.73it/s]\n"
     ]
    },
    {
     "name": "stdout",
     "output_type": "stream",
     "text": [
      "Epoch 26: Train 98.1%, Val 99.0%\n"
     ]
    },
    {
     "name": "stderr",
     "output_type": "stream",
     "text": [
      "Training: 100%|████████████████████████████████████████████████████████████████████| 1019/1019 [01:06<00:00, 15.22it/s]\n",
      "Validation: 100%|████████████████████████████████████████████████████████████████████| 340/340 [00:23<00:00, 14.74it/s]\n"
     ]
    },
    {
     "name": "stdout",
     "output_type": "stream",
     "text": [
      "Epoch 27: Train 98.0%, Val 99.2%\n"
     ]
    },
    {
     "name": "stderr",
     "output_type": "stream",
     "text": [
      "Training: 100%|████████████████████████████████████████████████████████████████████| 1019/1019 [01:06<00:00, 15.23it/s]\n",
      "Validation: 100%|████████████████████████████████████████████████████████████████████| 340/340 [00:22<00:00, 14.84it/s]\n"
     ]
    },
    {
     "name": "stdout",
     "output_type": "stream",
     "text": [
      "Epoch 28: Train 98.2%, Val 99.3%\n"
     ]
    },
    {
     "name": "stderr",
     "output_type": "stream",
     "text": [
      "Training: 100%|████████████████████████████████████████████████████████████████████| 1019/1019 [01:06<00:00, 15.23it/s]\n",
      "Validation: 100%|████████████████████████████████████████████████████████████████████| 340/340 [00:23<00:00, 14.62it/s]\n"
     ]
    },
    {
     "name": "stdout",
     "output_type": "stream",
     "text": [
      "Epoch 29: Train 98.3%, Val 99.2%\n"
     ]
    },
    {
     "name": "stderr",
     "output_type": "stream",
     "text": [
      "Training: 100%|████████████████████████████████████████████████████████████████████| 1019/1019 [01:06<00:00, 15.22it/s]\n",
      "Validation: 100%|████████████████████████████████████████████████████████████████████| 340/340 [00:22<00:00, 14.84it/s]\n"
     ]
    },
    {
     "name": "stdout",
     "output_type": "stream",
     "text": [
      "Epoch 30: Train 98.5%, Val 99.4%\n"
     ]
    },
    {
     "name": "stderr",
     "output_type": "stream",
     "text": [
      "Training: 100%|████████████████████████████████████████████████████████████████████| 1019/1019 [01:06<00:00, 15.24it/s]\n",
      "Validation: 100%|████████████████████████████████████████████████████████████████████| 340/340 [00:22<00:00, 14.95it/s]\n"
     ]
    },
    {
     "name": "stdout",
     "output_type": "stream",
     "text": [
      "Epoch 31: Train 98.7%, Val 99.3%\n"
     ]
    },
    {
     "name": "stderr",
     "output_type": "stream",
     "text": [
      "Training: 100%|████████████████████████████████████████████████████████████████████| 1019/1019 [01:06<00:00, 15.24it/s]\n",
      "Validation: 100%|████████████████████████████████████████████████████████████████████| 340/340 [00:22<00:00, 14.95it/s]\n"
     ]
    },
    {
     "name": "stdout",
     "output_type": "stream",
     "text": [
      "Epoch 32: Train 98.7%, Val 99.4%\n"
     ]
    },
    {
     "name": "stderr",
     "output_type": "stream",
     "text": [
      "Training: 100%|████████████████████████████████████████████████████████████████████| 1019/1019 [01:07<00:00, 15.20it/s]\n",
      "Validation: 100%|████████████████████████████████████████████████████████████████████| 340/340 [00:23<00:00, 14.70it/s]\n"
     ]
    },
    {
     "name": "stdout",
     "output_type": "stream",
     "text": [
      "Epoch 33: Train 98.7%, Val 99.5%\n"
     ]
    },
    {
     "name": "stderr",
     "output_type": "stream",
     "text": [
      "Training: 100%|████████████████████████████████████████████████████████████████████| 1019/1019 [01:06<00:00, 15.23it/s]\n",
      "Validation: 100%|████████████████████████████████████████████████████████████████████| 340/340 [00:22<00:00, 14.85it/s]\n"
     ]
    },
    {
     "name": "stdout",
     "output_type": "stream",
     "text": [
      "Epoch 34: Train 98.7%, Val 99.4%\n"
     ]
    },
    {
     "name": "stderr",
     "output_type": "stream",
     "text": [
      "Training: 100%|████████████████████████████████████████████████████████████████████| 1019/1019 [01:06<00:00, 15.21it/s]\n",
      "Validation: 100%|████████████████████████████████████████████████████████████████████| 340/340 [00:22<00:00, 14.80it/s]\n"
     ]
    },
    {
     "name": "stdout",
     "output_type": "stream",
     "text": [
      "Epoch 35: Train 98.9%, Val 99.5%\n"
     ]
    },
    {
     "name": "stderr",
     "output_type": "stream",
     "text": [
      "Training: 100%|████████████████████████████████████████████████████████████████████| 1019/1019 [01:06<00:00, 15.25it/s]\n",
      "Validation: 100%|████████████████████████████████████████████████████████████████████| 340/340 [00:22<00:00, 14.86it/s]\n"
     ]
    },
    {
     "name": "stdout",
     "output_type": "stream",
     "text": [
      "Epoch 36: Train 98.9%, Val 99.5%\n"
     ]
    },
    {
     "name": "stderr",
     "output_type": "stream",
     "text": [
      "Training: 100%|████████████████████████████████████████████████████████████████████| 1019/1019 [01:06<00:00, 15.24it/s]\n",
      "Validation: 100%|████████████████████████████████████████████████████████████████████| 340/340 [00:22<00:00, 14.88it/s]\n"
     ]
    },
    {
     "name": "stdout",
     "output_type": "stream",
     "text": [
      "Epoch 37: Train 99.0%, Val 99.4%\n"
     ]
    },
    {
     "name": "stderr",
     "output_type": "stream",
     "text": [
      "Training: 100%|████████████████████████████████████████████████████████████████████| 1019/1019 [01:06<00:00, 15.23it/s]\n",
      "Validation: 100%|████████████████████████████████████████████████████████████████████| 340/340 [00:22<00:00, 14.87it/s]\n"
     ]
    },
    {
     "name": "stdout",
     "output_type": "stream",
     "text": [
      "Epoch 38: Train 99.0%, Val 99.5%\n"
     ]
    },
    {
     "name": "stderr",
     "output_type": "stream",
     "text": [
      "Training: 100%|████████████████████████████████████████████████████████████████████| 1019/1019 [01:06<00:00, 15.22it/s]\n",
      "Validation: 100%|████████████████████████████████████████████████████████████████████| 340/340 [00:23<00:00, 14.68it/s]\n"
     ]
    },
    {
     "name": "stdout",
     "output_type": "stream",
     "text": [
      "Epoch 39: Train 99.0%, Val 99.5%\n"
     ]
    },
    {
     "name": "stderr",
     "output_type": "stream",
     "text": [
      "Training: 100%|████████████████████████████████████████████████████████████████████| 1019/1019 [01:07<00:00, 15.20it/s]\n",
      "Validation: 100%|████████████████████████████████████████████████████████████████████| 340/340 [00:23<00:00, 14.60it/s]\n"
     ]
    },
    {
     "name": "stdout",
     "output_type": "stream",
     "text": [
      "Epoch 40: Train 99.0%, Val 99.5%\n"
     ]
    },
    {
     "name": "stderr",
     "output_type": "stream",
     "text": [
      "Validation: 100%|████████████████████████████████████████████████████████████████████| 340/340 [00:22<00:00, 15.11it/s]\n"
     ]
    },
    {
     "name": "stdout",
     "output_type": "stream",
     "text": [
      "Confusion matrix saved: C:\\Users\\nhdkr\\off_plant_di_err_analyze\\results\\simplecnn_confusion_matrix.csv\n",
      "Classification statistics saved: C:\\Users\\nhdkr\\off_plant_di_err_analyze\\results\\simplecnn_classification_stats.csv\n"
     ]
    },
    {
     "name": "stderr",
     "output_type": "stream",
     "text": [
      "Clipping input data to the valid range for imshow with RGB data ([0..1] for floats or [0..255] for integers). Got range [-2.117904..2.64].\n",
      "Clipping input data to the valid range for imshow with RGB data ([0..1] for floats or [0..255] for integers). Got range [-1.7695861..1.4782944].\n"
     ]
    },
    {
     "name": "stdout",
     "output_type": "stream",
     "text": [
      "Confusion matrix plot saved: C:\\Users\\nhdkr\\off_plant_di_err_analyze\\results\\simplecnn_confusion_matrix.png\n",
      "Top-k Accuracy: {'top_1_acc': 99.48439370223736, 'top_3_acc': 99.98158548936561, 'top_5_acc': 99.9907927446828}\n"
     ]
    },
    {
     "name": "stderr",
     "output_type": "stream",
     "text": [
      "Clipping input data to the valid range for imshow with RGB data ([0..1] for floats or [0..255] for integers). Got range [-1.9656862..2.1519828].\n",
      "Clipping input data to the valid range for imshow with RGB data ([0..1] for floats or [0..255] for integers). Got range [-1.7411594..1.8731157].\n",
      "Clipping input data to the valid range for imshow with RGB data ([0..1] for floats or [0..255] for integers). Got range [-1.7870152..2.3088455].\n",
      "Clipping input data to the valid range for imshow with RGB data ([0..1] for floats or [0..255] for integers). Got range [-1.7754089..2.2391288].\n",
      "Clipping input data to the valid range for imshow with RGB data ([0..1] for floats or [0..255] for integers). Got range [-1.8610327..1.9908963].\n",
      "Clipping input data to the valid range for imshow with RGB data ([0..1] for floats or [0..255] for integers). Got range [-1.5455182..2.64].\n",
      "Clipping input data to the valid range for imshow with RGB data ([0..1] for floats or [0..255] for integers). Got range [-1.9980307..1.8905448].\n",
      "Clipping input data to the valid range for imshow with RGB data ([0..1] for floats or [0..255] for integers). Got range [-1.7695861..1.9577874].\n",
      "Clipping input data to the valid range for imshow with RGB data ([0..1] for floats or [0..255] for integers). Got range [-2.117904..2.1484594].\n",
      "Clipping input data to the valid range for imshow with RGB data ([0..1] for floats or [0..255] for integers). Got range [-2.0836544..2.0299783].\n",
      "Clipping input data to the valid range for imshow with RGB data ([0..1] for floats or [0..255] for integers). Got range [-1.9656862..2.0125492].\n",
      "Clipping input data to the valid range for imshow with RGB data ([0..1] for floats or [0..255] for integers). Got range [-1.8044444..1.7633053].\n",
      "Clipping input data to the valid range for imshow with RGB data ([0..1] for floats or [0..255] for integers). Got range [-1.9637812..1.8333333].\n",
      "Clipping input data to the valid range for imshow with RGB data ([0..1] for floats or [0..255] for integers). Got range [-2.0494049..1.541961].\n",
      "Clipping input data to the valid range for imshow with RGB data ([0..1] for floats or [0..255] for integers). Got range [-1.68244..1.5467933].\n",
      "Clipping input data to the valid range for imshow with RGB data ([0..1] for floats or [0..255] for integers). Got range [-1.8044444..1.5882353].\n",
      "Clipping input data to the valid range for imshow with RGB data ([0..1] for floats or [0..255] for integers). Got range [-2.117904..2.3760502].\n",
      "Clipping input data to the valid range for imshow with RGB data ([0..1] for floats or [0..255] for integers). Got range [-2.1007793..2.2042704].\n"
     ]
    },
    {
     "name": "stdout",
     "output_type": "stream",
     "text": [
      "Saved 20 misclassified images to C:\\Users\\nhdkr\\off_plant_di_err_analyze\\results\n",
      "\n",
      "SimpleCNN RESULTS:\n",
      "----------------------------------------\n",
      "Accuracy: 99.48%\n",
      "Error rate: 0.52%\n",
      "Files saved:\n",
      "  - Confusion Matrix CSV: C:\\Users\\nhdkr\\off_plant_di_err_analyze\\results\\simplecnn_confusion_matrix.csv\n",
      "  - Classification Stats: C:\\Users\\nhdkr\\off_plant_di_err_analyze\\results\\simplecnn_classification_stats.csv\n",
      "  - Confusion Matrix Plot: C:\\Users\\nhdkr\\off_plant_di_err_analyze\\results\\simplecnn_confusion_matrix.png\n",
      "Model saved to: C:\\Users\\nhdkr\\off_plant_di_err_analyze\\models\\simplecnn_final.pth\n",
      "\n",
      "================================================================================\n",
      "TRAINING MODEL 3/12: AlexNet\n",
      "================================================================================\n",
      "\n",
      "Training AlexNet...\n"
     ]
    },
    {
     "name": "stderr",
     "output_type": "stream",
     "text": [
      "Training: 100%|████████████████████████████████████████████████████████████████████| 1019/1019 [01:03<00:00, 15.94it/s]\n",
      "Validation: 100%|████████████████████████████████████████████████████████████████████| 340/340 [00:22<00:00, 14.97it/s]\n"
     ]
    },
    {
     "name": "stdout",
     "output_type": "stream",
     "text": [
      "Epoch 1: Train 37.0%, Val 58.0%\n"
     ]
    },
    {
     "name": "stderr",
     "output_type": "stream",
     "text": [
      "Training: 100%|████████████████████████████████████████████████████████████████████| 1019/1019 [01:03<00:00, 16.04it/s]\n",
      "Validation: 100%|████████████████████████████████████████████████████████████████████| 340/340 [00:22<00:00, 15.18it/s]\n"
     ]
    },
    {
     "name": "stdout",
     "output_type": "stream",
     "text": [
      "Epoch 2: Train 61.2%, Val 69.1%\n"
     ]
    },
    {
     "name": "stderr",
     "output_type": "stream",
     "text": [
      "Training: 100%|████████████████████████████████████████████████████████████████████| 1019/1019 [01:03<00:00, 16.04it/s]\n",
      "Validation: 100%|████████████████████████████████████████████████████████████████████| 340/340 [00:22<00:00, 15.13it/s]\n"
     ]
    },
    {
     "name": "stdout",
     "output_type": "stream",
     "text": [
      "Epoch 3: Train 68.8%, Val 74.8%\n"
     ]
    },
    {
     "name": "stderr",
     "output_type": "stream",
     "text": [
      "Training: 100%|████████████████████████████████████████████████████████████████████| 1019/1019 [01:03<00:00, 15.97it/s]\n",
      "Validation: 100%|████████████████████████████████████████████████████████████████████| 340/340 [00:22<00:00, 15.02it/s]\n"
     ]
    },
    {
     "name": "stdout",
     "output_type": "stream",
     "text": [
      "Epoch 4: Train 72.5%, Val 78.6%\n"
     ]
    },
    {
     "name": "stderr",
     "output_type": "stream",
     "text": [
      "Training: 100%|████████████████████████████████████████████████████████████████████| 1019/1019 [01:03<00:00, 16.16it/s]\n",
      "Validation: 100%|████████████████████████████████████████████████████████████████████| 340/340 [00:22<00:00, 14.92it/s]\n"
     ]
    },
    {
     "name": "stdout",
     "output_type": "stream",
     "text": [
      "Epoch 5: Train 75.5%, Val 80.6%\n"
     ]
    },
    {
     "name": "stderr",
     "output_type": "stream",
     "text": [
      "Training: 100%|████████████████████████████████████████████████████████████████████| 1019/1019 [01:03<00:00, 15.97it/s]\n",
      "Validation: 100%|████████████████████████████████████████████████████████████████████| 340/340 [00:22<00:00, 15.19it/s]\n"
     ]
    },
    {
     "name": "stdout",
     "output_type": "stream",
     "text": [
      "Epoch 6: Train 77.0%, Val 82.7%\n"
     ]
    },
    {
     "name": "stderr",
     "output_type": "stream",
     "text": [
      "Training: 100%|████████████████████████████████████████████████████████████████████| 1019/1019 [01:03<00:00, 15.96it/s]\n",
      "Validation: 100%|████████████████████████████████████████████████████████████████████| 340/340 [00:22<00:00, 14.96it/s]\n"
     ]
    },
    {
     "name": "stdout",
     "output_type": "stream",
     "text": [
      "Epoch 7: Train 78.4%, Val 83.8%\n"
     ]
    },
    {
     "name": "stderr",
     "output_type": "stream",
     "text": [
      "Training: 100%|████████████████████████████████████████████████████████████████████| 1019/1019 [01:03<00:00, 16.09it/s]\n",
      "Validation: 100%|████████████████████████████████████████████████████████████████████| 340/340 [00:22<00:00, 15.26it/s]\n"
     ]
    },
    {
     "name": "stdout",
     "output_type": "stream",
     "text": [
      "Epoch 8: Train 79.5%, Val 84.2%\n"
     ]
    },
    {
     "name": "stderr",
     "output_type": "stream",
     "text": [
      "Training: 100%|████████████████████████████████████████████████████████████████████| 1019/1019 [01:03<00:00, 16.02it/s]\n",
      "Validation: 100%|████████████████████████████████████████████████████████████████████| 340/340 [00:22<00:00, 14.87it/s]\n"
     ]
    },
    {
     "name": "stdout",
     "output_type": "stream",
     "text": [
      "Epoch 9: Train 80.8%, Val 84.1%\n"
     ]
    },
    {
     "name": "stderr",
     "output_type": "stream",
     "text": [
      "Training: 100%|████████████████████████████████████████████████████████████████████| 1019/1019 [01:03<00:00, 15.94it/s]\n",
      "Validation: 100%|████████████████████████████████████████████████████████████████████| 340/340 [00:23<00:00, 14.74it/s]\n"
     ]
    },
    {
     "name": "stdout",
     "output_type": "stream",
     "text": [
      "Epoch 10: Train 80.9%, Val 85.6%\n"
     ]
    },
    {
     "name": "stderr",
     "output_type": "stream",
     "text": [
      "Training: 100%|████████████████████████████████████████████████████████████████████| 1019/1019 [01:03<00:00, 15.97it/s]\n",
      "Validation: 100%|████████████████████████████████████████████████████████████████████| 340/340 [00:22<00:00, 15.02it/s]\n"
     ]
    },
    {
     "name": "stdout",
     "output_type": "stream",
     "text": [
      "Epoch 11: Train 82.4%, Val 86.7%\n"
     ]
    },
    {
     "name": "stderr",
     "output_type": "stream",
     "text": [
      "Training: 100%|████████████████████████████████████████████████████████████████████| 1019/1019 [01:03<00:00, 15.98it/s]\n",
      "Validation: 100%|████████████████████████████████████████████████████████████████████| 340/340 [00:23<00:00, 14.71it/s]\n"
     ]
    },
    {
     "name": "stdout",
     "output_type": "stream",
     "text": [
      "Epoch 12: Train 83.1%, Val 86.8%\n"
     ]
    },
    {
     "name": "stderr",
     "output_type": "stream",
     "text": [
      "Training: 100%|████████████████████████████████████████████████████████████████████| 1019/1019 [01:03<00:00, 15.98it/s]\n",
      "Validation: 100%|████████████████████████████████████████████████████████████████████| 340/340 [00:22<00:00, 14.85it/s]\n"
     ]
    },
    {
     "name": "stdout",
     "output_type": "stream",
     "text": [
      "Epoch 13: Train 84.0%, Val 84.4%\n"
     ]
    },
    {
     "name": "stderr",
     "output_type": "stream",
     "text": [
      "Training: 100%|████████████████████████████████████████████████████████████████████| 1019/1019 [01:03<00:00, 16.00it/s]\n",
      "Validation: 100%|████████████████████████████████████████████████████████████████████| 340/340 [00:22<00:00, 14.86it/s]\n"
     ]
    },
    {
     "name": "stdout",
     "output_type": "stream",
     "text": [
      "Epoch 14: Train 84.5%, Val 86.0%\n"
     ]
    },
    {
     "name": "stderr",
     "output_type": "stream",
     "text": [
      "Training: 100%|████████████████████████████████████████████████████████████████████| 1019/1019 [01:03<00:00, 16.00it/s]\n",
      "Validation: 100%|████████████████████████████████████████████████████████████████████| 340/340 [00:22<00:00, 15.09it/s]\n"
     ]
    },
    {
     "name": "stdout",
     "output_type": "stream",
     "text": [
      "Epoch 15: Train 85.4%, Val 87.0%\n"
     ]
    },
    {
     "name": "stderr",
     "output_type": "stream",
     "text": [
      "Training: 100%|████████████████████████████████████████████████████████████████████| 1019/1019 [01:06<00:00, 15.42it/s]\n",
      "Validation: 100%|████████████████████████████████████████████████████████████████████| 340/340 [00:26<00:00, 12.78it/s]\n"
     ]
    },
    {
     "name": "stdout",
     "output_type": "stream",
     "text": [
      "Epoch 16: Train 86.2%, Val 89.4%\n"
     ]
    },
    {
     "name": "stderr",
     "output_type": "stream",
     "text": [
      "Training: 100%|████████████████████████████████████████████████████████████████████| 1019/1019 [01:07<00:00, 15.04it/s]\n",
      "Validation: 100%|████████████████████████████████████████████████████████████████████| 340/340 [00:22<00:00, 15.03it/s]\n"
     ]
    },
    {
     "name": "stdout",
     "output_type": "stream",
     "text": [
      "Epoch 17: Train 86.4%, Val 89.9%\n"
     ]
    },
    {
     "name": "stderr",
     "output_type": "stream",
     "text": [
      "Training: 100%|████████████████████████████████████████████████████████████████████| 1019/1019 [01:03<00:00, 16.04it/s]\n",
      "Validation: 100%|████████████████████████████████████████████████████████████████████| 340/340 [00:22<00:00, 14.86it/s]\n"
     ]
    },
    {
     "name": "stdout",
     "output_type": "stream",
     "text": [
      "Epoch 18: Train 87.2%, Val 89.3%\n"
     ]
    },
    {
     "name": "stderr",
     "output_type": "stream",
     "text": [
      "Training: 100%|████████████████████████████████████████████████████████████████████| 1019/1019 [01:03<00:00, 16.10it/s]\n",
      "Validation: 100%|████████████████████████████████████████████████████████████████████| 340/340 [00:22<00:00, 15.02it/s]\n"
     ]
    },
    {
     "name": "stdout",
     "output_type": "stream",
     "text": [
      "Epoch 19: Train 88.1%, Val 91.2%\n"
     ]
    },
    {
     "name": "stderr",
     "output_type": "stream",
     "text": [
      "Training: 100%|████████████████████████████████████████████████████████████████████| 1019/1019 [01:02<00:00, 16.22it/s]\n",
      "Validation: 100%|████████████████████████████████████████████████████████████████████| 340/340 [00:22<00:00, 15.17it/s]\n"
     ]
    },
    {
     "name": "stdout",
     "output_type": "stream",
     "text": [
      "Epoch 20: Train 88.9%, Val 90.4%\n"
     ]
    },
    {
     "name": "stderr",
     "output_type": "stream",
     "text": [
      "Training: 100%|████████████████████████████████████████████████████████████████████| 1019/1019 [01:03<00:00, 16.04it/s]\n",
      "Validation: 100%|████████████████████████████████████████████████████████████████████| 340/340 [00:22<00:00, 14.96it/s]\n"
     ]
    },
    {
     "name": "stdout",
     "output_type": "stream",
     "text": [
      "Epoch 21: Train 89.4%, Val 89.0%\n"
     ]
    },
    {
     "name": "stderr",
     "output_type": "stream",
     "text": [
      "Training: 100%|████████████████████████████████████████████████████████████████████| 1019/1019 [01:03<00:00, 16.09it/s]\n",
      "Validation: 100%|████████████████████████████████████████████████████████████████████| 340/340 [00:22<00:00, 15.13it/s]\n"
     ]
    },
    {
     "name": "stdout",
     "output_type": "stream",
     "text": [
      "Epoch 22: Train 89.7%, Val 89.5%\n"
     ]
    },
    {
     "name": "stderr",
     "output_type": "stream",
     "text": [
      "Training: 100%|████████████████████████████████████████████████████████████████████| 1019/1019 [01:02<00:00, 16.19it/s]\n",
      "Validation: 100%|████████████████████████████████████████████████████████████████████| 340/340 [00:22<00:00, 14.99it/s]\n"
     ]
    },
    {
     "name": "stdout",
     "output_type": "stream",
     "text": [
      "Epoch 23: Train 90.0%, Val 92.1%\n"
     ]
    },
    {
     "name": "stderr",
     "output_type": "stream",
     "text": [
      "Training: 100%|████████████████████████████████████████████████████████████████████| 1019/1019 [01:03<00:00, 16.10it/s]\n",
      "Validation: 100%|████████████████████████████████████████████████████████████████████| 340/340 [00:22<00:00, 14.94it/s]\n"
     ]
    },
    {
     "name": "stdout",
     "output_type": "stream",
     "text": [
      "Epoch 24: Train 91.0%, Val 93.1%\n"
     ]
    },
    {
     "name": "stderr",
     "output_type": "stream",
     "text": [
      "Training: 100%|████████████████████████████████████████████████████████████████████| 1019/1019 [01:03<00:00, 16.17it/s]\n",
      "Validation: 100%|████████████████████████████████████████████████████████████████████| 340/340 [00:22<00:00, 15.12it/s]\n"
     ]
    },
    {
     "name": "stdout",
     "output_type": "stream",
     "text": [
      "Epoch 25: Train 91.4%, Val 92.9%\n"
     ]
    },
    {
     "name": "stderr",
     "output_type": "stream",
     "text": [
      "Training: 100%|████████████████████████████████████████████████████████████████████| 1019/1019 [01:03<00:00, 16.01it/s]\n",
      "Validation: 100%|████████████████████████████████████████████████████████████████████| 340/340 [00:22<00:00, 14.82it/s]\n"
     ]
    },
    {
     "name": "stdout",
     "output_type": "stream",
     "text": [
      "Epoch 26: Train 92.3%, Val 93.0%\n"
     ]
    },
    {
     "name": "stderr",
     "output_type": "stream",
     "text": [
      "Training: 100%|████████████████████████████████████████████████████████████████████| 1019/1019 [01:04<00:00, 15.71it/s]\n",
      "Validation: 100%|████████████████████████████████████████████████████████████████████| 340/340 [00:22<00:00, 15.01it/s]\n"
     ]
    },
    {
     "name": "stdout",
     "output_type": "stream",
     "text": [
      "Epoch 27: Train 92.6%, Val 93.5%\n"
     ]
    },
    {
     "name": "stderr",
     "output_type": "stream",
     "text": [
      "Training: 100%|████████████████████████████████████████████████████████████████████| 1019/1019 [01:03<00:00, 16.03it/s]\n",
      "Validation: 100%|████████████████████████████████████████████████████████████████████| 340/340 [00:22<00:00, 15.18it/s]\n"
     ]
    },
    {
     "name": "stdout",
     "output_type": "stream",
     "text": [
      "Epoch 28: Train 93.0%, Val 93.8%\n"
     ]
    },
    {
     "name": "stderr",
     "output_type": "stream",
     "text": [
      "Training: 100%|████████████████████████████████████████████████████████████████████| 1019/1019 [01:03<00:00, 16.16it/s]\n",
      "Validation: 100%|████████████████████████████████████████████████████████████████████| 340/340 [00:22<00:00, 15.08it/s]\n"
     ]
    },
    {
     "name": "stdout",
     "output_type": "stream",
     "text": [
      "Epoch 29: Train 93.6%, Val 94.2%\n"
     ]
    },
    {
     "name": "stderr",
     "output_type": "stream",
     "text": [
      "Training: 100%|████████████████████████████████████████████████████████████████████| 1019/1019 [01:03<00:00, 15.95it/s]\n",
      "Validation: 100%|████████████████████████████████████████████████████████████████████| 340/340 [00:22<00:00, 15.03it/s]\n"
     ]
    },
    {
     "name": "stdout",
     "output_type": "stream",
     "text": [
      "Epoch 30: Train 94.1%, Val 94.3%\n"
     ]
    },
    {
     "name": "stderr",
     "output_type": "stream",
     "text": [
      "Training: 100%|████████████████████████████████████████████████████████████████████| 1019/1019 [01:03<00:00, 16.06it/s]\n",
      "Validation: 100%|████████████████████████████████████████████████████████████████████| 340/340 [00:22<00:00, 15.03it/s]\n"
     ]
    },
    {
     "name": "stdout",
     "output_type": "stream",
     "text": [
      "Epoch 31: Train 94.3%, Val 94.7%\n"
     ]
    },
    {
     "name": "stderr",
     "output_type": "stream",
     "text": [
      "Training: 100%|████████████████████████████████████████████████████████████████████| 1019/1019 [01:03<00:00, 16.01it/s]\n",
      "Validation: 100%|████████████████████████████████████████████████████████████████████| 340/340 [00:22<00:00, 15.30it/s]\n"
     ]
    },
    {
     "name": "stdout",
     "output_type": "stream",
     "text": [
      "Epoch 32: Train 94.8%, Val 94.8%\n"
     ]
    },
    {
     "name": "stderr",
     "output_type": "stream",
     "text": [
      "Training: 100%|████████████████████████████████████████████████████████████████████| 1019/1019 [01:03<00:00, 16.11it/s]\n",
      "Validation: 100%|████████████████████████████████████████████████████████████████████| 340/340 [00:22<00:00, 15.21it/s]\n"
     ]
    },
    {
     "name": "stdout",
     "output_type": "stream",
     "text": [
      "Epoch 33: Train 94.9%, Val 94.8%\n"
     ]
    },
    {
     "name": "stderr",
     "output_type": "stream",
     "text": [
      "Training: 100%|████████████████████████████████████████████████████████████████████| 1019/1019 [01:03<00:00, 16.07it/s]\n",
      "Validation: 100%|████████████████████████████████████████████████████████████████████| 340/340 [00:22<00:00, 15.00it/s]\n"
     ]
    },
    {
     "name": "stdout",
     "output_type": "stream",
     "text": [
      "Epoch 34: Train 95.1%, Val 95.0%\n"
     ]
    },
    {
     "name": "stderr",
     "output_type": "stream",
     "text": [
      "Training: 100%|████████████████████████████████████████████████████████████████████| 1019/1019 [01:03<00:00, 16.02it/s]\n",
      "Validation: 100%|████████████████████████████████████████████████████████████████████| 340/340 [00:22<00:00, 14.94it/s]\n"
     ]
    },
    {
     "name": "stdout",
     "output_type": "stream",
     "text": [
      "Epoch 35: Train 95.5%, Val 95.0%\n"
     ]
    },
    {
     "name": "stderr",
     "output_type": "stream",
     "text": [
      "Training: 100%|████████████████████████████████████████████████████████████████████| 1019/1019 [01:03<00:00, 16.10it/s]\n",
      "Validation: 100%|████████████████████████████████████████████████████████████████████| 340/340 [00:22<00:00, 15.15it/s]\n"
     ]
    },
    {
     "name": "stdout",
     "output_type": "stream",
     "text": [
      "Epoch 36: Train 95.5%, Val 95.3%\n"
     ]
    },
    {
     "name": "stderr",
     "output_type": "stream",
     "text": [
      "Training: 100%|████████████████████████████████████████████████████████████████████| 1019/1019 [01:03<00:00, 15.96it/s]\n",
      "Validation: 100%|████████████████████████████████████████████████████████████████████| 340/340 [00:22<00:00, 15.12it/s]\n"
     ]
    },
    {
     "name": "stdout",
     "output_type": "stream",
     "text": [
      "Epoch 37: Train 95.5%, Val 95.3%\n"
     ]
    },
    {
     "name": "stderr",
     "output_type": "stream",
     "text": [
      "Training: 100%|████████████████████████████████████████████████████████████████████| 1019/1019 [01:03<00:00, 16.02it/s]\n",
      "Validation: 100%|████████████████████████████████████████████████████████████████████| 340/340 [00:22<00:00, 15.07it/s]\n"
     ]
    },
    {
     "name": "stdout",
     "output_type": "stream",
     "text": [
      "Epoch 38: Train 96.0%, Val 95.4%\n"
     ]
    },
    {
     "name": "stderr",
     "output_type": "stream",
     "text": [
      "Training: 100%|████████████████████████████████████████████████████████████████████| 1019/1019 [01:03<00:00, 15.99it/s]\n",
      "Validation: 100%|████████████████████████████████████████████████████████████████████| 340/340 [00:22<00:00, 15.14it/s]\n"
     ]
    },
    {
     "name": "stdout",
     "output_type": "stream",
     "text": [
      "Epoch 39: Train 95.8%, Val 95.5%\n"
     ]
    },
    {
     "name": "stderr",
     "output_type": "stream",
     "text": [
      "Training: 100%|████████████████████████████████████████████████████████████████████| 1019/1019 [01:02<00:00, 16.24it/s]\n",
      "Validation: 100%|████████████████████████████████████████████████████████████████████| 340/340 [00:22<00:00, 14.97it/s]\n"
     ]
    },
    {
     "name": "stdout",
     "output_type": "stream",
     "text": [
      "Epoch 40: Train 96.0%, Val 95.5%\n"
     ]
    },
    {
     "name": "stderr",
     "output_type": "stream",
     "text": [
      "Validation: 100%|████████████████████████████████████████████████████████████████████| 340/340 [00:21<00:00, 15.51it/s]\n"
     ]
    },
    {
     "name": "stdout",
     "output_type": "stream",
     "text": [
      "Confusion matrix saved: C:\\Users\\nhdkr\\off_plant_di_err_analyze\\results\\alexnet_confusion_matrix.csv\n",
      "Classification statistics saved: C:\\Users\\nhdkr\\off_plant_di_err_analyze\\results\\alexnet_classification_stats.csv\n"
     ]
    },
    {
     "name": "stderr",
     "output_type": "stream",
     "text": [
      "Clipping input data to the valid range for imshow with RGB data ([0..1] for floats or [0..255] for integers). Got range [-2.0665298..2.3088455].\n",
      "Clipping input data to the valid range for imshow with RGB data ([0..1] for floats or [0..255] for integers). Got range [-1.9466565..1.8731157].\n"
     ]
    },
    {
     "name": "stdout",
     "output_type": "stream",
     "text": [
      "Confusion matrix plot saved: C:\\Users\\nhdkr\\off_plant_di_err_analyze\\results\\alexnet_confusion_matrix.png\n",
      "Top-k Accuracy: {'top_1_acc': 95.49765214989412, 'top_3_acc': 99.5488444894577, 'top_5_acc': 99.84347665960776}\n"
     ]
    },
    {
     "name": "stderr",
     "output_type": "stream",
     "text": [
      "Clipping input data to the valid range for imshow with RGB data ([0..1] for floats or [0..255] for integers). Got range [-2.0322802..2.3088455].\n",
      "Clipping input data to the valid range for imshow with RGB data ([0..1] for floats or [0..255] for integers). Got range [-2.0836544..1.367669].\n",
      "Clipping input data to the valid range for imshow with RGB data ([0..1] for floats or [0..255] for integers). Got range [-2.0151556..1.7107843].\n",
      "Clipping input data to the valid range for imshow with RGB data ([0..1] for floats or [0..255] for integers). Got range [-1.9637812..1.6639653].\n",
      "Clipping input data to the valid range for imshow with RGB data ([0..1] for floats or [0..255] for integers). Got range [-2.0494049..2.1345534].\n",
      "Clipping input data to the valid range for imshow with RGB data ([0..1] for floats or [0..255] for integers). Got range [-2.0665298..1.5942485].\n",
      "Clipping input data to the valid range for imshow with RGB data ([0..1] for floats or [0..255] for integers). Got range [-2.0836544..2.235994].\n",
      "Clipping input data to the valid range for imshow with RGB data ([0..1] for floats or [0..255] for integers). Got range [-1.8952821..1.8033988].\n",
      "Clipping input data to the valid range for imshow with RGB data ([0..1] for floats or [0..255] for integers). Got range [-1.5185376..2.5179958].\n",
      "Clipping input data to the valid range for imshow with RGB data ([0..1] for floats or [0..255] for integers). Got range [-2.0665298..2.0474076].\n",
      "Clipping input data to the valid range for imshow with RGB data ([0..1] for floats or [0..255] for integers). Got range [-2.117904..2.2535014].\n",
      "Clipping input data to the valid range for imshow with RGB data ([0..1] for floats or [0..255] for integers). Got range [-2.0494049..1.541961].\n",
      "Clipping input data to the valid range for imshow with RGB data ([0..1] for floats or [0..255] for integers). Got range [-2.0836544..1.9254032].\n",
      "Clipping input data to the valid range for imshow with RGB data ([0..1] for floats or [0..255] for integers). Got range [-1.7695861..1.5707283].\n",
      "Clipping input data to the valid range for imshow with RGB data ([0..1] for floats or [0..255] for integers). Got range [-1.8952821..2.0959384].\n",
      "Clipping input data to the valid range for imshow with RGB data ([0..1] for floats or [0..255] for integers). Got range [-1.9466565..2.2391288].\n",
      "Clipping input data to the valid range for imshow with RGB data ([0..1] for floats or [0..255] for integers). Got range [-2.0665298..2.3785625].\n",
      "Clipping input data to the valid range for imshow with RGB data ([0..1] for floats or [0..255] for integers). Got range [-1.9466565..1.3781513].\n"
     ]
    },
    {
     "name": "stdout",
     "output_type": "stream",
     "text": [
      "Saved 20 misclassified images to C:\\Users\\nhdkr\\off_plant_di_err_analyze\\results\n",
      "\n",
      "AlexNet RESULTS:\n",
      "----------------------------------------\n",
      "Accuracy: 95.50%\n",
      "Error rate: 4.50%\n",
      "Files saved:\n",
      "  - Confusion Matrix CSV: C:\\Users\\nhdkr\\off_plant_di_err_analyze\\results\\alexnet_confusion_matrix.csv\n",
      "  - Classification Stats: C:\\Users\\nhdkr\\off_plant_di_err_analyze\\results\\alexnet_classification_stats.csv\n",
      "  - Confusion Matrix Plot: C:\\Users\\nhdkr\\off_plant_di_err_analyze\\results\\alexnet_confusion_matrix.png\n",
      "Model saved to: C:\\Users\\nhdkr\\off_plant_di_err_analyze\\models\\alexnet_final.pth\n",
      "\n",
      "================================================================================\n",
      "TRAINING MODEL 4/12: ResNet18\n",
      "================================================================================\n",
      "\n",
      "Training ResNet18...\n"
     ]
    },
    {
     "name": "stderr",
     "output_type": "stream",
     "text": [
      "Training: 100%|████████████████████████████████████████████████████████████████████| 1019/1019 [01:05<00:00, 15.61it/s]\n",
      "Validation: 100%|████████████████████████████████████████████████████████████████████| 340/340 [00:22<00:00, 14.89it/s]\n"
     ]
    },
    {
     "name": "stdout",
     "output_type": "stream",
     "text": [
      "Epoch 1: Train 47.2%, Val 67.5%\n"
     ]
    },
    {
     "name": "stderr",
     "output_type": "stream",
     "text": [
      "Training: 100%|████████████████████████████████████████████████████████████████████| 1019/1019 [01:05<00:00, 15.52it/s]\n",
      "Validation: 100%|████████████████████████████████████████████████████████████████████| 340/340 [00:22<00:00, 14.85it/s]\n"
     ]
    },
    {
     "name": "stdout",
     "output_type": "stream",
     "text": [
      "Epoch 2: Train 65.6%, Val 77.7%\n"
     ]
    },
    {
     "name": "stderr",
     "output_type": "stream",
     "text": [
      "Training: 100%|████████████████████████████████████████████████████████████████████| 1019/1019 [01:06<00:00, 15.43it/s]\n",
      "Validation: 100%|████████████████████████████████████████████████████████████████████| 340/340 [00:22<00:00, 14.89it/s]\n"
     ]
    },
    {
     "name": "stdout",
     "output_type": "stream",
     "text": [
      "Epoch 3: Train 73.9%, Val 82.6%\n"
     ]
    },
    {
     "name": "stderr",
     "output_type": "stream",
     "text": [
      "Training: 100%|████████████████████████████████████████████████████████████████████| 1019/1019 [01:05<00:00, 15.46it/s]\n",
      "Validation: 100%|████████████████████████████████████████████████████████████████████| 340/340 [00:22<00:00, 15.03it/s]\n"
     ]
    },
    {
     "name": "stdout",
     "output_type": "stream",
     "text": [
      "Epoch 4: Train 79.5%, Val 84.5%\n"
     ]
    },
    {
     "name": "stderr",
     "output_type": "stream",
     "text": [
      "Training: 100%|████████████████████████████████████████████████████████████████████| 1019/1019 [01:05<00:00, 15.49it/s]\n",
      "Validation: 100%|████████████████████████████████████████████████████████████████████| 340/340 [00:22<00:00, 14.90it/s]\n"
     ]
    },
    {
     "name": "stdout",
     "output_type": "stream",
     "text": [
      "Epoch 5: Train 84.0%, Val 90.4%\n"
     ]
    },
    {
     "name": "stderr",
     "output_type": "stream",
     "text": [
      "Training: 100%|████████████████████████████████████████████████████████████████████| 1019/1019 [01:06<00:00, 15.43it/s]\n",
      "Validation: 100%|████████████████████████████████████████████████████████████████████| 340/340 [00:22<00:00, 15.02it/s]\n"
     ]
    },
    {
     "name": "stdout",
     "output_type": "stream",
     "text": [
      "Epoch 6: Train 86.8%, Val 90.5%\n"
     ]
    },
    {
     "name": "stderr",
     "output_type": "stream",
     "text": [
      "Training: 100%|████████████████████████████████████████████████████████████████████| 1019/1019 [01:05<00:00, 15.50it/s]\n",
      "Validation: 100%|████████████████████████████████████████████████████████████████████| 340/340 [00:22<00:00, 14.78it/s]\n"
     ]
    },
    {
     "name": "stdout",
     "output_type": "stream",
     "text": [
      "Epoch 7: Train 89.1%, Val 91.8%\n"
     ]
    },
    {
     "name": "stderr",
     "output_type": "stream",
     "text": [
      "Training: 100%|████████████████████████████████████████████████████████████████████| 1019/1019 [01:05<00:00, 15.46it/s]\n",
      "Validation: 100%|████████████████████████████████████████████████████████████████████| 340/340 [00:22<00:00, 14.84it/s]\n"
     ]
    },
    {
     "name": "stdout",
     "output_type": "stream",
     "text": [
      "Epoch 8: Train 90.9%, Val 94.0%\n"
     ]
    },
    {
     "name": "stderr",
     "output_type": "stream",
     "text": [
      "Training: 100%|████████████████████████████████████████████████████████████████████| 1019/1019 [01:06<00:00, 15.43it/s]\n",
      "Validation: 100%|████████████████████████████████████████████████████████████████████| 340/340 [00:23<00:00, 14.65it/s]\n"
     ]
    },
    {
     "name": "stdout",
     "output_type": "stream",
     "text": [
      "Epoch 9: Train 92.2%, Val 94.9%\n"
     ]
    },
    {
     "name": "stderr",
     "output_type": "stream",
     "text": [
      "Training: 100%|████████████████████████████████████████████████████████████████████| 1019/1019 [01:05<00:00, 15.45it/s]\n",
      "Validation: 100%|████████████████████████████████████████████████████████████████████| 340/340 [00:23<00:00, 14.78it/s]\n"
     ]
    },
    {
     "name": "stdout",
     "output_type": "stream",
     "text": [
      "Epoch 10: Train 92.6%, Val 96.4%\n"
     ]
    },
    {
     "name": "stderr",
     "output_type": "stream",
     "text": [
      "Training: 100%|████████████████████████████████████████████████████████████████████| 1019/1019 [01:05<00:00, 15.47it/s]\n",
      "Validation: 100%|████████████████████████████████████████████████████████████████████| 340/340 [00:23<00:00, 14.44it/s]\n"
     ]
    },
    {
     "name": "stdout",
     "output_type": "stream",
     "text": [
      "Epoch 11: Train 93.6%, Val 95.9%\n"
     ]
    },
    {
     "name": "stderr",
     "output_type": "stream",
     "text": [
      "Training: 100%|████████████████████████████████████████████████████████████████████| 1019/1019 [01:05<00:00, 15.52it/s]\n",
      "Validation: 100%|████████████████████████████████████████████████████████████████████| 340/340 [00:22<00:00, 14.89it/s]\n"
     ]
    },
    {
     "name": "stdout",
     "output_type": "stream",
     "text": [
      "Epoch 12: Train 94.4%, Val 96.5%\n"
     ]
    },
    {
     "name": "stderr",
     "output_type": "stream",
     "text": [
      "Training: 100%|████████████████████████████████████████████████████████████████████| 1019/1019 [01:05<00:00, 15.45it/s]\n",
      "Validation: 100%|████████████████████████████████████████████████████████████████████| 340/340 [00:22<00:00, 14.82it/s]\n"
     ]
    },
    {
     "name": "stdout",
     "output_type": "stream",
     "text": [
      "Epoch 13: Train 94.8%, Val 96.7%\n"
     ]
    },
    {
     "name": "stderr",
     "output_type": "stream",
     "text": [
      "Training: 100%|████████████████████████████████████████████████████████████████████| 1019/1019 [01:05<00:00, 15.44it/s]\n",
      "Validation: 100%|████████████████████████████████████████████████████████████████████| 340/340 [00:23<00:00, 14.71it/s]\n"
     ]
    },
    {
     "name": "stdout",
     "output_type": "stream",
     "text": [
      "Epoch 14: Train 95.4%, Val 97.6%\n"
     ]
    },
    {
     "name": "stderr",
     "output_type": "stream",
     "text": [
      "Training: 100%|████████████████████████████████████████████████████████████████████| 1019/1019 [01:06<00:00, 15.41it/s]\n",
      "Validation: 100%|████████████████████████████████████████████████████████████████████| 340/340 [00:23<00:00, 14.73it/s]\n"
     ]
    },
    {
     "name": "stdout",
     "output_type": "stream",
     "text": [
      "Epoch 15: Train 96.0%, Val 97.0%\n"
     ]
    },
    {
     "name": "stderr",
     "output_type": "stream",
     "text": [
      "Training: 100%|████████████████████████████████████████████████████████████████████| 1019/1019 [01:06<00:00, 15.43it/s]\n",
      "Validation: 100%|████████████████████████████████████████████████████████████████████| 340/340 [00:22<00:00, 14.91it/s]\n"
     ]
    },
    {
     "name": "stdout",
     "output_type": "stream",
     "text": [
      "Epoch 16: Train 96.2%, Val 98.0%\n"
     ]
    },
    {
     "name": "stderr",
     "output_type": "stream",
     "text": [
      "Training: 100%|████████████████████████████████████████████████████████████████████| 1019/1019 [01:05<00:00, 15.47it/s]\n",
      "Validation: 100%|████████████████████████████████████████████████████████████████████| 340/340 [00:22<00:00, 14.79it/s]\n"
     ]
    },
    {
     "name": "stdout",
     "output_type": "stream",
     "text": [
      "Epoch 17: Train 96.6%, Val 98.1%\n"
     ]
    },
    {
     "name": "stderr",
     "output_type": "stream",
     "text": [
      "Training: 100%|████████████████████████████████████████████████████████████████████| 1019/1019 [01:06<00:00, 15.44it/s]\n",
      "Validation: 100%|████████████████████████████████████████████████████████████████████| 340/340 [00:23<00:00, 14.48it/s]\n"
     ]
    },
    {
     "name": "stdout",
     "output_type": "stream",
     "text": [
      "Epoch 18: Train 97.0%, Val 97.9%\n"
     ]
    },
    {
     "name": "stderr",
     "output_type": "stream",
     "text": [
      "Training: 100%|████████████████████████████████████████████████████████████████████| 1019/1019 [01:05<00:00, 15.49it/s]\n",
      "Validation: 100%|████████████████████████████████████████████████████████████████████| 340/340 [00:22<00:00, 14.96it/s]\n"
     ]
    },
    {
     "name": "stdout",
     "output_type": "stream",
     "text": [
      "Epoch 19: Train 97.3%, Val 98.1%\n"
     ]
    },
    {
     "name": "stderr",
     "output_type": "stream",
     "text": [
      "Training: 100%|████████████████████████████████████████████████████████████████████| 1019/1019 [01:05<00:00, 15.46it/s]\n",
      "Validation: 100%|████████████████████████████████████████████████████████████████████| 340/340 [00:23<00:00, 14.70it/s]\n"
     ]
    },
    {
     "name": "stdout",
     "output_type": "stream",
     "text": [
      "Epoch 20: Train 97.6%, Val 98.5%\n"
     ]
    },
    {
     "name": "stderr",
     "output_type": "stream",
     "text": [
      "Training: 100%|████████████████████████████████████████████████████████████████████| 1019/1019 [01:06<00:00, 15.44it/s]\n",
      "Validation: 100%|████████████████████████████████████████████████████████████████████| 340/340 [00:23<00:00, 14.77it/s]\n"
     ]
    },
    {
     "name": "stdout",
     "output_type": "stream",
     "text": [
      "Epoch 21: Train 97.9%, Val 97.9%\n"
     ]
    },
    {
     "name": "stderr",
     "output_type": "stream",
     "text": [
      "Training: 100%|████████████████████████████████████████████████████████████████████| 1019/1019 [01:05<00:00, 15.46it/s]\n",
      "Validation: 100%|████████████████████████████████████████████████████████████████████| 340/340 [00:23<00:00, 14.31it/s]\n"
     ]
    },
    {
     "name": "stdout",
     "output_type": "stream",
     "text": [
      "Epoch 22: Train 98.0%, Val 98.6%\n"
     ]
    },
    {
     "name": "stderr",
     "output_type": "stream",
     "text": [
      "Training: 100%|████████████████████████████████████████████████████████████████████| 1019/1019 [01:05<00:00, 15.45it/s]\n",
      "Validation: 100%|████████████████████████████████████████████████████████████████████| 340/340 [00:23<00:00, 14.71it/s]\n"
     ]
    },
    {
     "name": "stdout",
     "output_type": "stream",
     "text": [
      "Epoch 23: Train 98.2%, Val 99.0%\n"
     ]
    },
    {
     "name": "stderr",
     "output_type": "stream",
     "text": [
      "Training: 100%|████████████████████████████████████████████████████████████████████| 1019/1019 [01:05<00:00, 15.56it/s]\n",
      "Validation: 100%|████████████████████████████████████████████████████████████████████| 340/340 [00:23<00:00, 14.69it/s]\n"
     ]
    },
    {
     "name": "stdout",
     "output_type": "stream",
     "text": [
      "Epoch 24: Train 98.4%, Val 98.9%\n"
     ]
    },
    {
     "name": "stderr",
     "output_type": "stream",
     "text": [
      "Training: 100%|████████████████████████████████████████████████████████████████████| 1019/1019 [01:05<00:00, 15.48it/s]\n",
      "Validation: 100%|████████████████████████████████████████████████████████████████████| 340/340 [00:22<00:00, 14.98it/s]\n"
     ]
    },
    {
     "name": "stdout",
     "output_type": "stream",
     "text": [
      "Epoch 25: Train 98.6%, Val 98.9%\n"
     ]
    },
    {
     "name": "stderr",
     "output_type": "stream",
     "text": [
      "Training: 100%|████████████████████████████████████████████████████████████████████| 1019/1019 [01:05<00:00, 15.52it/s]\n",
      "Validation: 100%|████████████████████████████████████████████████████████████████████| 340/340 [00:23<00:00, 14.62it/s]\n"
     ]
    },
    {
     "name": "stdout",
     "output_type": "stream",
     "text": [
      "Epoch 26: Train 98.6%, Val 98.9%\n"
     ]
    },
    {
     "name": "stderr",
     "output_type": "stream",
     "text": [
      "Training: 100%|████████████████████████████████████████████████████████████████████| 1019/1019 [01:05<00:00, 15.50it/s]\n",
      "Validation: 100%|████████████████████████████████████████████████████████████████████| 340/340 [00:22<00:00, 14.96it/s]\n"
     ]
    },
    {
     "name": "stdout",
     "output_type": "stream",
     "text": [
      "Epoch 27: Train 99.0%, Val 99.1%\n"
     ]
    },
    {
     "name": "stderr",
     "output_type": "stream",
     "text": [
      "Training: 100%|████████████████████████████████████████████████████████████████████| 1019/1019 [01:05<00:00, 15.45it/s]\n",
      "Validation: 100%|████████████████████████████████████████████████████████████████████| 340/340 [00:22<00:00, 14.95it/s]\n"
     ]
    },
    {
     "name": "stdout",
     "output_type": "stream",
     "text": [
      "Epoch 28: Train 99.1%, Val 99.0%\n"
     ]
    },
    {
     "name": "stderr",
     "output_type": "stream",
     "text": [
      "Training: 100%|████████████████████████████████████████████████████████████████████| 1019/1019 [01:05<00:00, 15.52it/s]\n",
      "Validation: 100%|████████████████████████████████████████████████████████████████████| 340/340 [00:23<00:00, 14.72it/s]\n"
     ]
    },
    {
     "name": "stdout",
     "output_type": "stream",
     "text": [
      "Epoch 29: Train 99.2%, Val 99.2%\n"
     ]
    },
    {
     "name": "stderr",
     "output_type": "stream",
     "text": [
      "Training: 100%|████████████████████████████████████████████████████████████████████| 1019/1019 [01:06<00:00, 15.43it/s]\n",
      "Validation: 100%|████████████████████████████████████████████████████████████████████| 340/340 [00:23<00:00, 14.53it/s]\n"
     ]
    },
    {
     "name": "stdout",
     "output_type": "stream",
     "text": [
      "Epoch 30: Train 99.2%, Val 99.2%\n"
     ]
    },
    {
     "name": "stderr",
     "output_type": "stream",
     "text": [
      "Training: 100%|████████████████████████████████████████████████████████████████████| 1019/1019 [01:05<00:00, 15.48it/s]\n",
      "Validation: 100%|████████████████████████████████████████████████████████████████████| 340/340 [00:23<00:00, 14.69it/s]\n"
     ]
    },
    {
     "name": "stdout",
     "output_type": "stream",
     "text": [
      "Epoch 31: Train 99.3%, Val 99.4%\n"
     ]
    },
    {
     "name": "stderr",
     "output_type": "stream",
     "text": [
      "Training: 100%|████████████████████████████████████████████████████████████████████| 1019/1019 [01:05<00:00, 15.53it/s]\n",
      "Validation: 100%|████████████████████████████████████████████████████████████████████| 340/340 [00:23<00:00, 14.78it/s]\n"
     ]
    },
    {
     "name": "stdout",
     "output_type": "stream",
     "text": [
      "Epoch 32: Train 99.4%, Val 99.4%\n"
     ]
    },
    {
     "name": "stderr",
     "output_type": "stream",
     "text": [
      "Training: 100%|████████████████████████████████████████████████████████████████████| 1019/1019 [01:06<00:00, 15.39it/s]\n",
      "Validation: 100%|████████████████████████████████████████████████████████████████████| 340/340 [00:23<00:00, 14.77it/s]\n"
     ]
    },
    {
     "name": "stdout",
     "output_type": "stream",
     "text": [
      "Epoch 33: Train 99.4%, Val 99.3%\n"
     ]
    },
    {
     "name": "stderr",
     "output_type": "stream",
     "text": [
      "Training: 100%|████████████████████████████████████████████████████████████████████| 1019/1019 [01:05<00:00, 15.50it/s]\n",
      "Validation: 100%|████████████████████████████████████████████████████████████████████| 340/340 [00:23<00:00, 14.77it/s]\n"
     ]
    },
    {
     "name": "stdout",
     "output_type": "stream",
     "text": [
      "Epoch 34: Train 99.5%, Val 99.4%\n"
     ]
    },
    {
     "name": "stderr",
     "output_type": "stream",
     "text": [
      "Training: 100%|████████████████████████████████████████████████████████████████████| 1019/1019 [01:05<00:00, 15.48it/s]\n",
      "Validation: 100%|████████████████████████████████████████████████████████████████████| 340/340 [00:22<00:00, 14.81it/s]\n"
     ]
    },
    {
     "name": "stdout",
     "output_type": "stream",
     "text": [
      "Epoch 35: Train 99.5%, Val 99.3%\n"
     ]
    },
    {
     "name": "stderr",
     "output_type": "stream",
     "text": [
      "Training: 100%|████████████████████████████████████████████████████████████████████| 1019/1019 [01:05<00:00, 15.56it/s]\n",
      "Validation: 100%|████████████████████████████████████████████████████████████████████| 340/340 [00:22<00:00, 14.99it/s]\n"
     ]
    },
    {
     "name": "stdout",
     "output_type": "stream",
     "text": [
      "Epoch 36: Train 99.6%, Val 99.4%\n"
     ]
    },
    {
     "name": "stderr",
     "output_type": "stream",
     "text": [
      "Training: 100%|████████████████████████████████████████████████████████████████████| 1019/1019 [01:05<00:00, 15.54it/s]\n",
      "Validation: 100%|████████████████████████████████████████████████████████████████████| 340/340 [00:23<00:00, 14.74it/s]\n"
     ]
    },
    {
     "name": "stdout",
     "output_type": "stream",
     "text": [
      "Epoch 37: Train 99.6%, Val 99.4%\n"
     ]
    },
    {
     "name": "stderr",
     "output_type": "stream",
     "text": [
      "Training: 100%|████████████████████████████████████████████████████████████████████| 1019/1019 [01:05<00:00, 15.51it/s]\n",
      "Validation: 100%|████████████████████████████████████████████████████████████████████| 340/340 [00:22<00:00, 14.94it/s]\n"
     ]
    },
    {
     "name": "stdout",
     "output_type": "stream",
     "text": [
      "Epoch 38: Train 99.7%, Val 99.4%\n"
     ]
    },
    {
     "name": "stderr",
     "output_type": "stream",
     "text": [
      "Training: 100%|████████████████████████████████████████████████████████████████████| 1019/1019 [01:05<00:00, 15.53it/s]\n",
      "Validation: 100%|████████████████████████████████████████████████████████████████████| 340/340 [00:23<00:00, 14.64it/s]\n"
     ]
    },
    {
     "name": "stdout",
     "output_type": "stream",
     "text": [
      "Epoch 39: Train 99.7%, Val 99.4%\n"
     ]
    },
    {
     "name": "stderr",
     "output_type": "stream",
     "text": [
      "Training: 100%|████████████████████████████████████████████████████████████████████| 1019/1019 [01:05<00:00, 15.50it/s]\n",
      "Validation: 100%|████████████████████████████████████████████████████████████████████| 340/340 [00:23<00:00, 14.56it/s]\n"
     ]
    },
    {
     "name": "stdout",
     "output_type": "stream",
     "text": [
      "Epoch 40: Train 99.7%, Val 99.4%\n"
     ]
    },
    {
     "name": "stderr",
     "output_type": "stream",
     "text": [
      "Validation: 100%|████████████████████████████████████████████████████████████████████| 340/340 [00:22<00:00, 14.90it/s]\n"
     ]
    },
    {
     "name": "stdout",
     "output_type": "stream",
     "text": [
      "Confusion matrix saved: C:\\Users\\nhdkr\\off_plant_di_err_analyze\\results\\resnet18_confusion_matrix.csv\n",
      "Classification statistics saved: C:\\Users\\nhdkr\\off_plant_di_err_analyze\\results\\resnet18_classification_stats.csv\n"
     ]
    },
    {
     "name": "stderr",
     "output_type": "stream",
     "text": [
      "Clipping input data to the valid range for imshow with RGB data ([0..1] for floats or [0..255] for integers). Got range [-2.0151556..1.6988237].\n",
      "Clipping input data to the valid range for imshow with RGB data ([0..1] for floats or [0..255] for integers). Got range [-2.0494049..2.1484594].\n"
     ]
    },
    {
     "name": "stdout",
     "output_type": "stream",
     "text": [
      "Confusion matrix plot saved: C:\\Users\\nhdkr\\off_plant_di_err_analyze\\results\\resnet18_confusion_matrix.png\n",
      "Top-k Accuracy: {'top_1_acc': 99.41073565969984, 'top_3_acc': 99.95396372341405, 'top_5_acc': 99.96317097873124}\n"
     ]
    },
    {
     "name": "stderr",
     "output_type": "stream",
     "text": [
      "Clipping input data to the valid range for imshow with RGB data ([0..1] for floats or [0..255] for integers). Got range [-2.0494049..1.7859696].\n",
      "Clipping input data to the valid range for imshow with RGB data ([0..1] for floats or [0..255] for integers). Got range [-1.8610327..1.2805231].\n",
      "Clipping input data to the valid range for imshow with RGB data ([0..1] for floats or [0..255] for integers). Got range [-1.7521569..1.923538].\n",
      "Clipping input data to the valid range for imshow with RGB data ([0..1] for floats or [0..255] for integers). Got range [-1.8610327..2.0648367].\n",
      "Clipping input data to the valid range for imshow with RGB data ([0..1] for floats or [0..255] for integers). Got range [-1.6127234..2.2710083].\n",
      "Clipping input data to the valid range for imshow with RGB data ([0..1] for floats or [0..255] for integers). Got range [-2.0665298..2.3611329].\n",
      "Clipping input data to the valid range for imshow with RGB data ([0..1] for floats or [0..255] for integers). Got range [-1.6041614..2.186841].\n",
      "Clipping input data to the valid range for imshow with RGB data ([0..1] for floats or [0..255] for integers). Got range [-2.0494049..1.541961].\n",
      "Clipping input data to the valid range for imshow with RGB data ([0..1] for floats or [0..255] for integers). Got range [-1.9637812..2.0996952].\n",
      "Clipping input data to the valid range for imshow with RGB data ([0..1] for floats or [0..255] for integers). Got range [-1.7754089..2.2391288].\n",
      "Clipping input data to the valid range for imshow with RGB data ([0..1] for floats or [0..255] for integers). Got range [-1.9295317..2.0259104].\n",
      "Clipping input data to the valid range for imshow with RGB data ([0..1] for floats or [0..255] for integers). Got range [-2.117904..2.3760502].\n",
      "Clipping input data to the valid range for imshow with RGB data ([0..1] for floats or [0..255] for integers). Got range [-1.8044444..1.7633053].\n",
      "Clipping input data to the valid range for imshow with RGB data ([0..1] for floats or [0..255] for integers). Got range [-2.0665298..2.2391288].\n",
      "Clipping input data to the valid range for imshow with RGB data ([0..1] for floats or [0..255] for integers). Got range [-2.0494049..1.6232493].\n",
      "Clipping input data to the valid range for imshow with RGB data ([0..1] for floats or [0..255] for integers). Got range [-2.0151556..1.2456646].\n",
      "Clipping input data to the valid range for imshow with RGB data ([0..1] for floats or [0..255] for integers). Got range [-0.47759098..2.4134207].\n",
      "Clipping input data to the valid range for imshow with RGB data ([0..1] for floats or [0..255] for integers). Got range [-2.0494049..1.9733893].\n"
     ]
    },
    {
     "name": "stdout",
     "output_type": "stream",
     "text": [
      "Saved 20 misclassified images to C:\\Users\\nhdkr\\off_plant_di_err_analyze\\results\n",
      "\n",
      "ResNet18 RESULTS:\n",
      "----------------------------------------\n",
      "Accuracy: 99.41%\n",
      "Error rate: 0.59%\n",
      "Files saved:\n",
      "  - Confusion Matrix CSV: C:\\Users\\nhdkr\\off_plant_di_err_analyze\\results\\resnet18_confusion_matrix.csv\n",
      "  - Classification Stats: C:\\Users\\nhdkr\\off_plant_di_err_analyze\\results\\resnet18_classification_stats.csv\n",
      "  - Confusion Matrix Plot: C:\\Users\\nhdkr\\off_plant_di_err_analyze\\results\\resnet18_confusion_matrix.png\n",
      "Model saved to: C:\\Users\\nhdkr\\off_plant_di_err_analyze\\models\\resnet18_final.pth\n",
      "\n",
      "================================================================================\n",
      "TRAINING MODEL 5/12: ResNet34\n",
      "================================================================================\n",
      "\n",
      "Training ResNet34...\n"
     ]
    },
    {
     "name": "stderr",
     "output_type": "stream",
     "text": [
      "Training: 100%|████████████████████████████████████████████████████████████████████| 1019/1019 [01:42<00:00,  9.97it/s]\n",
      "Validation: 100%|████████████████████████████████████████████████████████████████████| 340/340 [00:23<00:00, 14.26it/s]\n"
     ]
    },
    {
     "name": "stdout",
     "output_type": "stream",
     "text": [
      "Epoch 1: Train 39.7%, Val 46.5%\n"
     ]
    },
    {
     "name": "stderr",
     "output_type": "stream",
     "text": [
      "Training: 100%|████████████████████████████████████████████████████████████████████| 1019/1019 [01:43<00:00,  9.89it/s]\n",
      "Validation: 100%|████████████████████████████████████████████████████████████████████| 340/340 [00:23<00:00, 14.50it/s]\n"
     ]
    },
    {
     "name": "stdout",
     "output_type": "stream",
     "text": [
      "Epoch 2: Train 58.6%, Val 61.8%\n"
     ]
    },
    {
     "name": "stderr",
     "output_type": "stream",
     "text": [
      "Training: 100%|████████████████████████████████████████████████████████████████████| 1019/1019 [01:43<00:00,  9.89it/s]\n",
      "Validation: 100%|████████████████████████████████████████████████████████████████████| 340/340 [00:23<00:00, 14.41it/s]\n"
     ]
    },
    {
     "name": "stdout",
     "output_type": "stream",
     "text": [
      "Epoch 3: Train 69.0%, Val 76.1%\n"
     ]
    },
    {
     "name": "stderr",
     "output_type": "stream",
     "text": [
      "Training: 100%|████████████████████████████████████████████████████████████████████| 1019/1019 [01:43<00:00,  9.88it/s]\n",
      "Validation: 100%|████████████████████████████████████████████████████████████████████| 340/340 [00:23<00:00, 14.36it/s]\n"
     ]
    },
    {
     "name": "stdout",
     "output_type": "stream",
     "text": [
      "Epoch 4: Train 75.5%, Val 83.7%\n"
     ]
    },
    {
     "name": "stderr",
     "output_type": "stream",
     "text": [
      "Training: 100%|████████████████████████████████████████████████████████████████████| 1019/1019 [01:42<00:00,  9.90it/s]\n",
      "Validation: 100%|████████████████████████████████████████████████████████████████████| 340/340 [00:23<00:00, 14.19it/s]\n"
     ]
    },
    {
     "name": "stdout",
     "output_type": "stream",
     "text": [
      "Epoch 5: Train 80.8%, Val 78.2%\n"
     ]
    },
    {
     "name": "stderr",
     "output_type": "stream",
     "text": [
      "Training: 100%|████████████████████████████████████████████████████████████████████| 1019/1019 [01:43<00:00,  9.88it/s]\n",
      "Validation: 100%|████████████████████████████████████████████████████████████████████| 340/340 [00:23<00:00, 14.22it/s]\n"
     ]
    },
    {
     "name": "stdout",
     "output_type": "stream",
     "text": [
      "Epoch 6: Train 83.7%, Val 86.3%\n"
     ]
    },
    {
     "name": "stderr",
     "output_type": "stream",
     "text": [
      "Training: 100%|████████████████████████████████████████████████████████████████████| 1019/1019 [01:43<00:00,  9.87it/s]\n",
      "Validation: 100%|████████████████████████████████████████████████████████████████████| 340/340 [00:23<00:00, 14.51it/s]\n"
     ]
    },
    {
     "name": "stdout",
     "output_type": "stream",
     "text": [
      "Epoch 7: Train 86.8%, Val 92.2%\n"
     ]
    },
    {
     "name": "stderr",
     "output_type": "stream",
     "text": [
      "Training: 100%|████████████████████████████████████████████████████████████████████| 1019/1019 [01:43<00:00,  9.87it/s]\n",
      "Validation: 100%|████████████████████████████████████████████████████████████████████| 340/340 [00:23<00:00, 14.59it/s]\n"
     ]
    },
    {
     "name": "stdout",
     "output_type": "stream",
     "text": [
      "Epoch 8: Train 88.7%, Val 93.1%\n"
     ]
    },
    {
     "name": "stderr",
     "output_type": "stream",
     "text": [
      "Training: 100%|████████████████████████████████████████████████████████████████████| 1019/1019 [01:43<00:00,  9.87it/s]\n",
      "Validation: 100%|████████████████████████████████████████████████████████████████████| 340/340 [00:23<00:00, 14.53it/s]\n"
     ]
    },
    {
     "name": "stdout",
     "output_type": "stream",
     "text": [
      "Epoch 9: Train 90.8%, Val 94.6%\n"
     ]
    },
    {
     "name": "stderr",
     "output_type": "stream",
     "text": [
      "Training: 100%|████████████████████████████████████████████████████████████████████| 1019/1019 [01:43<00:00,  9.87it/s]\n",
      "Validation: 100%|████████████████████████████████████████████████████████████████████| 340/340 [00:23<00:00, 14.42it/s]\n"
     ]
    },
    {
     "name": "stdout",
     "output_type": "stream",
     "text": [
      "Epoch 10: Train 91.4%, Val 95.2%\n"
     ]
    },
    {
     "name": "stderr",
     "output_type": "stream",
     "text": [
      "Training: 100%|████████████████████████████████████████████████████████████████████| 1019/1019 [01:43<00:00,  9.87it/s]\n",
      "Validation: 100%|████████████████████████████████████████████████████████████████████| 340/340 [00:23<00:00, 14.49it/s]\n"
     ]
    },
    {
     "name": "stdout",
     "output_type": "stream",
     "text": [
      "Epoch 11: Train 92.4%, Val 96.1%\n"
     ]
    },
    {
     "name": "stderr",
     "output_type": "stream",
     "text": [
      "Training: 100%|████████████████████████████████████████████████████████████████████| 1019/1019 [01:43<00:00,  9.88it/s]\n",
      "Validation: 100%|████████████████████████████████████████████████████████████████████| 340/340 [00:23<00:00, 14.41it/s]\n"
     ]
    },
    {
     "name": "stdout",
     "output_type": "stream",
     "text": [
      "Epoch 12: Train 93.3%, Val 96.7%\n"
     ]
    },
    {
     "name": "stderr",
     "output_type": "stream",
     "text": [
      "Training: 100%|████████████████████████████████████████████████████████████████████| 1019/1019 [01:42<00:00,  9.90it/s]\n",
      "Validation: 100%|████████████████████████████████████████████████████████████████████| 340/340 [00:23<00:00, 14.29it/s]\n"
     ]
    },
    {
     "name": "stdout",
     "output_type": "stream",
     "text": [
      "Epoch 13: Train 93.9%, Val 95.9%\n"
     ]
    },
    {
     "name": "stderr",
     "output_type": "stream",
     "text": [
      "Training: 100%|████████████████████████████████████████████████████████████████████| 1019/1019 [01:43<00:00,  9.88it/s]\n",
      "Validation: 100%|████████████████████████████████████████████████████████████████████| 340/340 [00:23<00:00, 14.19it/s]\n"
     ]
    },
    {
     "name": "stdout",
     "output_type": "stream",
     "text": [
      "Epoch 14: Train 94.7%, Val 96.5%\n"
     ]
    },
    {
     "name": "stderr",
     "output_type": "stream",
     "text": [
      "Training: 100%|████████████████████████████████████████████████████████████████████| 1019/1019 [01:43<00:00,  9.88it/s]\n",
      "Validation: 100%|████████████████████████████████████████████████████████████████████| 340/340 [00:23<00:00, 14.32it/s]\n"
     ]
    },
    {
     "name": "stdout",
     "output_type": "stream",
     "text": [
      "Epoch 15: Train 95.4%, Val 97.3%\n"
     ]
    },
    {
     "name": "stderr",
     "output_type": "stream",
     "text": [
      "Training: 100%|████████████████████████████████████████████████████████████████████| 1019/1019 [01:42<00:00,  9.91it/s]\n",
      "Validation: 100%|████████████████████████████████████████████████████████████████████| 340/340 [00:23<00:00, 14.47it/s]\n"
     ]
    },
    {
     "name": "stdout",
     "output_type": "stream",
     "text": [
      "Epoch 16: Train 95.6%, Val 97.7%\n"
     ]
    },
    {
     "name": "stderr",
     "output_type": "stream",
     "text": [
      "Training: 100%|████████████████████████████████████████████████████████████████████| 1019/1019 [01:42<00:00,  9.90it/s]\n",
      "Validation: 100%|████████████████████████████████████████████████████████████████████| 340/340 [00:23<00:00, 14.33it/s]\n"
     ]
    },
    {
     "name": "stdout",
     "output_type": "stream",
     "text": [
      "Epoch 17: Train 96.2%, Val 97.6%\n"
     ]
    },
    {
     "name": "stderr",
     "output_type": "stream",
     "text": [
      "Training: 100%|████████████████████████████████████████████████████████████████████| 1019/1019 [01:43<00:00,  9.89it/s]\n",
      "Validation: 100%|████████████████████████████████████████████████████████████████████| 340/340 [00:23<00:00, 14.47it/s]\n"
     ]
    },
    {
     "name": "stdout",
     "output_type": "stream",
     "text": [
      "Epoch 18: Train 96.7%, Val 96.6%\n"
     ]
    },
    {
     "name": "stderr",
     "output_type": "stream",
     "text": [
      "Training: 100%|████████████████████████████████████████████████████████████████████| 1019/1019 [01:42<00:00,  9.89it/s]\n",
      "Validation: 100%|████████████████████████████████████████████████████████████████████| 340/340 [00:24<00:00, 14.09it/s]\n"
     ]
    },
    {
     "name": "stdout",
     "output_type": "stream",
     "text": [
      "Epoch 19: Train 96.8%, Val 97.8%\n"
     ]
    },
    {
     "name": "stderr",
     "output_type": "stream",
     "text": [
      "Training: 100%|████████████████████████████████████████████████████████████████████| 1019/1019 [01:43<00:00,  9.89it/s]\n",
      "Validation: 100%|████████████████████████████████████████████████████████████████████| 340/340 [00:23<00:00, 14.42it/s]\n"
     ]
    },
    {
     "name": "stdout",
     "output_type": "stream",
     "text": [
      "Epoch 20: Train 97.2%, Val 97.9%\n"
     ]
    },
    {
     "name": "stderr",
     "output_type": "stream",
     "text": [
      "Training: 100%|████████████████████████████████████████████████████████████████████| 1019/1019 [01:42<00:00,  9.92it/s]\n",
      "Validation: 100%|████████████████████████████████████████████████████████████████████| 340/340 [00:23<00:00, 14.35it/s]\n"
     ]
    },
    {
     "name": "stdout",
     "output_type": "stream",
     "text": [
      "Epoch 21: Train 97.6%, Val 97.8%\n"
     ]
    },
    {
     "name": "stderr",
     "output_type": "stream",
     "text": [
      "Training: 100%|████████████████████████████████████████████████████████████████████| 1019/1019 [01:42<00:00,  9.90it/s]\n",
      "Validation: 100%|████████████████████████████████████████████████████████████████████| 340/340 [00:23<00:00, 14.47it/s]\n"
     ]
    },
    {
     "name": "stdout",
     "output_type": "stream",
     "text": [
      "Epoch 22: Train 97.7%, Val 97.9%\n"
     ]
    },
    {
     "name": "stderr",
     "output_type": "stream",
     "text": [
      "Training: 100%|████████████████████████████████████████████████████████████████████| 1019/1019 [01:42<00:00,  9.91it/s]\n",
      "Validation: 100%|████████████████████████████████████████████████████████████████████| 340/340 [00:23<00:00, 14.35it/s]\n"
     ]
    },
    {
     "name": "stdout",
     "output_type": "stream",
     "text": [
      "Epoch 23: Train 98.0%, Val 98.5%\n"
     ]
    },
    {
     "name": "stderr",
     "output_type": "stream",
     "text": [
      "Training: 100%|████████████████████████████████████████████████████████████████████| 1019/1019 [01:42<00:00,  9.90it/s]\n",
      "Validation: 100%|████████████████████████████████████████████████████████████████████| 340/340 [00:23<00:00, 14.41it/s]\n"
     ]
    },
    {
     "name": "stdout",
     "output_type": "stream",
     "text": [
      "Epoch 24: Train 98.3%, Val 98.8%\n"
     ]
    },
    {
     "name": "stderr",
     "output_type": "stream",
     "text": [
      "Training: 100%|████████████████████████████████████████████████████████████████████| 1019/1019 [01:42<00:00,  9.90it/s]\n",
      "Validation: 100%|████████████████████████████████████████████████████████████████████| 340/340 [00:23<00:00, 14.30it/s]\n"
     ]
    },
    {
     "name": "stdout",
     "output_type": "stream",
     "text": [
      "Epoch 25: Train 98.3%, Val 98.8%\n"
     ]
    },
    {
     "name": "stderr",
     "output_type": "stream",
     "text": [
      "Training: 100%|████████████████████████████████████████████████████████████████████| 1019/1019 [01:42<00:00,  9.92it/s]\n",
      "Validation: 100%|████████████████████████████████████████████████████████████████████| 340/340 [00:23<00:00, 14.48it/s]\n"
     ]
    },
    {
     "name": "stdout",
     "output_type": "stream",
     "text": [
      "Epoch 26: Train 98.6%, Val 98.8%\n"
     ]
    },
    {
     "name": "stderr",
     "output_type": "stream",
     "text": [
      "Training: 100%|████████████████████████████████████████████████████████████████████| 1019/1019 [01:42<00:00,  9.91it/s]\n",
      "Validation: 100%|████████████████████████████████████████████████████████████████████| 340/340 [00:23<00:00, 14.51it/s]\n"
     ]
    },
    {
     "name": "stdout",
     "output_type": "stream",
     "text": [
      "Epoch 27: Train 98.7%, Val 98.6%\n"
     ]
    },
    {
     "name": "stderr",
     "output_type": "stream",
     "text": [
      "Training: 100%|████████████████████████████████████████████████████████████████████| 1019/1019 [01:42<00:00,  9.92it/s]\n",
      "Validation: 100%|████████████████████████████████████████████████████████████████████| 340/340 [00:23<00:00, 14.57it/s]\n"
     ]
    },
    {
     "name": "stdout",
     "output_type": "stream",
     "text": [
      "Epoch 28: Train 98.9%, Val 98.9%\n"
     ]
    },
    {
     "name": "stderr",
     "output_type": "stream",
     "text": [
      "Training: 100%|████████████████████████████████████████████████████████████████████| 1019/1019 [01:42<00:00,  9.93it/s]\n",
      "Validation: 100%|████████████████████████████████████████████████████████████████████| 340/340 [00:23<00:00, 14.35it/s]\n"
     ]
    },
    {
     "name": "stdout",
     "output_type": "stream",
     "text": [
      "Epoch 29: Train 99.1%, Val 98.9%\n"
     ]
    },
    {
     "name": "stderr",
     "output_type": "stream",
     "text": [
      "Training: 100%|████████████████████████████████████████████████████████████████████| 1019/1019 [01:42<00:00,  9.95it/s]\n",
      "Validation: 100%|████████████████████████████████████████████████████████████████████| 340/340 [00:23<00:00, 14.38it/s]\n"
     ]
    },
    {
     "name": "stdout",
     "output_type": "stream",
     "text": [
      "Epoch 30: Train 99.1%, Val 99.0%\n"
     ]
    },
    {
     "name": "stderr",
     "output_type": "stream",
     "text": [
      "Training: 100%|████████████████████████████████████████████████████████████████████| 1019/1019 [01:42<00:00,  9.96it/s]\n",
      "Validation: 100%|████████████████████████████████████████████████████████████████████| 340/340 [00:23<00:00, 14.36it/s]\n"
     ]
    },
    {
     "name": "stdout",
     "output_type": "stream",
     "text": [
      "Epoch 31: Train 99.2%, Val 99.2%\n"
     ]
    },
    {
     "name": "stderr",
     "output_type": "stream",
     "text": [
      "Training: 100%|████████████████████████████████████████████████████████████████████| 1019/1019 [01:42<00:00,  9.96it/s]\n",
      "Validation: 100%|████████████████████████████████████████████████████████████████████| 340/340 [00:23<00:00, 14.37it/s]\n"
     ]
    },
    {
     "name": "stdout",
     "output_type": "stream",
     "text": [
      "Epoch 32: Train 99.3%, Val 99.0%\n"
     ]
    },
    {
     "name": "stderr",
     "output_type": "stream",
     "text": [
      "Training: 100%|████████████████████████████████████████████████████████████████████| 1019/1019 [01:42<00:00,  9.99it/s]\n",
      "Validation: 100%|████████████████████████████████████████████████████████████████████| 340/340 [00:23<00:00, 14.52it/s]\n"
     ]
    },
    {
     "name": "stdout",
     "output_type": "stream",
     "text": [
      "Epoch 33: Train 99.4%, Val 99.2%\n"
     ]
    },
    {
     "name": "stderr",
     "output_type": "stream",
     "text": [
      "Training: 100%|████████████████████████████████████████████████████████████████████| 1019/1019 [01:41<00:00,  9.99it/s]\n",
      "Validation: 100%|████████████████████████████████████████████████████████████████████| 340/340 [00:23<00:00, 14.49it/s]\n"
     ]
    },
    {
     "name": "stdout",
     "output_type": "stream",
     "text": [
      "Epoch 34: Train 99.5%, Val 99.2%\n"
     ]
    },
    {
     "name": "stderr",
     "output_type": "stream",
     "text": [
      "Training: 100%|████████████████████████████████████████████████████████████████████| 1019/1019 [01:42<00:00,  9.99it/s]\n",
      "Validation: 100%|████████████████████████████████████████████████████████████████████| 340/340 [00:23<00:00, 14.29it/s]\n"
     ]
    },
    {
     "name": "stdout",
     "output_type": "stream",
     "text": [
      "Epoch 35: Train 99.6%, Val 99.1%\n"
     ]
    },
    {
     "name": "stderr",
     "output_type": "stream",
     "text": [
      "Training: 100%|████████████████████████████████████████████████████████████████████| 1019/1019 [01:42<00:00,  9.98it/s]\n",
      "Validation: 100%|████████████████████████████████████████████████████████████████████| 340/340 [00:23<00:00, 14.39it/s]\n"
     ]
    },
    {
     "name": "stdout",
     "output_type": "stream",
     "text": [
      "Epoch 36: Train 99.6%, Val 99.2%\n"
     ]
    },
    {
     "name": "stderr",
     "output_type": "stream",
     "text": [
      "Training: 100%|████████████████████████████████████████████████████████████████████| 1019/1019 [01:41<00:00, 10.00it/s]\n",
      "Validation: 100%|████████████████████████████████████████████████████████████████████| 340/340 [00:23<00:00, 14.26it/s]\n"
     ]
    },
    {
     "name": "stdout",
     "output_type": "stream",
     "text": [
      "Epoch 37: Train 99.6%, Val 99.3%\n"
     ]
    },
    {
     "name": "stderr",
     "output_type": "stream",
     "text": [
      "Training: 100%|████████████████████████████████████████████████████████████████████| 1019/1019 [01:41<00:00,  9.99it/s]\n",
      "Validation: 100%|████████████████████████████████████████████████████████████████████| 340/340 [00:23<00:00, 14.45it/s]\n"
     ]
    },
    {
     "name": "stdout",
     "output_type": "stream",
     "text": [
      "Epoch 38: Train 99.7%, Val 99.3%\n"
     ]
    },
    {
     "name": "stderr",
     "output_type": "stream",
     "text": [
      "Training: 100%|████████████████████████████████████████████████████████████████████| 1019/1019 [01:42<00:00,  9.99it/s]\n",
      "Validation: 100%|████████████████████████████████████████████████████████████████████| 340/340 [00:23<00:00, 14.33it/s]\n"
     ]
    },
    {
     "name": "stdout",
     "output_type": "stream",
     "text": [
      "Epoch 39: Train 99.7%, Val 99.3%\n"
     ]
    },
    {
     "name": "stderr",
     "output_type": "stream",
     "text": [
      "Training: 100%|████████████████████████████████████████████████████████████████████| 1019/1019 [01:41<00:00,  9.99it/s]\n",
      "Validation: 100%|████████████████████████████████████████████████████████████████████| 340/340 [00:23<00:00, 14.32it/s]\n"
     ]
    },
    {
     "name": "stdout",
     "output_type": "stream",
     "text": [
      "Epoch 40: Train 99.7%, Val 99.3%\n"
     ]
    },
    {
     "name": "stderr",
     "output_type": "stream",
     "text": [
      "Validation: 100%|████████████████████████████████████████████████████████████████████| 340/340 [00:23<00:00, 14.61it/s]\n"
     ]
    },
    {
     "name": "stdout",
     "output_type": "stream",
     "text": [
      "Confusion matrix saved: C:\\Users\\nhdkr\\off_plant_di_err_analyze\\results\\resnet34_confusion_matrix.csv\n",
      "Classification statistics saved: C:\\Users\\nhdkr\\off_plant_di_err_analyze\\results\\resnet34_classification_stats.csv\n"
     ]
    },
    {
     "name": "stderr",
     "output_type": "stream",
     "text": [
      "Clipping input data to the valid range for imshow with RGB data ([0..1] for floats or [0..255] for integers). Got range [-1.2641394..2.1134453].\n",
      "Clipping input data to the valid range for imshow with RGB data ([0..1] for floats or [0..255] for integers). Got range [-2.0494049..2.2042704].\n"
     ]
    },
    {
     "name": "stdout",
     "output_type": "stream",
     "text": [
      "Confusion matrix plot saved: C:\\Users\\nhdkr\\off_plant_di_err_analyze\\results\\resnet34_confusion_matrix.png\n",
      "Top-k Accuracy: {'top_1_acc': 99.30024859589356, 'top_3_acc': 99.94475646809687, 'top_5_acc': 99.95396372341405}\n"
     ]
    },
    {
     "name": "stderr",
     "output_type": "stream",
     "text": [
      "Clipping input data to the valid range for imshow with RGB data ([0..1] for floats or [0..255] for integers). Got range [-1.5527872..1.9033613].\n",
      "Clipping input data to the valid range for imshow with RGB data ([0..1] for floats or [0..255] for integers). Got range [-1.68244..1.8033988].\n",
      "Clipping input data to the valid range for imshow with RGB data ([0..1] for floats or [0..255] for integers). Got range [-2.0494049..2.2914162].\n",
      "Clipping input data to the valid range for imshow with RGB data ([0..1] for floats or [0..255] for integers). Got range [-2.0836544..2.169412].\n",
      "Clipping input data to the valid range for imshow with RGB data ([0..1] for floats or [0..255] for integers). Got range [-2.0322802..2.2042704].\n",
      "Clipping input data to the valid range for imshow with RGB data ([0..1] for floats or [0..255] for integers). Got range [-1.6650109..1.5245317].\n",
      "Clipping input data to the valid range for imshow with RGB data ([0..1] for floats or [0..255] for integers). Got range [-2.0151556..2.3088455].\n",
      "Clipping input data to the valid range for imshow with RGB data ([0..1] for floats or [0..255] for integers). Got range [-1.6650109..2.1484594].\n",
      "Clipping input data to the valid range for imshow with RGB data ([0..1] for floats or [0..255] for integers). Got range [-1.9980307..1.3502399].\n",
      "Clipping input data to the valid range for imshow with RGB data ([0..1] for floats or [0..255] for integers). Got range [-2.0151556..1.8208281].\n",
      "Clipping input data to the valid range for imshow with RGB data ([0..1] for floats or [0..255] for integers). Got range [-2.117904..2.3760502].\n",
      "Clipping input data to the valid range for imshow with RGB data ([0..1] for floats or [0..255] for integers). Got range [-2.0494049..1.3502399].\n",
      "Clipping input data to the valid range for imshow with RGB data ([0..1] for floats or [0..255] for integers). Got range [-1.3687146..2.465708].\n",
      "Clipping input data to the valid range for imshow with RGB data ([0..1] for floats or [0..255] for integers). Got range [-1.8781574..2.2391288].\n",
      "Clipping input data to the valid range for imshow with RGB data ([0..1] for floats or [0..255] for integers). Got range [-2.1007793..1.8731157].\n",
      "Clipping input data to the valid range for imshow with RGB data ([0..1] for floats or [0..255] for integers). Got range [-1.9637812..2.343704].\n",
      "Clipping input data to the valid range for imshow with RGB data ([0..1] for floats or [0..255] for integers). Got range [-2.0151556..1.6988237].\n",
      "Clipping input data to the valid range for imshow with RGB data ([0..1] for floats or [0..255] for integers). Got range [-2.1007793..2.0125492].\n"
     ]
    },
    {
     "name": "stdout",
     "output_type": "stream",
     "text": [
      "Saved 20 misclassified images to C:\\Users\\nhdkr\\off_plant_di_err_analyze\\results\n",
      "\n",
      "ResNet34 RESULTS:\n",
      "----------------------------------------\n",
      "Accuracy: 99.30%\n",
      "Error rate: 0.70%\n",
      "Files saved:\n",
      "  - Confusion Matrix CSV: C:\\Users\\nhdkr\\off_plant_di_err_analyze\\results\\resnet34_confusion_matrix.csv\n",
      "  - Classification Stats: C:\\Users\\nhdkr\\off_plant_di_err_analyze\\results\\resnet34_classification_stats.csv\n",
      "  - Confusion Matrix Plot: C:\\Users\\nhdkr\\off_plant_di_err_analyze\\results\\resnet34_confusion_matrix.png\n",
      "Model saved to: C:\\Users\\nhdkr\\off_plant_di_err_analyze\\models\\resnet34_final.pth\n",
      "\n",
      "================================================================================\n",
      "TRAINING MODEL 6/12: ResNet50\n",
      "================================================================================\n",
      "\n",
      "Training ResNet50...\n"
     ]
    },
    {
     "name": "stderr",
     "output_type": "stream",
     "text": [
      "Training: 100%|████████████████████████████████████████████████████████████████████| 1019/1019 [02:50<00:00,  5.96it/s]\n",
      "Validation: 100%|████████████████████████████████████████████████████████████████████| 340/340 [00:24<00:00, 13.76it/s]\n"
     ]
    },
    {
     "name": "stdout",
     "output_type": "stream",
     "text": [
      "Epoch 1: Train 39.9%, Val 56.6%\n"
     ]
    },
    {
     "name": "stderr",
     "output_type": "stream",
     "text": [
      "Training: 100%|████████████████████████████████████████████████████████████████████| 1019/1019 [02:51<00:00,  5.93it/s]\n",
      "Validation: 100%|████████████████████████████████████████████████████████████████████| 340/340 [00:24<00:00, 13.70it/s]\n"
     ]
    },
    {
     "name": "stdout",
     "output_type": "stream",
     "text": [
      "Epoch 2: Train 59.2%, Val 67.8%\n"
     ]
    },
    {
     "name": "stderr",
     "output_type": "stream",
     "text": [
      "Training: 100%|████████████████████████████████████████████████████████████████████| 1019/1019 [02:53<00:00,  5.89it/s]\n",
      "Validation: 100%|████████████████████████████████████████████████████████████████████| 340/340 [00:24<00:00, 13.69it/s]\n"
     ]
    },
    {
     "name": "stdout",
     "output_type": "stream",
     "text": [
      "Epoch 3: Train 69.0%, Val 79.9%\n"
     ]
    },
    {
     "name": "stderr",
     "output_type": "stream",
     "text": [
      "Training: 100%|████████████████████████████████████████████████████████████████████| 1019/1019 [02:53<00:00,  5.88it/s]\n",
      "Validation: 100%|████████████████████████████████████████████████████████████████████| 340/340 [00:24<00:00, 13.68it/s]\n"
     ]
    },
    {
     "name": "stdout",
     "output_type": "stream",
     "text": [
      "Epoch 4: Train 76.1%, Val 86.4%\n"
     ]
    },
    {
     "name": "stderr",
     "output_type": "stream",
     "text": [
      "Training: 100%|████████████████████████████████████████████████████████████████████| 1019/1019 [02:52<00:00,  5.91it/s]\n",
      "Validation: 100%|████████████████████████████████████████████████████████████████████| 340/340 [00:24<00:00, 13.64it/s]\n"
     ]
    },
    {
     "name": "stdout",
     "output_type": "stream",
     "text": [
      "Epoch 5: Train 80.4%, Val 83.1%\n"
     ]
    },
    {
     "name": "stderr",
     "output_type": "stream",
     "text": [
      "Training: 100%|████████████████████████████████████████████████████████████████████| 1019/1019 [02:51<00:00,  5.92it/s]\n",
      "Validation: 100%|████████████████████████████████████████████████████████████████████| 340/340 [00:24<00:00, 13.66it/s]\n"
     ]
    },
    {
     "name": "stdout",
     "output_type": "stream",
     "text": [
      "Epoch 6: Train 83.6%, Val 90.6%\n"
     ]
    },
    {
     "name": "stderr",
     "output_type": "stream",
     "text": [
      "Training: 100%|████████████████████████████████████████████████████████████████████| 1019/1019 [02:52<00:00,  5.92it/s]\n",
      "Validation: 100%|████████████████████████████████████████████████████████████████████| 340/340 [00:24<00:00, 13.72it/s]\n"
     ]
    },
    {
     "name": "stdout",
     "output_type": "stream",
     "text": [
      "Epoch 7: Train 85.9%, Val 90.0%\n"
     ]
    },
    {
     "name": "stderr",
     "output_type": "stream",
     "text": [
      "Training: 100%|████████████████████████████████████████████████████████████████████| 1019/1019 [02:52<00:00,  5.91it/s]\n",
      "Validation: 100%|████████████████████████████████████████████████████████████████████| 340/340 [00:25<00:00, 13.49it/s]\n"
     ]
    },
    {
     "name": "stdout",
     "output_type": "stream",
     "text": [
      "Epoch 8: Train 88.2%, Val 94.5%\n"
     ]
    },
    {
     "name": "stderr",
     "output_type": "stream",
     "text": [
      "Training: 100%|████████████████████████████████████████████████████████████████████| 1019/1019 [02:51<00:00,  5.93it/s]\n",
      "Validation: 100%|████████████████████████████████████████████████████████████████████| 340/340 [00:24<00:00, 13.71it/s]\n"
     ]
    },
    {
     "name": "stdout",
     "output_type": "stream",
     "text": [
      "Epoch 9: Train 89.4%, Val 93.6%\n"
     ]
    },
    {
     "name": "stderr",
     "output_type": "stream",
     "text": [
      "Training: 100%|████████████████████████████████████████████████████████████████████| 1019/1019 [02:51<00:00,  5.94it/s]\n",
      "Validation: 100%|████████████████████████████████████████████████████████████████████| 340/340 [00:24<00:00, 13.71it/s]\n"
     ]
    },
    {
     "name": "stdout",
     "output_type": "stream",
     "text": [
      "Epoch 10: Train 90.7%, Val 90.1%\n"
     ]
    },
    {
     "name": "stderr",
     "output_type": "stream",
     "text": [
      "Training: 100%|████████████████████████████████████████████████████████████████████| 1019/1019 [02:52<00:00,  5.91it/s]\n",
      "Validation: 100%|████████████████████████████████████████████████████████████████████| 340/340 [00:24<00:00, 13.68it/s]\n"
     ]
    },
    {
     "name": "stdout",
     "output_type": "stream",
     "text": [
      "Epoch 11: Train 91.6%, Val 93.6%\n"
     ]
    },
    {
     "name": "stderr",
     "output_type": "stream",
     "text": [
      "Training: 100%|████████████████████████████████████████████████████████████████████| 1019/1019 [02:52<00:00,  5.90it/s]\n",
      "Validation: 100%|████████████████████████████████████████████████████████████████████| 340/340 [00:24<00:00, 13.65it/s]\n"
     ]
    },
    {
     "name": "stdout",
     "output_type": "stream",
     "text": [
      "Epoch 12: Train 92.4%, Val 94.4%\n"
     ]
    },
    {
     "name": "stderr",
     "output_type": "stream",
     "text": [
      "Training: 100%|████████████████████████████████████████████████████████████████████| 1019/1019 [02:51<00:00,  5.92it/s]\n",
      "Validation: 100%|████████████████████████████████████████████████████████████████████| 340/340 [00:24<00:00, 13.72it/s]\n"
     ]
    },
    {
     "name": "stdout",
     "output_type": "stream",
     "text": [
      "Epoch 13: Train 93.0%, Val 96.5%\n"
     ]
    },
    {
     "name": "stderr",
     "output_type": "stream",
     "text": [
      "Training: 100%|████████████████████████████████████████████████████████████████████| 1019/1019 [02:53<00:00,  5.89it/s]\n",
      "Validation: 100%|████████████████████████████████████████████████████████████████████| 340/340 [00:25<00:00, 13.45it/s]\n"
     ]
    },
    {
     "name": "stdout",
     "output_type": "stream",
     "text": [
      "Epoch 14: Train 93.4%, Val 97.0%\n"
     ]
    },
    {
     "name": "stderr",
     "output_type": "stream",
     "text": [
      "Training: 100%|████████████████████████████████████████████████████████████████████| 1019/1019 [02:52<00:00,  5.90it/s]\n",
      "Validation: 100%|████████████████████████████████████████████████████████████████████| 340/340 [00:25<00:00, 13.19it/s]\n"
     ]
    },
    {
     "name": "stdout",
     "output_type": "stream",
     "text": [
      "Epoch 15: Train 94.3%, Val 95.9%\n"
     ]
    },
    {
     "name": "stderr",
     "output_type": "stream",
     "text": [
      "Training: 100%|████████████████████████████████████████████████████████████████████| 1019/1019 [02:53<00:00,  5.86it/s]\n",
      "Validation: 100%|████████████████████████████████████████████████████████████████████| 340/340 [00:25<00:00, 13.47it/s]\n"
     ]
    },
    {
     "name": "stdout",
     "output_type": "stream",
     "text": [
      "Epoch 16: Train 94.8%, Val 97.3%\n"
     ]
    },
    {
     "name": "stderr",
     "output_type": "stream",
     "text": [
      "Training: 100%|████████████████████████████████████████████████████████████████████| 1019/1019 [02:52<00:00,  5.90it/s]\n",
      "Validation: 100%|████████████████████████████████████████████████████████████████████| 340/340 [00:24<00:00, 13.67it/s]\n"
     ]
    },
    {
     "name": "stdout",
     "output_type": "stream",
     "text": [
      "Epoch 17: Train 95.3%, Val 97.5%\n"
     ]
    },
    {
     "name": "stderr",
     "output_type": "stream",
     "text": [
      "Training: 100%|████████████████████████████████████████████████████████████████████| 1019/1019 [02:53<00:00,  5.89it/s]\n",
      "Validation: 100%|████████████████████████████████████████████████████████████████████| 340/340 [00:25<00:00, 13.58it/s]\n"
     ]
    },
    {
     "name": "stdout",
     "output_type": "stream",
     "text": [
      "Epoch 18: Train 95.7%, Val 97.8%\n"
     ]
    },
    {
     "name": "stderr",
     "output_type": "stream",
     "text": [
      "Training: 100%|████████████████████████████████████████████████████████████████████| 1019/1019 [02:53<00:00,  5.88it/s]\n",
      "Validation: 100%|████████████████████████████████████████████████████████████████████| 340/340 [00:24<00:00, 13.62it/s]\n"
     ]
    },
    {
     "name": "stdout",
     "output_type": "stream",
     "text": [
      "Epoch 19: Train 96.2%, Val 97.6%\n"
     ]
    },
    {
     "name": "stderr",
     "output_type": "stream",
     "text": [
      "Training: 100%|████████████████████████████████████████████████████████████████████| 1019/1019 [02:52<00:00,  5.89it/s]\n",
      "Validation: 100%|████████████████████████████████████████████████████████████████████| 340/340 [00:24<00:00, 13.66it/s]\n"
     ]
    },
    {
     "name": "stdout",
     "output_type": "stream",
     "text": [
      "Epoch 20: Train 96.6%, Val 97.9%\n"
     ]
    },
    {
     "name": "stderr",
     "output_type": "stream",
     "text": [
      "Training: 100%|████████████████████████████████████████████████████████████████████| 1019/1019 [02:52<00:00,  5.91it/s]\n",
      "Validation: 100%|████████████████████████████████████████████████████████████████████| 340/340 [00:25<00:00, 13.59it/s]\n"
     ]
    },
    {
     "name": "stdout",
     "output_type": "stream",
     "text": [
      "Epoch 21: Train 97.0%, Val 98.1%\n"
     ]
    },
    {
     "name": "stderr",
     "output_type": "stream",
     "text": [
      "Training: 100%|████████████████████████████████████████████████████████████████████| 1019/1019 [02:52<00:00,  5.90it/s]\n",
      "Validation: 100%|████████████████████████████████████████████████████████████████████| 340/340 [00:24<00:00, 13.66it/s]\n"
     ]
    },
    {
     "name": "stdout",
     "output_type": "stream",
     "text": [
      "Epoch 22: Train 97.2%, Val 98.3%\n"
     ]
    },
    {
     "name": "stderr",
     "output_type": "stream",
     "text": [
      "Training: 100%|████████████████████████████████████████████████████████████████████| 1019/1019 [02:52<00:00,  5.90it/s]\n",
      "Validation: 100%|████████████████████████████████████████████████████████████████████| 340/340 [00:24<00:00, 13.65it/s]\n"
     ]
    },
    {
     "name": "stdout",
     "output_type": "stream",
     "text": [
      "Epoch 23: Train 97.5%, Val 98.7%\n"
     ]
    },
    {
     "name": "stderr",
     "output_type": "stream",
     "text": [
      "Training: 100%|████████████████████████████████████████████████████████████████████| 1019/1019 [02:52<00:00,  5.90it/s]\n",
      "Validation: 100%|████████████████████████████████████████████████████████████████████| 340/340 [00:24<00:00, 13.62it/s]\n"
     ]
    },
    {
     "name": "stdout",
     "output_type": "stream",
     "text": [
      "Epoch 24: Train 97.6%, Val 98.6%\n"
     ]
    },
    {
     "name": "stderr",
     "output_type": "stream",
     "text": [
      "Training: 100%|████████████████████████████████████████████████████████████████████| 1019/1019 [02:51<00:00,  5.94it/s]\n",
      "Validation: 100%|████████████████████████████████████████████████████████████████████| 340/340 [00:25<00:00, 13.60it/s]\n"
     ]
    },
    {
     "name": "stdout",
     "output_type": "stream",
     "text": [
      "Epoch 25: Train 97.9%, Val 98.5%\n"
     ]
    },
    {
     "name": "stderr",
     "output_type": "stream",
     "text": [
      "Training: 100%|████████████████████████████████████████████████████████████████████| 1019/1019 [02:50<00:00,  5.96it/s]\n",
      "Validation: 100%|████████████████████████████████████████████████████████████████████| 340/340 [00:24<00:00, 13.63it/s]\n"
     ]
    },
    {
     "name": "stdout",
     "output_type": "stream",
     "text": [
      "Epoch 26: Train 98.4%, Val 98.8%\n"
     ]
    },
    {
     "name": "stderr",
     "output_type": "stream",
     "text": [
      "Training: 100%|████████████████████████████████████████████████████████████████████| 1019/1019 [02:52<00:00,  5.90it/s]\n",
      "Validation: 100%|████████████████████████████████████████████████████████████████████| 340/340 [00:25<00:00, 13.57it/s]\n"
     ]
    },
    {
     "name": "stdout",
     "output_type": "stream",
     "text": [
      "Epoch 27: Train 98.3%, Val 98.9%\n"
     ]
    },
    {
     "name": "stderr",
     "output_type": "stream",
     "text": [
      "Training: 100%|████████████████████████████████████████████████████████████████████| 1019/1019 [02:53<00:00,  5.88it/s]\n",
      "Validation: 100%|████████████████████████████████████████████████████████████████████| 340/340 [00:25<00:00, 13.57it/s]\n"
     ]
    },
    {
     "name": "stdout",
     "output_type": "stream",
     "text": [
      "Epoch 28: Train 98.5%, Val 99.0%\n"
     ]
    },
    {
     "name": "stderr",
     "output_type": "stream",
     "text": [
      "Training: 100%|████████████████████████████████████████████████████████████████████| 1019/1019 [02:53<00:00,  5.89it/s]\n",
      "Validation: 100%|████████████████████████████████████████████████████████████████████| 340/340 [00:25<00:00, 13.38it/s]\n"
     ]
    },
    {
     "name": "stdout",
     "output_type": "stream",
     "text": [
      "Epoch 29: Train 98.7%, Val 99.1%\n"
     ]
    },
    {
     "name": "stderr",
     "output_type": "stream",
     "text": [
      "Training: 100%|████████████████████████████████████████████████████████████████████| 1019/1019 [02:53<00:00,  5.89it/s]\n",
      "Validation: 100%|████████████████████████████████████████████████████████████████████| 340/340 [00:25<00:00, 13.43it/s]\n"
     ]
    },
    {
     "name": "stdout",
     "output_type": "stream",
     "text": [
      "Epoch 30: Train 98.8%, Val 99.1%\n"
     ]
    },
    {
     "name": "stderr",
     "output_type": "stream",
     "text": [
      "Training: 100%|████████████████████████████████████████████████████████████████████| 1019/1019 [02:53<00:00,  5.86it/s]\n",
      "Validation: 100%|████████████████████████████████████████████████████████████████████| 340/340 [00:25<00:00, 13.28it/s]\n"
     ]
    },
    {
     "name": "stdout",
     "output_type": "stream",
     "text": [
      "Epoch 31: Train 98.9%, Val 99.2%\n"
     ]
    },
    {
     "name": "stderr",
     "output_type": "stream",
     "text": [
      "Training: 100%|████████████████████████████████████████████████████████████████████| 1019/1019 [02:54<00:00,  5.85it/s]\n",
      "Validation: 100%|████████████████████████████████████████████████████████████████████| 340/340 [00:26<00:00, 12.94it/s]\n"
     ]
    },
    {
     "name": "stdout",
     "output_type": "stream",
     "text": [
      "Epoch 32: Train 99.1%, Val 99.4%\n"
     ]
    },
    {
     "name": "stderr",
     "output_type": "stream",
     "text": [
      "Training: 100%|████████████████████████████████████████████████████████████████████| 1019/1019 [02:53<00:00,  5.89it/s]\n",
      "Validation: 100%|████████████████████████████████████████████████████████████████████| 340/340 [00:25<00:00, 13.47it/s]\n"
     ]
    },
    {
     "name": "stdout",
     "output_type": "stream",
     "text": [
      "Epoch 33: Train 99.2%, Val 99.3%\n"
     ]
    },
    {
     "name": "stderr",
     "output_type": "stream",
     "text": [
      "Training: 100%|████████████████████████████████████████████████████████████████████| 1019/1019 [02:53<00:00,  5.87it/s]\n",
      "Validation: 100%|████████████████████████████████████████████████████████████████████| 340/340 [00:25<00:00, 13.44it/s]\n"
     ]
    },
    {
     "name": "stdout",
     "output_type": "stream",
     "text": [
      "Epoch 34: Train 99.1%, Val 99.3%\n"
     ]
    },
    {
     "name": "stderr",
     "output_type": "stream",
     "text": [
      "Training: 100%|████████████████████████████████████████████████████████████████████| 1019/1019 [02:53<00:00,  5.87it/s]\n",
      "Validation: 100%|████████████████████████████████████████████████████████████████████| 340/340 [00:25<00:00, 13.46it/s]\n"
     ]
    },
    {
     "name": "stdout",
     "output_type": "stream",
     "text": [
      "Epoch 35: Train 99.3%, Val 99.3%\n"
     ]
    },
    {
     "name": "stderr",
     "output_type": "stream",
     "text": [
      "Training: 100%|████████████████████████████████████████████████████████████████████| 1019/1019 [02:53<00:00,  5.87it/s]\n",
      "Validation: 100%|████████████████████████████████████████████████████████████████████| 340/340 [00:28<00:00, 12.06it/s]\n"
     ]
    },
    {
     "name": "stdout",
     "output_type": "stream",
     "text": [
      "Epoch 36: Train 99.4%, Val 99.3%\n"
     ]
    },
    {
     "name": "stderr",
     "output_type": "stream",
     "text": [
      "Training: 100%|████████████████████████████████████████████████████████████████████| 1019/1019 [02:54<00:00,  5.83it/s]\n",
      "Validation: 100%|████████████████████████████████████████████████████████████████████| 340/340 [00:25<00:00, 13.41it/s]\n"
     ]
    },
    {
     "name": "stdout",
     "output_type": "stream",
     "text": [
      "Epoch 37: Train 99.4%, Val 99.4%\n"
     ]
    },
    {
     "name": "stderr",
     "output_type": "stream",
     "text": [
      "Training: 100%|████████████████████████████████████████████████████████████████████| 1019/1019 [02:52<00:00,  5.89it/s]\n",
      "Validation: 100%|████████████████████████████████████████████████████████████████████| 340/340 [00:25<00:00, 13.43it/s]\n"
     ]
    },
    {
     "name": "stdout",
     "output_type": "stream",
     "text": [
      "Epoch 38: Train 99.5%, Val 99.4%\n"
     ]
    },
    {
     "name": "stderr",
     "output_type": "stream",
     "text": [
      "Training: 100%|████████████████████████████████████████████████████████████████████| 1019/1019 [02:52<00:00,  5.89it/s]\n",
      "Validation: 100%|████████████████████████████████████████████████████████████████████| 340/340 [00:25<00:00, 13.36it/s]\n"
     ]
    },
    {
     "name": "stdout",
     "output_type": "stream",
     "text": [
      "Epoch 39: Train 99.4%, Val 99.5%\n"
     ]
    },
    {
     "name": "stderr",
     "output_type": "stream",
     "text": [
      "Training: 100%|████████████████████████████████████████████████████████████████████| 1019/1019 [02:54<00:00,  5.85it/s]\n",
      "Validation: 100%|████████████████████████████████████████████████████████████████████| 340/340 [00:25<00:00, 13.39it/s]\n"
     ]
    },
    {
     "name": "stdout",
     "output_type": "stream",
     "text": [
      "Epoch 40: Train 99.5%, Val 99.4%\n"
     ]
    },
    {
     "name": "stderr",
     "output_type": "stream",
     "text": [
      "Validation: 100%|████████████████████████████████████████████████████████████████████| 340/340 [00:25<00:00, 13.40it/s]\n"
     ]
    },
    {
     "name": "stdout",
     "output_type": "stream",
     "text": [
      "Confusion matrix saved: C:\\Users\\nhdkr\\off_plant_di_err_analyze\\results\\resnet50_confusion_matrix.csv\n",
      "Classification statistics saved: C:\\Users\\nhdkr\\off_plant_di_err_analyze\\results\\resnet50_classification_stats.csv\n"
     ]
    },
    {
     "name": "stderr",
     "output_type": "stream",
     "text": [
      "Clipping input data to the valid range for imshow with RGB data ([0..1] for floats or [0..255] for integers). Got range [-2.1007793..1.2979523].\n",
      "Clipping input data to the valid range for imshow with RGB data ([0..1] for floats or [0..255] for integers). Got range [-1.7754089..2.1484594].\n"
     ]
    },
    {
     "name": "stdout",
     "output_type": "stream",
     "text": [
      "Confusion matrix plot saved: C:\\Users\\nhdkr\\off_plant_di_err_analyze\\results\\resnet50_confusion_matrix.png\n",
      "Top-k Accuracy: {'top_1_acc': 99.4475646809686, 'top_3_acc': 99.93554921277968, 'top_5_acc': 99.95396372341405}\n"
     ]
    },
    {
     "name": "stderr",
     "output_type": "stream",
     "text": [
      "Clipping input data to the valid range for imshow with RGB data ([0..1] for floats or [0..255] for integers). Got range [-2.0151556..1.6988237].\n",
      "Clipping input data to the valid range for imshow with RGB data ([0..1] for floats or [0..255] for integers). Got range [-1.68244..1.5467933].\n",
      "Clipping input data to the valid range for imshow with RGB data ([0..1] for floats or [0..255] for integers). Got range [-1.9295317..2.0259104].\n",
      "Clipping input data to the valid range for imshow with RGB data ([0..1] for floats or [0..255] for integers). Got range [-1.7411594..1.8731157].\n",
      "Clipping input data to the valid range for imshow with RGB data ([0..1] for floats or [0..255] for integers). Got range [-2.0494049..1.541961].\n",
      "Clipping input data to the valid range for imshow with RGB data ([0..1] for floats or [0..255] for integers). Got range [-1.8044444..1.6666666].\n",
      "Clipping input data to the valid range for imshow with RGB data ([0..1] for floats or [0..255] for integers). Got range [-1.7695861..2.2535014].\n",
      "Clipping input data to the valid range for imshow with RGB data ([0..1] for floats or [0..255] for integers). Got range [-1.6041614..2.3785625].\n",
      "Clipping input data to the valid range for imshow with RGB data ([0..1] for floats or [0..255] for integers). Got range [-2.117904..2.1484594].\n",
      "Clipping input data to the valid range for imshow with RGB data ([0..1] for floats or [0..255] for integers). Got range [-1.7870152..1.9951199].\n",
      "Clipping input data to the valid range for imshow with RGB data ([0..1] for floats or [0..255] for integers). Got range [-1.9637812..2.0996952].\n",
      "Clipping input data to the valid range for imshow with RGB data ([0..1] for floats or [0..255] for integers). Got range [-1.5455182..2.64].\n",
      "Clipping input data to the valid range for imshow with RGB data ([0..1] for floats or [0..255] for integers). Got range [-1.9466565..2.2885156].\n",
      "Clipping input data to the valid range for imshow with RGB data ([0..1] for floats or [0..255] for integers). Got range [-1.6127234..2.0996952].\n",
      "Clipping input data to the valid range for imshow with RGB data ([0..1] for floats or [0..255] for integers). Got range [-2.1007793..2.2216995].\n",
      "Clipping input data to the valid range for imshow with RGB data ([0..1] for floats or [0..255] for integers). Got range [-1.6650109..1.5245317].\n",
      "Clipping input data to the valid range for imshow with RGB data ([0..1] for floats or [0..255] for integers). Got range [-1.6041614..2.186841].\n",
      "Clipping input data to the valid range for imshow with RGB data ([0..1] for floats or [0..255] for integers). Got range [-1.7695861..1.9577874].\n"
     ]
    },
    {
     "name": "stdout",
     "output_type": "stream",
     "text": [
      "Saved 20 misclassified images to C:\\Users\\nhdkr\\off_plant_di_err_analyze\\results\n",
      "\n",
      "ResNet50 RESULTS:\n",
      "----------------------------------------\n",
      "Accuracy: 99.45%\n",
      "Error rate: 0.55%\n",
      "Files saved:\n",
      "  - Confusion Matrix CSV: C:\\Users\\nhdkr\\off_plant_di_err_analyze\\results\\resnet50_confusion_matrix.csv\n",
      "  - Classification Stats: C:\\Users\\nhdkr\\off_plant_di_err_analyze\\results\\resnet50_classification_stats.csv\n",
      "  - Confusion Matrix Plot: C:\\Users\\nhdkr\\off_plant_di_err_analyze\\results\\resnet50_confusion_matrix.png\n",
      "Model saved to: C:\\Users\\nhdkr\\off_plant_di_err_analyze\\models\\resnet50_final.pth\n",
      "\n",
      "================================================================================\n",
      "TRAINING MODEL 7/12: MobileNetV2\n",
      "================================================================================\n",
      "\n",
      "Training MobileNetV2...\n"
     ]
    },
    {
     "name": "stderr",
     "output_type": "stream",
     "text": [
      "Training: 100%|████████████████████████████████████████████████████████████████████| 1019/1019 [01:27<00:00, 11.71it/s]\n",
      "Validation: 100%|████████████████████████████████████████████████████████████████████| 340/340 [00:24<00:00, 13.65it/s]\n"
     ]
    },
    {
     "name": "stdout",
     "output_type": "stream",
     "text": [
      "Epoch 1: Train 43.1%, Val 59.3%\n"
     ]
    },
    {
     "name": "stderr",
     "output_type": "stream",
     "text": [
      "Training: 100%|████████████████████████████████████████████████████████████████████| 1019/1019 [01:26<00:00, 11.80it/s]\n",
      "Validation: 100%|████████████████████████████████████████████████████████████████████| 340/340 [00:25<00:00, 13.55it/s]\n"
     ]
    },
    {
     "name": "stdout",
     "output_type": "stream",
     "text": [
      "Epoch 2: Train 64.7%, Val 75.0%\n"
     ]
    },
    {
     "name": "stderr",
     "output_type": "stream",
     "text": [
      "Training: 100%|████████████████████████████████████████████████████████████████████| 1019/1019 [01:26<00:00, 11.84it/s]\n",
      "Validation: 100%|████████████████████████████████████████████████████████████████████| 340/340 [00:24<00:00, 13.66it/s]\n"
     ]
    },
    {
     "name": "stdout",
     "output_type": "stream",
     "text": [
      "Epoch 3: Train 75.2%, Val 79.5%\n"
     ]
    },
    {
     "name": "stderr",
     "output_type": "stream",
     "text": [
      "Training: 100%|████████████████████████████████████████████████████████████████████| 1019/1019 [01:26<00:00, 11.83it/s]\n",
      "Validation: 100%|████████████████████████████████████████████████████████████████████| 340/340 [00:25<00:00, 13.57it/s]\n"
     ]
    },
    {
     "name": "stdout",
     "output_type": "stream",
     "text": [
      "Epoch 4: Train 79.8%, Val 83.3%\n"
     ]
    },
    {
     "name": "stderr",
     "output_type": "stream",
     "text": [
      "Training: 100%|████████████████████████████████████████████████████████████████████| 1019/1019 [01:26<00:00, 11.80it/s]\n",
      "Validation: 100%|████████████████████████████████████████████████████████████████████| 340/340 [00:24<00:00, 13.77it/s]\n"
     ]
    },
    {
     "name": "stdout",
     "output_type": "stream",
     "text": [
      "Epoch 5: Train 83.0%, Val 87.6%\n"
     ]
    },
    {
     "name": "stderr",
     "output_type": "stream",
     "text": [
      "Training: 100%|████████████████████████████████████████████████████████████████████| 1019/1019 [01:26<00:00, 11.79it/s]\n",
      "Validation: 100%|████████████████████████████████████████████████████████████████████| 340/340 [00:24<00:00, 13.78it/s]\n"
     ]
    },
    {
     "name": "stdout",
     "output_type": "stream",
     "text": [
      "Epoch 6: Train 85.4%, Val 88.5%\n"
     ]
    },
    {
     "name": "stderr",
     "output_type": "stream",
     "text": [
      "Training: 100%|████████████████████████████████████████████████████████████████████| 1019/1019 [01:26<00:00, 11.84it/s]\n",
      "Validation: 100%|████████████████████████████████████████████████████████████████████| 340/340 [00:25<00:00, 13.56it/s]\n"
     ]
    },
    {
     "name": "stdout",
     "output_type": "stream",
     "text": [
      "Epoch 7: Train 87.3%, Val 90.2%\n"
     ]
    },
    {
     "name": "stderr",
     "output_type": "stream",
     "text": [
      "Training: 100%|████████████████████████████████████████████████████████████████████| 1019/1019 [01:26<00:00, 11.80it/s]\n",
      "Validation: 100%|████████████████████████████████████████████████████████████████████| 340/340 [00:24<00:00, 13.71it/s]\n"
     ]
    },
    {
     "name": "stdout",
     "output_type": "stream",
     "text": [
      "Epoch 8: Train 88.4%, Val 90.7%\n"
     ]
    },
    {
     "name": "stderr",
     "output_type": "stream",
     "text": [
      "Training: 100%|████████████████████████████████████████████████████████████████████| 1019/1019 [01:26<00:00, 11.75it/s]\n",
      "Validation: 100%|████████████████████████████████████████████████████████████████████| 340/340 [00:24<00:00, 13.69it/s]\n"
     ]
    },
    {
     "name": "stdout",
     "output_type": "stream",
     "text": [
      "Epoch 9: Train 89.6%, Val 90.4%\n"
     ]
    },
    {
     "name": "stderr",
     "output_type": "stream",
     "text": [
      "Training: 100%|████████████████████████████████████████████████████████████████████| 1019/1019 [01:26<00:00, 11.81it/s]\n",
      "Validation: 100%|████████████████████████████████████████████████████████████████████| 340/340 [00:24<00:00, 13.69it/s]\n"
     ]
    },
    {
     "name": "stdout",
     "output_type": "stream",
     "text": [
      "Epoch 10: Train 90.7%, Val 95.2%\n"
     ]
    },
    {
     "name": "stderr",
     "output_type": "stream",
     "text": [
      "Training: 100%|████████████████████████████████████████████████████████████████████| 1019/1019 [01:26<00:00, 11.81it/s]\n",
      "Validation: 100%|████████████████████████████████████████████████████████████████████| 340/340 [00:24<00:00, 13.67it/s]\n"
     ]
    },
    {
     "name": "stdout",
     "output_type": "stream",
     "text": [
      "Epoch 11: Train 91.3%, Val 94.2%\n"
     ]
    },
    {
     "name": "stderr",
     "output_type": "stream",
     "text": [
      "Training: 100%|████████████████████████████████████████████████████████████████████| 1019/1019 [01:26<00:00, 11.79it/s]\n",
      "Validation: 100%|████████████████████████████████████████████████████████████████████| 340/340 [00:24<00:00, 13.61it/s]\n"
     ]
    },
    {
     "name": "stdout",
     "output_type": "stream",
     "text": [
      "Epoch 12: Train 92.1%, Val 94.2%\n"
     ]
    },
    {
     "name": "stderr",
     "output_type": "stream",
     "text": [
      "Training: 100%|████████████████████████████████████████████████████████████████████| 1019/1019 [01:26<00:00, 11.78it/s]\n",
      "Validation: 100%|████████████████████████████████████████████████████████████████████| 340/340 [00:24<00:00, 13.72it/s]\n"
     ]
    },
    {
     "name": "stdout",
     "output_type": "stream",
     "text": [
      "Epoch 13: Train 93.0%, Val 96.6%\n"
     ]
    },
    {
     "name": "stderr",
     "output_type": "stream",
     "text": [
      "Training: 100%|████████████████████████████████████████████████████████████████████| 1019/1019 [01:26<00:00, 11.81it/s]\n",
      "Validation: 100%|████████████████████████████████████████████████████████████████████| 340/340 [00:24<00:00, 13.70it/s]\n"
     ]
    },
    {
     "name": "stdout",
     "output_type": "stream",
     "text": [
      "Epoch 14: Train 93.4%, Val 96.2%\n"
     ]
    },
    {
     "name": "stderr",
     "output_type": "stream",
     "text": [
      "Training: 100%|████████████████████████████████████████████████████████████████████| 1019/1019 [01:26<00:00, 11.79it/s]\n",
      "Validation: 100%|████████████████████████████████████████████████████████████████████| 340/340 [00:25<00:00, 13.59it/s]\n"
     ]
    },
    {
     "name": "stdout",
     "output_type": "stream",
     "text": [
      "Epoch 15: Train 94.0%, Val 96.5%\n"
     ]
    },
    {
     "name": "stderr",
     "output_type": "stream",
     "text": [
      "Training: 100%|████████████████████████████████████████████████████████████████████| 1019/1019 [01:26<00:00, 11.78it/s]\n",
      "Validation: 100%|████████████████████████████████████████████████████████████████████| 340/340 [00:24<00:00, 13.70it/s]\n"
     ]
    },
    {
     "name": "stdout",
     "output_type": "stream",
     "text": [
      "Epoch 16: Train 94.7%, Val 97.0%\n"
     ]
    },
    {
     "name": "stderr",
     "output_type": "stream",
     "text": [
      "Training: 100%|████████████████████████████████████████████████████████████████████| 1019/1019 [01:26<00:00, 11.77it/s]\n",
      "Validation: 100%|████████████████████████████████████████████████████████████████████| 340/340 [00:24<00:00, 13.62it/s]\n"
     ]
    },
    {
     "name": "stdout",
     "output_type": "stream",
     "text": [
      "Epoch 17: Train 94.9%, Val 96.3%\n"
     ]
    },
    {
     "name": "stderr",
     "output_type": "stream",
     "text": [
      "Training: 100%|████████████████████████████████████████████████████████████████████| 1019/1019 [01:26<00:00, 11.77it/s]\n",
      "Validation: 100%|████████████████████████████████████████████████████████████████████| 340/340 [00:24<00:00, 13.78it/s]\n"
     ]
    },
    {
     "name": "stdout",
     "output_type": "stream",
     "text": [
      "Epoch 18: Train 95.3%, Val 97.6%\n"
     ]
    },
    {
     "name": "stderr",
     "output_type": "stream",
     "text": [
      "Training: 100%|████████████████████████████████████████████████████████████████████| 1019/1019 [01:26<00:00, 11.78it/s]\n",
      "Validation: 100%|████████████████████████████████████████████████████████████████████| 340/340 [00:24<00:00, 13.73it/s]\n"
     ]
    },
    {
     "name": "stdout",
     "output_type": "stream",
     "text": [
      "Epoch 19: Train 95.7%, Val 97.3%\n"
     ]
    },
    {
     "name": "stderr",
     "output_type": "stream",
     "text": [
      "Training: 100%|████████████████████████████████████████████████████████████████████| 1019/1019 [01:26<00:00, 11.77it/s]\n",
      "Validation: 100%|████████████████████████████████████████████████████████████████████| 340/340 [00:25<00:00, 13.56it/s]\n"
     ]
    },
    {
     "name": "stdout",
     "output_type": "stream",
     "text": [
      "Epoch 20: Train 96.0%, Val 97.9%\n"
     ]
    },
    {
     "name": "stderr",
     "output_type": "stream",
     "text": [
      "Training: 100%|████████████████████████████████████████████████████████████████████| 1019/1019 [01:26<00:00, 11.76it/s]\n",
      "Validation: 100%|████████████████████████████████████████████████████████████████████| 340/340 [00:24<00:00, 13.73it/s]\n"
     ]
    },
    {
     "name": "stdout",
     "output_type": "stream",
     "text": [
      "Epoch 21: Train 96.4%, Val 97.7%\n"
     ]
    },
    {
     "name": "stderr",
     "output_type": "stream",
     "text": [
      "Training: 100%|████████████████████████████████████████████████████████████████████| 1019/1019 [01:26<00:00, 11.75it/s]\n",
      "Validation: 100%|████████████████████████████████████████████████████████████████████| 340/340 [00:25<00:00, 13.55it/s]\n"
     ]
    },
    {
     "name": "stdout",
     "output_type": "stream",
     "text": [
      "Epoch 22: Train 96.8%, Val 97.9%\n"
     ]
    },
    {
     "name": "stderr",
     "output_type": "stream",
     "text": [
      "Training: 100%|████████████████████████████████████████████████████████████████████| 1019/1019 [01:26<00:00, 11.77it/s]\n",
      "Validation: 100%|████████████████████████████████████████████████████████████████████| 340/340 [00:24<00:00, 13.61it/s]\n"
     ]
    },
    {
     "name": "stdout",
     "output_type": "stream",
     "text": [
      "Epoch 23: Train 96.9%, Val 98.2%\n"
     ]
    },
    {
     "name": "stderr",
     "output_type": "stream",
     "text": [
      "Training: 100%|████████████████████████████████████████████████████████████████████| 1019/1019 [01:26<00:00, 11.75it/s]\n",
      "Validation: 100%|████████████████████████████████████████████████████████████████████| 340/340 [00:24<00:00, 13.96it/s]\n"
     ]
    },
    {
     "name": "stdout",
     "output_type": "stream",
     "text": [
      "Epoch 24: Train 97.4%, Val 97.7%\n"
     ]
    },
    {
     "name": "stderr",
     "output_type": "stream",
     "text": [
      "Training: 100%|████████████████████████████████████████████████████████████████████| 1019/1019 [01:26<00:00, 11.73it/s]\n",
      "Validation: 100%|████████████████████████████████████████████████████████████████████| 340/340 [00:25<00:00, 13.56it/s]\n"
     ]
    },
    {
     "name": "stdout",
     "output_type": "stream",
     "text": [
      "Epoch 25: Train 97.6%, Val 98.4%\n"
     ]
    },
    {
     "name": "stderr",
     "output_type": "stream",
     "text": [
      "Training: 100%|████████████████████████████████████████████████████████████████████| 1019/1019 [01:26<00:00, 11.76it/s]\n",
      "Validation: 100%|████████████████████████████████████████████████████████████████████| 340/340 [00:25<00:00, 13.55it/s]\n"
     ]
    },
    {
     "name": "stdout",
     "output_type": "stream",
     "text": [
      "Epoch 26: Train 97.8%, Val 98.4%\n"
     ]
    },
    {
     "name": "stderr",
     "output_type": "stream",
     "text": [
      "Training: 100%|████████████████████████████████████████████████████████████████████| 1019/1019 [01:26<00:00, 11.74it/s]\n",
      "Validation: 100%|████████████████████████████████████████████████████████████████████| 340/340 [00:24<00:00, 13.79it/s]\n"
     ]
    },
    {
     "name": "stdout",
     "output_type": "stream",
     "text": [
      "Epoch 27: Train 97.9%, Val 98.4%\n"
     ]
    },
    {
     "name": "stderr",
     "output_type": "stream",
     "text": [
      "Training: 100%|████████████████████████████████████████████████████████████████████| 1019/1019 [01:26<00:00, 11.79it/s]\n",
      "Validation: 100%|████████████████████████████████████████████████████████████████████| 340/340 [00:24<00:00, 13.64it/s]\n"
     ]
    },
    {
     "name": "stdout",
     "output_type": "stream",
     "text": [
      "Epoch 28: Train 98.1%, Val 98.3%\n"
     ]
    },
    {
     "name": "stderr",
     "output_type": "stream",
     "text": [
      "Training: 100%|████████████████████████████████████████████████████████████████████| 1019/1019 [01:26<00:00, 11.80it/s]\n",
      "Validation: 100%|████████████████████████████████████████████████████████████████████| 340/340 [00:24<00:00, 13.70it/s]\n"
     ]
    },
    {
     "name": "stdout",
     "output_type": "stream",
     "text": [
      "Epoch 29: Train 98.4%, Val 98.5%\n"
     ]
    },
    {
     "name": "stderr",
     "output_type": "stream",
     "text": [
      "Training: 100%|████████████████████████████████████████████████████████████████████| 1019/1019 [01:26<00:00, 11.82it/s]\n",
      "Validation: 100%|████████████████████████████████████████████████████████████████████| 340/340 [00:24<00:00, 13.62it/s]\n"
     ]
    },
    {
     "name": "stdout",
     "output_type": "stream",
     "text": [
      "Epoch 30: Train 98.5%, Val 98.7%\n"
     ]
    },
    {
     "name": "stderr",
     "output_type": "stream",
     "text": [
      "Training: 100%|████████████████████████████████████████████████████████████████████| 1019/1019 [01:26<00:00, 11.81it/s]\n",
      "Validation: 100%|████████████████████████████████████████████████████████████████████| 340/340 [00:25<00:00, 13.53it/s]\n"
     ]
    },
    {
     "name": "stdout",
     "output_type": "stream",
     "text": [
      "Epoch 31: Train 98.7%, Val 98.9%\n"
     ]
    },
    {
     "name": "stderr",
     "output_type": "stream",
     "text": [
      "Training: 100%|████████████████████████████████████████████████████████████████████| 1019/1019 [01:26<00:00, 11.77it/s]\n",
      "Validation: 100%|████████████████████████████████████████████████████████████████████| 340/340 [00:24<00:00, 13.67it/s]\n"
     ]
    },
    {
     "name": "stdout",
     "output_type": "stream",
     "text": [
      "Epoch 32: Train 98.8%, Val 98.9%\n"
     ]
    },
    {
     "name": "stderr",
     "output_type": "stream",
     "text": [
      "Training: 100%|████████████████████████████████████████████████████████████████████| 1019/1019 [01:26<00:00, 11.77it/s]\n",
      "Validation: 100%|████████████████████████████████████████████████████████████████████| 340/340 [00:24<00:00, 13.76it/s]\n"
     ]
    },
    {
     "name": "stdout",
     "output_type": "stream",
     "text": [
      "Epoch 33: Train 98.9%, Val 99.0%\n"
     ]
    },
    {
     "name": "stderr",
     "output_type": "stream",
     "text": [
      "Training: 100%|████████████████████████████████████████████████████████████████████| 1019/1019 [01:26<00:00, 11.77it/s]\n",
      "Validation: 100%|████████████████████████████████████████████████████████████████████| 340/340 [00:24<00:00, 13.74it/s]\n"
     ]
    },
    {
     "name": "stdout",
     "output_type": "stream",
     "text": [
      "Epoch 34: Train 99.0%, Val 99.0%\n"
     ]
    },
    {
     "name": "stderr",
     "output_type": "stream",
     "text": [
      "Training: 100%|████████████████████████████████████████████████████████████████████| 1019/1019 [01:26<00:00, 11.75it/s]\n",
      "Validation: 100%|████████████████████████████████████████████████████████████████████| 340/340 [00:24<00:00, 13.68it/s]\n"
     ]
    },
    {
     "name": "stdout",
     "output_type": "stream",
     "text": [
      "Epoch 35: Train 99.1%, Val 99.0%\n"
     ]
    },
    {
     "name": "stderr",
     "output_type": "stream",
     "text": [
      "Training: 100%|████████████████████████████████████████████████████████████████████| 1019/1019 [01:26<00:00, 11.77it/s]\n",
      "Validation: 100%|████████████████████████████████████████████████████████████████████| 340/340 [00:24<00:00, 13.73it/s]\n"
     ]
    },
    {
     "name": "stdout",
     "output_type": "stream",
     "text": [
      "Epoch 36: Train 99.2%, Val 99.1%\n"
     ]
    },
    {
     "name": "stderr",
     "output_type": "stream",
     "text": [
      "Training: 100%|████████████████████████████████████████████████████████████████████| 1019/1019 [01:26<00:00, 11.76it/s]\n",
      "Validation: 100%|████████████████████████████████████████████████████████████████████| 340/340 [00:24<00:00, 13.73it/s]\n"
     ]
    },
    {
     "name": "stdout",
     "output_type": "stream",
     "text": [
      "Epoch 37: Train 99.3%, Val 99.1%\n"
     ]
    },
    {
     "name": "stderr",
     "output_type": "stream",
     "text": [
      "Training: 100%|████████████████████████████████████████████████████████████████████| 1019/1019 [01:26<00:00, 11.78it/s]\n",
      "Validation: 100%|████████████████████████████████████████████████████████████████████| 340/340 [00:24<00:00, 13.62it/s]\n"
     ]
    },
    {
     "name": "stdout",
     "output_type": "stream",
     "text": [
      "Epoch 38: Train 99.1%, Val 99.1%\n"
     ]
    },
    {
     "name": "stderr",
     "output_type": "stream",
     "text": [
      "Training: 100%|████████████████████████████████████████████████████████████████████| 1019/1019 [01:26<00:00, 11.79it/s]\n",
      "Validation: 100%|████████████████████████████████████████████████████████████████████| 340/340 [00:25<00:00, 13.48it/s]\n"
     ]
    },
    {
     "name": "stdout",
     "output_type": "stream",
     "text": [
      "Epoch 39: Train 99.2%, Val 99.1%\n"
     ]
    },
    {
     "name": "stderr",
     "output_type": "stream",
     "text": [
      "Training: 100%|████████████████████████████████████████████████████████████████████| 1019/1019 [01:26<00:00, 11.82it/s]\n",
      "Validation: 100%|████████████████████████████████████████████████████████████████████| 340/340 [00:25<00:00, 13.54it/s]\n"
     ]
    },
    {
     "name": "stdout",
     "output_type": "stream",
     "text": [
      "Epoch 40: Train 99.2%, Val 99.1%\n"
     ]
    },
    {
     "name": "stderr",
     "output_type": "stream",
     "text": [
      "Validation: 100%|████████████████████████████████████████████████████████████████████| 340/340 [00:24<00:00, 13.89it/s]\n"
     ]
    },
    {
     "name": "stdout",
     "output_type": "stream",
     "text": [
      "Confusion matrix saved: C:\\Users\\nhdkr\\off_plant_di_err_analyze\\results\\mobilenetv2_confusion_matrix.csv\n",
      "Classification statistics saved: C:\\Users\\nhdkr\\off_plant_di_err_analyze\\results\\mobilenetv2_classification_stats.csv\n"
     ]
    },
    {
     "name": "stderr",
     "output_type": "stream",
     "text": [
      "Clipping input data to the valid range for imshow with RGB data ([0..1] for floats or [0..255] for integers). Got range [-2.0151556..1.9428324].\n",
      "Clipping input data to the valid range for imshow with RGB data ([0..1] for floats or [0..255] for integers). Got range [-1.5604358..1.7351656].\n"
     ]
    },
    {
     "name": "stdout",
     "output_type": "stream",
     "text": [
      "Confusion matrix plot saved: C:\\Users\\nhdkr\\off_plant_di_err_analyze\\results\\mobilenetv2_confusion_matrix.png\n",
      "Top-k Accuracy: {'top_1_acc': 99.13451800018414, 'top_3_acc': 99.92634195746248, 'top_5_acc': 99.98158548936561}\n"
     ]
    },
    {
     "name": "stderr",
     "output_type": "stream",
     "text": [
      "Clipping input data to the valid range for imshow with RGB data ([0..1] for floats or [0..255] for integers). Got range [-2.0665298..2.0822659].\n",
      "Clipping input data to the valid range for imshow with RGB data ([0..1] for floats or [0..255] for integers). Got range [-1.8044444..1.7511113].\n",
      "Clipping input data to the valid range for imshow with RGB data ([0..1] for floats or [0..255] for integers). Got range [-1.6998693..1.9383754].\n",
      "Clipping input data to the valid range for imshow with RGB data ([0..1] for floats or [0..255] for integers). Got range [-1.7695861..1.9577874].\n",
      "Clipping input data to the valid range for imshow with RGB data ([0..1] for floats or [0..255] for integers). Got range [-1.7870152..1.9951199].\n",
      "Clipping input data to the valid range for imshow with RGB data ([0..1] for floats or [0..255] for integers). Got range [-2.0836544..1.9951199].\n",
      "Clipping input data to the valid range for imshow with RGB data ([0..1] for floats or [0..255] for integers). Got range [-1.9831933..2.2914162].\n",
      "Clipping input data to the valid range for imshow with RGB data ([0..1] for floats or [0..255] for integers). Got range [-1.8267832..1.8333333].\n",
      "Clipping input data to the valid range for imshow with RGB data ([0..1] for floats or [0..255] for integers). Got range [-1.9295317..2.0474076].\n",
      "Clipping input data to the valid range for imshow with RGB data ([0..1] for floats or [0..255] for integers). Got range [-1.7069099..1.5942485].\n",
      "Clipping input data to the valid range for imshow with RGB data ([0..1] for floats or [0..255] for integers). Got range [-1.7754089..2.2391288].\n",
      "Clipping input data to the valid range for imshow with RGB data ([0..1] for floats or [0..255] for integers). Got range [-2.0322802..2.2042704].\n",
      "Clipping input data to the valid range for imshow with RGB data ([0..1] for floats or [0..255] for integers). Got range [-2.0836544..2.2535014].\n",
      "Clipping input data to the valid range for imshow with RGB data ([0..1] for floats or [0..255] for integers). Got range [-1.8781574..2.129035].\n",
      "Clipping input data to the valid range for imshow with RGB data ([0..1] for floats or [0..255] for integers). Got range [-2.0494049..1.541961].\n",
      "Clipping input data to the valid range for imshow with RGB data ([0..1] for floats or [0..255] for integers). Got range [-1.8606442..2.4134207].\n",
      "Clipping input data to the valid range for imshow with RGB data ([0..1] for floats or [0..255] for integers). Got range [-1.7347276..1.7859696].\n",
      "Clipping input data to the valid range for imshow with RGB data ([0..1] for floats or [0..255] for integers). Got range [-1.9481792..1.3755459].\n"
     ]
    },
    {
     "name": "stdout",
     "output_type": "stream",
     "text": [
      "Saved 20 misclassified images to C:\\Users\\nhdkr\\off_plant_di_err_analyze\\results\n",
      "\n",
      "MobileNetV2 RESULTS:\n",
      "----------------------------------------\n",
      "Accuracy: 99.13%\n",
      "Error rate: 0.87%\n",
      "Files saved:\n",
      "  - Confusion Matrix CSV: C:\\Users\\nhdkr\\off_plant_di_err_analyze\\results\\mobilenetv2_confusion_matrix.csv\n",
      "  - Classification Stats: C:\\Users\\nhdkr\\off_plant_di_err_analyze\\results\\mobilenetv2_classification_stats.csv\n",
      "  - Confusion Matrix Plot: C:\\Users\\nhdkr\\off_plant_di_err_analyze\\results\\mobilenetv2_confusion_matrix.png\n",
      "Model saved to: C:\\Users\\nhdkr\\off_plant_di_err_analyze\\models\\mobilenetv2_final.pth\n",
      "\n",
      "================================================================================\n",
      "TRAINING MODEL 8/12: MobileNetV3Small\n",
      "================================================================================\n",
      "\n",
      "Training MobileNetV3Small...\n"
     ]
    },
    {
     "name": "stderr",
     "output_type": "stream",
     "text": [
      "Training: 100%|████████████████████████████████████████████████████████████████████| 1019/1019 [01:08<00:00, 14.92it/s]\n",
      "Validation: 100%|████████████████████████████████████████████████████████████████████| 340/340 [00:24<00:00, 14.05it/s]\n"
     ]
    },
    {
     "name": "stdout",
     "output_type": "stream",
     "text": [
      "Epoch 1: Train 57.3%, Val 73.1%\n"
     ]
    },
    {
     "name": "stderr",
     "output_type": "stream",
     "text": [
      "Training: 100%|████████████████████████████████████████████████████████████████████| 1019/1019 [01:07<00:00, 15.13it/s]\n",
      "Validation: 100%|████████████████████████████████████████████████████████████████████| 340/340 [00:24<00:00, 14.16it/s]\n"
     ]
    },
    {
     "name": "stdout",
     "output_type": "stream",
     "text": [
      "Epoch 2: Train 80.3%, Val 86.1%\n"
     ]
    },
    {
     "name": "stderr",
     "output_type": "stream",
     "text": [
      "Training: 100%|████████████████████████████████████████████████████████████████████| 1019/1019 [01:06<00:00, 15.28it/s]\n",
      "Validation: 100%|████████████████████████████████████████████████████████████████████| 340/340 [00:23<00:00, 14.32it/s]\n"
     ]
    },
    {
     "name": "stdout",
     "output_type": "stream",
     "text": [
      "Epoch 3: Train 86.9%, Val 88.9%\n"
     ]
    },
    {
     "name": "stderr",
     "output_type": "stream",
     "text": [
      "Training: 100%|████████████████████████████████████████████████████████████████████| 1019/1019 [01:06<00:00, 15.29it/s]\n",
      "Validation: 100%|████████████████████████████████████████████████████████████████████| 340/340 [00:23<00:00, 14.31it/s]\n"
     ]
    },
    {
     "name": "stdout",
     "output_type": "stream",
     "text": [
      "Epoch 4: Train 89.8%, Val 92.5%\n"
     ]
    },
    {
     "name": "stderr",
     "output_type": "stream",
     "text": [
      "Training: 100%|████████████████████████████████████████████████████████████████████| 1019/1019 [01:06<00:00, 15.24it/s]\n",
      "Validation: 100%|████████████████████████████████████████████████████████████████████| 340/340 [00:24<00:00, 13.97it/s]\n"
     ]
    },
    {
     "name": "stdout",
     "output_type": "stream",
     "text": [
      "Epoch 5: Train 91.4%, Val 92.3%\n"
     ]
    },
    {
     "name": "stderr",
     "output_type": "stream",
     "text": [
      "Training: 100%|████████████████████████████████████████████████████████████████████| 1019/1019 [01:06<00:00, 15.26it/s]\n",
      "Validation: 100%|████████████████████████████████████████████████████████████████████| 340/340 [00:23<00:00, 14.55it/s]\n"
     ]
    },
    {
     "name": "stdout",
     "output_type": "stream",
     "text": [
      "Epoch 6: Train 93.1%, Val 94.8%\n"
     ]
    },
    {
     "name": "stderr",
     "output_type": "stream",
     "text": [
      "Training: 100%|████████████████████████████████████████████████████████████████████| 1019/1019 [01:06<00:00, 15.29it/s]\n",
      "Validation: 100%|████████████████████████████████████████████████████████████████████| 340/340 [00:23<00:00, 14.30it/s]\n"
     ]
    },
    {
     "name": "stdout",
     "output_type": "stream",
     "text": [
      "Epoch 7: Train 94.0%, Val 92.8%\n"
     ]
    },
    {
     "name": "stderr",
     "output_type": "stream",
     "text": [
      "Training: 100%|████████████████████████████████████████████████████████████████████| 1019/1019 [01:06<00:00, 15.29it/s]\n",
      "Validation: 100%|████████████████████████████████████████████████████████████████████| 340/340 [00:23<00:00, 14.34it/s]\n"
     ]
    },
    {
     "name": "stdout",
     "output_type": "stream",
     "text": [
      "Epoch 8: Train 94.9%, Val 95.8%\n"
     ]
    },
    {
     "name": "stderr",
     "output_type": "stream",
     "text": [
      "Training: 100%|████████████████████████████████████████████████████████████████████| 1019/1019 [01:06<00:00, 15.32it/s]\n",
      "Validation: 100%|████████████████████████████████████████████████████████████████████| 340/340 [00:23<00:00, 14.56it/s]\n"
     ]
    },
    {
     "name": "stdout",
     "output_type": "stream",
     "text": [
      "Epoch 9: Train 95.3%, Val 95.9%\n"
     ]
    },
    {
     "name": "stderr",
     "output_type": "stream",
     "text": [
      "Training: 100%|████████████████████████████████████████████████████████████████████| 1019/1019 [01:07<00:00, 15.02it/s]\n",
      "Validation: 100%|████████████████████████████████████████████████████████████████████| 340/340 [00:23<00:00, 14.42it/s]\n"
     ]
    },
    {
     "name": "stdout",
     "output_type": "stream",
     "text": [
      "Epoch 10: Train 95.7%, Val 96.2%\n"
     ]
    },
    {
     "name": "stderr",
     "output_type": "stream",
     "text": [
      "Training: 100%|████████████████████████████████████████████████████████████████████| 1019/1019 [01:06<00:00, 15.31it/s]\n",
      "Validation: 100%|████████████████████████████████████████████████████████████████████| 340/340 [00:23<00:00, 14.35it/s]\n"
     ]
    },
    {
     "name": "stdout",
     "output_type": "stream",
     "text": [
      "Epoch 11: Train 96.2%, Val 95.6%\n"
     ]
    },
    {
     "name": "stderr",
     "output_type": "stream",
     "text": [
      "Training: 100%|████████████████████████████████████████████████████████████████████| 1019/1019 [01:06<00:00, 15.27it/s]\n",
      "Validation: 100%|████████████████████████████████████████████████████████████████████| 340/340 [00:23<00:00, 14.46it/s]\n"
     ]
    },
    {
     "name": "stdout",
     "output_type": "stream",
     "text": [
      "Epoch 12: Train 96.5%, Val 97.2%\n"
     ]
    },
    {
     "name": "stderr",
     "output_type": "stream",
     "text": [
      "Training: 100%|████████████████████████████████████████████████████████████████████| 1019/1019 [01:07<00:00, 15.20it/s]\n",
      "Validation: 100%|████████████████████████████████████████████████████████████████████| 340/340 [00:23<00:00, 14.25it/s]\n"
     ]
    },
    {
     "name": "stdout",
     "output_type": "stream",
     "text": [
      "Epoch 13: Train 97.0%, Val 97.6%\n"
     ]
    },
    {
     "name": "stderr",
     "output_type": "stream",
     "text": [
      "Training: 100%|████████████████████████████████████████████████████████████████████| 1019/1019 [01:06<00:00, 15.26it/s]\n",
      "Validation: 100%|████████████████████████████████████████████████████████████████████| 340/340 [00:23<00:00, 14.28it/s]\n"
     ]
    },
    {
     "name": "stdout",
     "output_type": "stream",
     "text": [
      "Epoch 14: Train 97.3%, Val 97.5%\n"
     ]
    },
    {
     "name": "stderr",
     "output_type": "stream",
     "text": [
      "Training: 100%|████████████████████████████████████████████████████████████████████| 1019/1019 [01:06<00:00, 15.36it/s]\n",
      "Validation: 100%|████████████████████████████████████████████████████████████████████| 340/340 [00:23<00:00, 14.38it/s]\n"
     ]
    },
    {
     "name": "stdout",
     "output_type": "stream",
     "text": [
      "Epoch 15: Train 97.5%, Val 98.1%\n"
     ]
    },
    {
     "name": "stderr",
     "output_type": "stream",
     "text": [
      "Training: 100%|████████████████████████████████████████████████████████████████████| 1019/1019 [01:06<00:00, 15.36it/s]\n",
      "Validation: 100%|████████████████████████████████████████████████████████████████████| 340/340 [00:23<00:00, 14.59it/s]\n"
     ]
    },
    {
     "name": "stdout",
     "output_type": "stream",
     "text": [
      "Epoch 16: Train 97.9%, Val 98.0%\n"
     ]
    },
    {
     "name": "stderr",
     "output_type": "stream",
     "text": [
      "Training: 100%|████████████████████████████████████████████████████████████████████| 1019/1019 [01:06<00:00, 15.37it/s]\n",
      "Validation: 100%|████████████████████████████████████████████████████████████████████| 340/340 [00:23<00:00, 14.38it/s]\n"
     ]
    },
    {
     "name": "stdout",
     "output_type": "stream",
     "text": [
      "Epoch 17: Train 98.0%, Val 97.6%\n"
     ]
    },
    {
     "name": "stderr",
     "output_type": "stream",
     "text": [
      "Training: 100%|████████████████████████████████████████████████████████████████████| 1019/1019 [01:06<00:00, 15.25it/s]\n",
      "Validation: 100%|████████████████████████████████████████████████████████████████████| 340/340 [00:23<00:00, 14.34it/s]\n"
     ]
    },
    {
     "name": "stdout",
     "output_type": "stream",
     "text": [
      "Epoch 18: Train 98.1%, Val 98.0%\n"
     ]
    },
    {
     "name": "stderr",
     "output_type": "stream",
     "text": [
      "Training: 100%|████████████████████████████████████████████████████████████████████| 1019/1019 [01:06<00:00, 15.29it/s]\n",
      "Validation: 100%|████████████████████████████████████████████████████████████████████| 340/340 [00:23<00:00, 14.31it/s]\n"
     ]
    },
    {
     "name": "stdout",
     "output_type": "stream",
     "text": [
      "Epoch 19: Train 98.6%, Val 97.7%\n"
     ]
    },
    {
     "name": "stderr",
     "output_type": "stream",
     "text": [
      "Training: 100%|████████████████████████████████████████████████████████████████████| 1019/1019 [01:06<00:00, 15.32it/s]\n",
      "Validation: 100%|████████████████████████████████████████████████████████████████████| 340/340 [00:23<00:00, 14.43it/s]\n"
     ]
    },
    {
     "name": "stdout",
     "output_type": "stream",
     "text": [
      "Epoch 20: Train 98.6%, Val 97.0%\n"
     ]
    },
    {
     "name": "stderr",
     "output_type": "stream",
     "text": [
      "Training: 100%|████████████████████████████████████████████████████████████████████| 1019/1019 [01:06<00:00, 15.33it/s]\n",
      "Validation: 100%|████████████████████████████████████████████████████████████████████| 340/340 [00:23<00:00, 14.52it/s]\n"
     ]
    },
    {
     "name": "stdout",
     "output_type": "stream",
     "text": [
      "Epoch 21: Train 98.7%, Val 98.7%\n"
     ]
    },
    {
     "name": "stderr",
     "output_type": "stream",
     "text": [
      "Training: 100%|████████████████████████████████████████████████████████████████████| 1019/1019 [01:06<00:00, 15.32it/s]\n",
      "Validation: 100%|████████████████████████████████████████████████████████████████████| 340/340 [00:23<00:00, 14.53it/s]\n"
     ]
    },
    {
     "name": "stdout",
     "output_type": "stream",
     "text": [
      "Epoch 22: Train 98.9%, Val 98.3%\n"
     ]
    },
    {
     "name": "stderr",
     "output_type": "stream",
     "text": [
      "Training: 100%|████████████████████████████████████████████████████████████████████| 1019/1019 [01:07<00:00, 15.16it/s]\n",
      "Validation: 100%|████████████████████████████████████████████████████████████████████| 340/340 [00:23<00:00, 14.17it/s]\n"
     ]
    },
    {
     "name": "stdout",
     "output_type": "stream",
     "text": [
      "Epoch 23: Train 98.9%, Val 98.8%\n"
     ]
    },
    {
     "name": "stderr",
     "output_type": "stream",
     "text": [
      "Training: 100%|████████████████████████████████████████████████████████████████████| 1019/1019 [01:06<00:00, 15.33it/s]\n",
      "Validation: 100%|████████████████████████████████████████████████████████████████████| 340/340 [00:23<00:00, 14.39it/s]\n"
     ]
    },
    {
     "name": "stdout",
     "output_type": "stream",
     "text": [
      "Epoch 24: Train 99.2%, Val 99.0%\n"
     ]
    },
    {
     "name": "stderr",
     "output_type": "stream",
     "text": [
      "Training: 100%|████████████████████████████████████████████████████████████████████| 1019/1019 [01:06<00:00, 15.25it/s]\n",
      "Validation: 100%|████████████████████████████████████████████████████████████████████| 340/340 [00:23<00:00, 14.35it/s]\n"
     ]
    },
    {
     "name": "stdout",
     "output_type": "stream",
     "text": [
      "Epoch 25: Train 99.3%, Val 98.8%\n"
     ]
    },
    {
     "name": "stderr",
     "output_type": "stream",
     "text": [
      "Training: 100%|████████████████████████████████████████████████████████████████████| 1019/1019 [01:05<00:00, 15.48it/s]\n",
      "Validation: 100%|████████████████████████████████████████████████████████████████████| 340/340 [00:23<00:00, 14.32it/s]\n"
     ]
    },
    {
     "name": "stdout",
     "output_type": "stream",
     "text": [
      "Epoch 26: Train 99.3%, Val 99.0%\n"
     ]
    },
    {
     "name": "stderr",
     "output_type": "stream",
     "text": [
      "Training: 100%|████████████████████████████████████████████████████████████████████| 1019/1019 [01:06<00:00, 15.37it/s]\n",
      "Validation: 100%|████████████████████████████████████████████████████████████████████| 340/340 [00:23<00:00, 14.39it/s]\n"
     ]
    },
    {
     "name": "stdout",
     "output_type": "stream",
     "text": [
      "Epoch 27: Train 99.4%, Val 99.2%\n"
     ]
    },
    {
     "name": "stderr",
     "output_type": "stream",
     "text": [
      "Training: 100%|████████████████████████████████████████████████████████████████████| 1019/1019 [01:06<00:00, 15.28it/s]\n",
      "Validation: 100%|████████████████████████████████████████████████████████████████████| 340/340 [00:23<00:00, 14.36it/s]\n"
     ]
    },
    {
     "name": "stdout",
     "output_type": "stream",
     "text": [
      "Epoch 28: Train 99.5%, Val 99.1%\n"
     ]
    },
    {
     "name": "stderr",
     "output_type": "stream",
     "text": [
      "Training: 100%|████████████████████████████████████████████████████████████████████| 1019/1019 [01:06<00:00, 15.36it/s]\n",
      "Validation: 100%|████████████████████████████████████████████████████████████████████| 340/340 [00:24<00:00, 14.14it/s]\n"
     ]
    },
    {
     "name": "stdout",
     "output_type": "stream",
     "text": [
      "Epoch 29: Train 99.6%, Val 99.0%\n"
     ]
    },
    {
     "name": "stderr",
     "output_type": "stream",
     "text": [
      "Training: 100%|████████████████████████████████████████████████████████████████████| 1019/1019 [01:06<00:00, 15.30it/s]\n",
      "Validation: 100%|████████████████████████████████████████████████████████████████████| 340/340 [00:23<00:00, 14.39it/s]\n"
     ]
    },
    {
     "name": "stdout",
     "output_type": "stream",
     "text": [
      "Epoch 30: Train 99.7%, Val 99.3%\n"
     ]
    },
    {
     "name": "stderr",
     "output_type": "stream",
     "text": [
      "Training: 100%|████████████████████████████████████████████████████████████████████| 1019/1019 [01:06<00:00, 15.24it/s]\n",
      "Validation: 100%|████████████████████████████████████████████████████████████████████| 340/340 [00:23<00:00, 14.40it/s]\n"
     ]
    },
    {
     "name": "stdout",
     "output_type": "stream",
     "text": [
      "Epoch 31: Train 99.7%, Val 99.3%\n"
     ]
    },
    {
     "name": "stderr",
     "output_type": "stream",
     "text": [
      "Training: 100%|████████████████████████████████████████████████████████████████████| 1019/1019 [01:06<00:00, 15.24it/s]\n",
      "Validation: 100%|████████████████████████████████████████████████████████████████████| 340/340 [00:23<00:00, 14.29it/s]\n"
     ]
    },
    {
     "name": "stdout",
     "output_type": "stream",
     "text": [
      "Epoch 32: Train 99.8%, Val 99.3%\n"
     ]
    },
    {
     "name": "stderr",
     "output_type": "stream",
     "text": [
      "Training: 100%|████████████████████████████████████████████████████████████████████| 1019/1019 [01:06<00:00, 15.24it/s]\n",
      "Validation: 100%|████████████████████████████████████████████████████████████████████| 340/340 [00:23<00:00, 14.40it/s]\n"
     ]
    },
    {
     "name": "stdout",
     "output_type": "stream",
     "text": [
      "Epoch 33: Train 99.8%, Val 99.4%\n"
     ]
    },
    {
     "name": "stderr",
     "output_type": "stream",
     "text": [
      "Training: 100%|████████████████████████████████████████████████████████████████████| 1019/1019 [01:06<00:00, 15.22it/s]\n",
      "Validation: 100%|████████████████████████████████████████████████████████████████████| 340/340 [00:23<00:00, 14.44it/s]\n"
     ]
    },
    {
     "name": "stdout",
     "output_type": "stream",
     "text": [
      "Epoch 34: Train 99.8%, Val 99.4%\n"
     ]
    },
    {
     "name": "stderr",
     "output_type": "stream",
     "text": [
      "Training: 100%|████████████████████████████████████████████████████████████████████| 1019/1019 [01:06<00:00, 15.26it/s]\n",
      "Validation: 100%|████████████████████████████████████████████████████████████████████| 340/340 [00:23<00:00, 14.38it/s]\n"
     ]
    },
    {
     "name": "stdout",
     "output_type": "stream",
     "text": [
      "Epoch 35: Train 99.8%, Val 99.4%\n"
     ]
    },
    {
     "name": "stderr",
     "output_type": "stream",
     "text": [
      "Training: 100%|████████████████████████████████████████████████████████████████████| 1019/1019 [01:06<00:00, 15.28it/s]\n",
      "Validation: 100%|████████████████████████████████████████████████████████████████████| 340/340 [00:23<00:00, 14.55it/s]\n"
     ]
    },
    {
     "name": "stdout",
     "output_type": "stream",
     "text": [
      "Epoch 36: Train 99.9%, Val 99.5%\n"
     ]
    },
    {
     "name": "stderr",
     "output_type": "stream",
     "text": [
      "Training: 100%|████████████████████████████████████████████████████████████████████| 1019/1019 [01:06<00:00, 15.27it/s]\n",
      "Validation: 100%|████████████████████████████████████████████████████████████████████| 340/340 [00:23<00:00, 14.29it/s]\n"
     ]
    },
    {
     "name": "stdout",
     "output_type": "stream",
     "text": [
      "Epoch 37: Train 99.9%, Val 99.5%\n"
     ]
    },
    {
     "name": "stderr",
     "output_type": "stream",
     "text": [
      "Training: 100%|████████████████████████████████████████████████████████████████████| 1019/1019 [01:07<00:00, 15.18it/s]\n",
      "Validation: 100%|████████████████████████████████████████████████████████████████████| 340/340 [00:23<00:00, 14.44it/s]\n"
     ]
    },
    {
     "name": "stdout",
     "output_type": "stream",
     "text": [
      "Epoch 38: Train 99.9%, Val 99.4%\n"
     ]
    },
    {
     "name": "stderr",
     "output_type": "stream",
     "text": [
      "Training: 100%|████████████████████████████████████████████████████████████████████| 1019/1019 [01:06<00:00, 15.25it/s]\n",
      "Validation: 100%|████████████████████████████████████████████████████████████████████| 340/340 [00:23<00:00, 14.38it/s]\n"
     ]
    },
    {
     "name": "stdout",
     "output_type": "stream",
     "text": [
      "Epoch 39: Train 99.9%, Val 99.5%\n"
     ]
    },
    {
     "name": "stderr",
     "output_type": "stream",
     "text": [
      "Training: 100%|████████████████████████████████████████████████████████████████████| 1019/1019 [01:06<00:00, 15.39it/s]\n",
      "Validation: 100%|████████████████████████████████████████████████████████████████████| 340/340 [00:23<00:00, 14.22it/s]\n"
     ]
    },
    {
     "name": "stdout",
     "output_type": "stream",
     "text": [
      "Epoch 40: Train 99.9%, Val 99.4%\n"
     ]
    },
    {
     "name": "stderr",
     "output_type": "stream",
     "text": [
      "Validation: 100%|████████████████████████████████████████████████████████████████████| 340/340 [00:23<00:00, 14.59it/s]\n"
     ]
    },
    {
     "name": "stdout",
     "output_type": "stream",
     "text": [
      "Confusion matrix saved: C:\\Users\\nhdkr\\off_plant_di_err_analyze\\results\\mobilenetv3small_confusion_matrix.csv\n",
      "Classification statistics saved: C:\\Users\\nhdkr\\off_plant_di_err_analyze\\results\\mobilenetv3small_classification_stats.csv\n"
     ]
    },
    {
     "name": "stderr",
     "output_type": "stream",
     "text": [
      "Clipping input data to the valid range for imshow with RGB data ([0..1] for floats or [0..255] for integers). Got range [-2.117904..2.64].\n",
      "Clipping input data to the valid range for imshow with RGB data ([0..1] for floats or [0..255] for integers). Got range [-1.6127234..2.2710083].\n"
     ]
    },
    {
     "name": "stdout",
     "output_type": "stream",
     "text": [
      "Confusion matrix plot saved: C:\\Users\\nhdkr\\off_plant_di_err_analyze\\results\\mobilenetv3small_confusion_matrix.png\n",
      "Top-k Accuracy: {'top_1_acc': 99.3646993831139, 'top_3_acc': 99.96317097873124, 'top_5_acc': 99.96317097873124}\n"
     ]
    },
    {
     "name": "stderr",
     "output_type": "stream",
     "text": [
      "Clipping input data to the valid range for imshow with RGB data ([0..1] for floats or [0..255] for integers). Got range [-2.117904..2.3760502].\n",
      "Clipping input data to the valid range for imshow with RGB data ([0..1] for floats or [0..255] for integers). Got range [-1.3687146..2.465708].\n",
      "Clipping input data to the valid range for imshow with RGB data ([0..1] for floats or [0..255] for integers). Got range [-1.8081232..1.6152923].\n",
      "Clipping input data to the valid range for imshow with RGB data ([0..1] for floats or [0..255] for integers). Got range [-1.8781574..2.2391288].\n",
      "Clipping input data to the valid range for imshow with RGB data ([0..1] for floats or [0..255] for integers). Got range [-1.7695861..2.2535014].\n",
      "Clipping input data to the valid range for imshow with RGB data ([0..1] for floats or [0..255] for integers). Got range [-2.0494049..1.541961].\n",
      "Clipping input data to the valid range for imshow with RGB data ([0..1] for floats or [0..255] for integers). Got range [-1.7521569..1.4611696].\n",
      "Clipping input data to the valid range for imshow with RGB data ([0..1] for floats or [0..255] for integers). Got range [-1.7521569..1.2456646].\n",
      "Clipping input data to the valid range for imshow with RGB data ([0..1] for floats or [0..255] for integers). Got range [-2.0151556..1.3153814].\n",
      "Clipping input data to the valid range for imshow with RGB data ([0..1] for floats or [0..255] for integers). Got range [-1.7069099..1.5942485].\n",
      "Clipping input data to the valid range for imshow with RGB data ([0..1] for floats or [0..255] for integers). Got range [-2.0665298..2.1171243].\n",
      "Clipping input data to the valid range for imshow with RGB data ([0..1] for floats or [0..255] for integers). Got range [-1.6998693..1.8905448].\n",
      "Clipping input data to the valid range for imshow with RGB data ([0..1] for floats or [0..255] for integers). Got range [-2.0151556..2.0125492].\n",
      "Clipping input data to the valid range for imshow with RGB data ([0..1] for floats or [0..255] for integers). Got range [-2.0322802..1.4199566].\n",
      "Clipping input data to the valid range for imshow with RGB data ([0..1] for floats or [0..255] for integers). Got range [-1.5527872..1.9033613].\n",
      "Clipping input data to the valid range for imshow with RGB data ([0..1] for floats or [0..255] for integers). Got range [-1.9466565..2.3785625].\n",
      "Clipping input data to the valid range for imshow with RGB data ([0..1] for floats or [0..255] for integers). Got range [-2.1007793..2.4482791].\n",
      "Clipping input data to the valid range for imshow with RGB data ([0..1] for floats or [0..255] for integers). Got range [-2.1007793..2.0648367].\n"
     ]
    },
    {
     "name": "stdout",
     "output_type": "stream",
     "text": [
      "Saved 20 misclassified images to C:\\Users\\nhdkr\\off_plant_di_err_analyze\\results\n",
      "\n",
      "MobileNetV3Small RESULTS:\n",
      "----------------------------------------\n",
      "Accuracy: 99.36%\n",
      "Error rate: 0.64%\n",
      "Files saved:\n",
      "  - Confusion Matrix CSV: C:\\Users\\nhdkr\\off_plant_di_err_analyze\\results\\mobilenetv3small_confusion_matrix.csv\n",
      "  - Classification Stats: C:\\Users\\nhdkr\\off_plant_di_err_analyze\\results\\mobilenetv3small_classification_stats.csv\n",
      "  - Confusion Matrix Plot: C:\\Users\\nhdkr\\off_plant_di_err_analyze\\results\\mobilenetv3small_confusion_matrix.png\n",
      "Model saved to: C:\\Users\\nhdkr\\off_plant_di_err_analyze\\models\\mobilenetv3small_final.pth\n",
      "\n",
      "================================================================================\n",
      "TRAINING MODEL 9/12: ShuffleNetV2\n",
      "================================================================================\n",
      "\n",
      "Training ShuffleNetV2...\n"
     ]
    },
    {
     "name": "stderr",
     "output_type": "stream",
     "text": [
      "Training: 100%|████████████████████████████████████████████████████████████████████| 1019/1019 [01:06<00:00, 15.37it/s]\n",
      "Validation: 100%|████████████████████████████████████████████████████████████████████| 340/340 [00:23<00:00, 14.45it/s]\n"
     ]
    },
    {
     "name": "stdout",
     "output_type": "stream",
     "text": [
      "Epoch 1: Train 61.9%, Val 82.1%\n"
     ]
    },
    {
     "name": "stderr",
     "output_type": "stream",
     "text": [
      "Training: 100%|████████████████████████████████████████████████████████████████████| 1019/1019 [01:09<00:00, 14.58it/s]\n",
      "Validation: 100%|████████████████████████████████████████████████████████████████████| 340/340 [00:26<00:00, 12.73it/s]\n"
     ]
    },
    {
     "name": "stdout",
     "output_type": "stream",
     "text": [
      "Epoch 2: Train 85.0%, Val 90.9%\n"
     ]
    },
    {
     "name": "stderr",
     "output_type": "stream",
     "text": [
      "Training: 100%|████████████████████████████████████████████████████████████████████| 1019/1019 [01:11<00:00, 14.32it/s]\n",
      "Validation: 100%|████████████████████████████████████████████████████████████████████| 340/340 [00:26<00:00, 12.82it/s]\n"
     ]
    },
    {
     "name": "stdout",
     "output_type": "stream",
     "text": [
      "Epoch 3: Train 90.3%, Val 89.4%\n"
     ]
    },
    {
     "name": "stderr",
     "output_type": "stream",
     "text": [
      "Training: 100%|████████████████████████████████████████████████████████████████████| 1019/1019 [01:10<00:00, 14.51it/s]\n",
      "Validation: 100%|████████████████████████████████████████████████████████████████████| 340/340 [00:23<00:00, 14.34it/s]\n"
     ]
    },
    {
     "name": "stdout",
     "output_type": "stream",
     "text": [
      "Epoch 4: Train 92.7%, Val 93.8%\n"
     ]
    },
    {
     "name": "stderr",
     "output_type": "stream",
     "text": [
      "Training: 100%|████████████████████████████████████████████████████████████████████| 1019/1019 [01:07<00:00, 15.09it/s]\n",
      "Validation: 100%|████████████████████████████████████████████████████████████████████| 340/340 [00:23<00:00, 14.36it/s]\n"
     ]
    },
    {
     "name": "stdout",
     "output_type": "stream",
     "text": [
      "Epoch 5: Train 93.8%, Val 95.9%\n"
     ]
    },
    {
     "name": "stderr",
     "output_type": "stream",
     "text": [
      "Training: 100%|████████████████████████████████████████████████████████████████████| 1019/1019 [01:06<00:00, 15.33it/s]\n",
      "Validation: 100%|████████████████████████████████████████████████████████████████████| 340/340 [00:23<00:00, 14.50it/s]\n"
     ]
    },
    {
     "name": "stdout",
     "output_type": "stream",
     "text": [
      "Epoch 6: Train 95.1%, Val 95.7%\n"
     ]
    },
    {
     "name": "stderr",
     "output_type": "stream",
     "text": [
      "Training: 100%|████████████████████████████████████████████████████████████████████| 1019/1019 [01:07<00:00, 15.18it/s]\n",
      "Validation: 100%|████████████████████████████████████████████████████████████████████| 340/340 [00:23<00:00, 14.35it/s]\n"
     ]
    },
    {
     "name": "stdout",
     "output_type": "stream",
     "text": [
      "Epoch 7: Train 95.5%, Val 96.1%\n"
     ]
    },
    {
     "name": "stderr",
     "output_type": "stream",
     "text": [
      "Training: 100%|████████████████████████████████████████████████████████████████████| 1019/1019 [01:06<00:00, 15.24it/s]\n",
      "Validation: 100%|████████████████████████████████████████████████████████████████████| 340/340 [00:24<00:00, 14.02it/s]\n"
     ]
    },
    {
     "name": "stdout",
     "output_type": "stream",
     "text": [
      "Epoch 8: Train 96.2%, Val 95.6%\n"
     ]
    },
    {
     "name": "stderr",
     "output_type": "stream",
     "text": [
      "Training: 100%|████████████████████████████████████████████████████████████████████| 1019/1019 [01:06<00:00, 15.25it/s]\n",
      "Validation: 100%|████████████████████████████████████████████████████████████████████| 340/340 [00:23<00:00, 14.24it/s]\n"
     ]
    },
    {
     "name": "stdout",
     "output_type": "stream",
     "text": [
      "Epoch 9: Train 96.6%, Val 97.2%\n"
     ]
    },
    {
     "name": "stderr",
     "output_type": "stream",
     "text": [
      "Training: 100%|████████████████████████████████████████████████████████████████████| 1019/1019 [01:07<00:00, 15.15it/s]\n",
      "Validation: 100%|████████████████████████████████████████████████████████████████████| 340/340 [00:23<00:00, 14.33it/s]\n"
     ]
    },
    {
     "name": "stdout",
     "output_type": "stream",
     "text": [
      "Epoch 10: Train 97.1%, Val 95.3%\n"
     ]
    },
    {
     "name": "stderr",
     "output_type": "stream",
     "text": [
      "Training: 100%|████████████████████████████████████████████████████████████████████| 1019/1019 [01:06<00:00, 15.29it/s]\n",
      "Validation: 100%|████████████████████████████████████████████████████████████████████| 340/340 [00:23<00:00, 14.18it/s]\n"
     ]
    },
    {
     "name": "stdout",
     "output_type": "stream",
     "text": [
      "Epoch 11: Train 97.5%, Val 97.3%\n"
     ]
    },
    {
     "name": "stderr",
     "output_type": "stream",
     "text": [
      "Training: 100%|████████████████████████████████████████████████████████████████████| 1019/1019 [01:06<00:00, 15.23it/s]\n",
      "Validation: 100%|████████████████████████████████████████████████████████████████████| 340/340 [00:23<00:00, 14.18it/s]\n"
     ]
    },
    {
     "name": "stdout",
     "output_type": "stream",
     "text": [
      "Epoch 12: Train 97.5%, Val 97.0%\n"
     ]
    },
    {
     "name": "stderr",
     "output_type": "stream",
     "text": [
      "Training: 100%|████████████████████████████████████████████████████████████████████| 1019/1019 [01:07<00:00, 15.19it/s]\n",
      "Validation: 100%|████████████████████████████████████████████████████████████████████| 340/340 [00:23<00:00, 14.20it/s]\n"
     ]
    },
    {
     "name": "stdout",
     "output_type": "stream",
     "text": [
      "Epoch 13: Train 97.9%, Val 97.7%\n"
     ]
    },
    {
     "name": "stderr",
     "output_type": "stream",
     "text": [
      "Training: 100%|████████████████████████████████████████████████████████████████████| 1019/1019 [01:06<00:00, 15.36it/s]\n",
      "Validation: 100%|████████████████████████████████████████████████████████████████████| 340/340 [00:24<00:00, 14.12it/s]\n"
     ]
    },
    {
     "name": "stdout",
     "output_type": "stream",
     "text": [
      "Epoch 14: Train 98.1%, Val 97.2%\n"
     ]
    },
    {
     "name": "stderr",
     "output_type": "stream",
     "text": [
      "Training: 100%|████████████████████████████████████████████████████████████████████| 1019/1019 [01:06<00:00, 15.27it/s]\n",
      "Validation: 100%|████████████████████████████████████████████████████████████████████| 340/340 [00:23<00:00, 14.19it/s]\n"
     ]
    },
    {
     "name": "stdout",
     "output_type": "stream",
     "text": [
      "Epoch 15: Train 98.3%, Val 98.2%\n"
     ]
    },
    {
     "name": "stderr",
     "output_type": "stream",
     "text": [
      "Training: 100%|████████████████████████████████████████████████████████████████████| 1019/1019 [01:06<00:00, 15.24it/s]\n",
      "Validation: 100%|████████████████████████████████████████████████████████████████████| 340/340 [00:24<00:00, 14.11it/s]\n"
     ]
    },
    {
     "name": "stdout",
     "output_type": "stream",
     "text": [
      "Epoch 16: Train 98.4%, Val 98.5%\n"
     ]
    },
    {
     "name": "stderr",
     "output_type": "stream",
     "text": [
      "Training: 100%|████████████████████████████████████████████████████████████████████| 1019/1019 [01:07<00:00, 15.21it/s]\n",
      "Validation: 100%|████████████████████████████████████████████████████████████████████| 340/340 [00:24<00:00, 14.02it/s]\n"
     ]
    },
    {
     "name": "stdout",
     "output_type": "stream",
     "text": [
      "Epoch 17: Train 98.8%, Val 98.1%\n"
     ]
    },
    {
     "name": "stderr",
     "output_type": "stream",
     "text": [
      "Training: 100%|████████████████████████████████████████████████████████████████████| 1019/1019 [01:06<00:00, 15.31it/s]\n",
      "Validation: 100%|████████████████████████████████████████████████████████████████████| 340/340 [00:23<00:00, 14.33it/s]\n"
     ]
    },
    {
     "name": "stdout",
     "output_type": "stream",
     "text": [
      "Epoch 18: Train 98.8%, Val 98.8%\n"
     ]
    },
    {
     "name": "stderr",
     "output_type": "stream",
     "text": [
      "Training: 100%|████████████████████████████████████████████████████████████████████| 1019/1019 [01:06<00:00, 15.30it/s]\n",
      "Validation: 100%|████████████████████████████████████████████████████████████████████| 340/340 [00:23<00:00, 14.21it/s]\n"
     ]
    },
    {
     "name": "stdout",
     "output_type": "stream",
     "text": [
      "Epoch 19: Train 99.1%, Val 98.7%\n"
     ]
    },
    {
     "name": "stderr",
     "output_type": "stream",
     "text": [
      "Training: 100%|████████████████████████████████████████████████████████████████████| 1019/1019 [01:07<00:00, 15.18it/s]\n",
      "Validation: 100%|████████████████████████████████████████████████████████████████████| 340/340 [00:24<00:00, 14.14it/s]\n"
     ]
    },
    {
     "name": "stdout",
     "output_type": "stream",
     "text": [
      "Epoch 20: Train 98.9%, Val 98.4%\n"
     ]
    },
    {
     "name": "stderr",
     "output_type": "stream",
     "text": [
      "Training: 100%|████████████████████████████████████████████████████████████████████| 1019/1019 [01:07<00:00, 15.09it/s]\n",
      "Validation: 100%|████████████████████████████████████████████████████████████████████| 340/340 [00:23<00:00, 14.20it/s]\n"
     ]
    },
    {
     "name": "stdout",
     "output_type": "stream",
     "text": [
      "Epoch 21: Train 99.2%, Val 98.8%\n"
     ]
    },
    {
     "name": "stderr",
     "output_type": "stream",
     "text": [
      "Training: 100%|████████████████████████████████████████████████████████████████████| 1019/1019 [01:07<00:00, 15.11it/s]\n",
      "Validation: 100%|████████████████████████████████████████████████████████████████████| 340/340 [00:23<00:00, 14.33it/s]\n"
     ]
    },
    {
     "name": "stdout",
     "output_type": "stream",
     "text": [
      "Epoch 22: Train 99.3%, Val 98.8%\n"
     ]
    },
    {
     "name": "stderr",
     "output_type": "stream",
     "text": [
      "Training: 100%|████████████████████████████████████████████████████████████████████| 1019/1019 [01:06<00:00, 15.38it/s]\n",
      "Validation: 100%|████████████████████████████████████████████████████████████████████| 340/340 [00:24<00:00, 14.13it/s]\n"
     ]
    },
    {
     "name": "stdout",
     "output_type": "stream",
     "text": [
      "Epoch 23: Train 99.3%, Val 99.0%\n"
     ]
    },
    {
     "name": "stderr",
     "output_type": "stream",
     "text": [
      "Training: 100%|████████████████████████████████████████████████████████████████████| 1019/1019 [01:07<00:00, 15.00it/s]\n",
      "Validation: 100%|████████████████████████████████████████████████████████████████████| 340/340 [00:24<00:00, 14.14it/s]\n"
     ]
    },
    {
     "name": "stdout",
     "output_type": "stream",
     "text": [
      "Epoch 24: Train 99.5%, Val 99.1%\n"
     ]
    },
    {
     "name": "stderr",
     "output_type": "stream",
     "text": [
      "Training: 100%|████████████████████████████████████████████████████████████████████| 1019/1019 [01:08<00:00, 14.86it/s]\n",
      "Validation: 100%|████████████████████████████████████████████████████████████████████| 340/340 [00:23<00:00, 14.34it/s]\n"
     ]
    },
    {
     "name": "stdout",
     "output_type": "stream",
     "text": [
      "Epoch 25: Train 99.5%, Val 99.3%\n"
     ]
    },
    {
     "name": "stderr",
     "output_type": "stream",
     "text": [
      "Training: 100%|████████████████████████████████████████████████████████████████████| 1019/1019 [01:06<00:00, 15.33it/s]\n",
      "Validation: 100%|████████████████████████████████████████████████████████████████████| 340/340 [00:24<00:00, 14.05it/s]\n"
     ]
    },
    {
     "name": "stdout",
     "output_type": "stream",
     "text": [
      "Epoch 26: Train 99.7%, Val 99.2%\n"
     ]
    },
    {
     "name": "stderr",
     "output_type": "stream",
     "text": [
      "Training: 100%|████████████████████████████████████████████████████████████████████| 1019/1019 [01:06<00:00, 15.25it/s]\n",
      "Validation: 100%|████████████████████████████████████████████████████████████████████| 340/340 [00:23<00:00, 14.40it/s]\n"
     ]
    },
    {
     "name": "stdout",
     "output_type": "stream",
     "text": [
      "Epoch 27: Train 99.7%, Val 99.3%\n"
     ]
    },
    {
     "name": "stderr",
     "output_type": "stream",
     "text": [
      "Training: 100%|████████████████████████████████████████████████████████████████████| 1019/1019 [01:06<00:00, 15.22it/s]\n",
      "Validation: 100%|████████████████████████████████████████████████████████████████████| 340/340 [00:23<00:00, 14.34it/s]\n"
     ]
    },
    {
     "name": "stdout",
     "output_type": "stream",
     "text": [
      "Epoch 28: Train 99.8%, Val 99.0%\n"
     ]
    },
    {
     "name": "stderr",
     "output_type": "stream",
     "text": [
      "Training: 100%|████████████████████████████████████████████████████████████████████| 1019/1019 [01:06<00:00, 15.23it/s]\n",
      "Validation: 100%|████████████████████████████████████████████████████████████████████| 340/340 [00:23<00:00, 14.43it/s]\n"
     ]
    },
    {
     "name": "stdout",
     "output_type": "stream",
     "text": [
      "Epoch 29: Train 99.8%, Val 99.4%\n"
     ]
    },
    {
     "name": "stderr",
     "output_type": "stream",
     "text": [
      "Training: 100%|████████████████████████████████████████████████████████████████████| 1019/1019 [01:07<00:00, 15.13it/s]\n",
      "Validation: 100%|████████████████████████████████████████████████████████████████████| 340/340 [00:24<00:00, 14.11it/s]\n"
     ]
    },
    {
     "name": "stdout",
     "output_type": "stream",
     "text": [
      "Epoch 30: Train 99.8%, Val 99.3%\n"
     ]
    },
    {
     "name": "stderr",
     "output_type": "stream",
     "text": [
      "Training: 100%|████████████████████████████████████████████████████████████████████| 1019/1019 [01:06<00:00, 15.29it/s]\n",
      "Validation: 100%|████████████████████████████████████████████████████████████████████| 340/340 [00:23<00:00, 14.42it/s]\n"
     ]
    },
    {
     "name": "stdout",
     "output_type": "stream",
     "text": [
      "Epoch 31: Train 99.9%, Val 99.4%\n"
     ]
    },
    {
     "name": "stderr",
     "output_type": "stream",
     "text": [
      "Training: 100%|████████████████████████████████████████████████████████████████████| 1019/1019 [01:06<00:00, 15.30it/s]\n",
      "Validation: 100%|████████████████████████████████████████████████████████████████████| 340/340 [00:23<00:00, 14.30it/s]\n"
     ]
    },
    {
     "name": "stdout",
     "output_type": "stream",
     "text": [
      "Epoch 32: Train 99.9%, Val 99.4%\n"
     ]
    },
    {
     "name": "stderr",
     "output_type": "stream",
     "text": [
      "Training: 100%|████████████████████████████████████████████████████████████████████| 1019/1019 [01:07<00:00, 15.14it/s]\n",
      "Validation: 100%|████████████████████████████████████████████████████████████████████| 340/340 [00:24<00:00, 14.11it/s]\n"
     ]
    },
    {
     "name": "stdout",
     "output_type": "stream",
     "text": [
      "Epoch 33: Train 99.9%, Val 99.5%\n"
     ]
    },
    {
     "name": "stderr",
     "output_type": "stream",
     "text": [
      "Training: 100%|████████████████████████████████████████████████████████████████████| 1019/1019 [01:06<00:00, 15.27it/s]\n",
      "Validation: 100%|████████████████████████████████████████████████████████████████████| 340/340 [00:23<00:00, 14.19it/s]\n"
     ]
    },
    {
     "name": "stdout",
     "output_type": "stream",
     "text": [
      "Epoch 34: Train 99.9%, Val 99.5%\n"
     ]
    },
    {
     "name": "stderr",
     "output_type": "stream",
     "text": [
      "Training: 100%|████████████████████████████████████████████████████████████████████| 1019/1019 [01:07<00:00, 15.19it/s]\n",
      "Validation: 100%|████████████████████████████████████████████████████████████████████| 340/340 [00:23<00:00, 14.40it/s]\n"
     ]
    },
    {
     "name": "stdout",
     "output_type": "stream",
     "text": [
      "Epoch 35: Train 100.0%, Val 99.5%\n"
     ]
    },
    {
     "name": "stderr",
     "output_type": "stream",
     "text": [
      "Training: 100%|████████████████████████████████████████████████████████████████████| 1019/1019 [01:06<00:00, 15.32it/s]\n",
      "Validation: 100%|████████████████████████████████████████████████████████████████████| 340/340 [00:22<00:00, 14.89it/s]\n"
     ]
    },
    {
     "name": "stdout",
     "output_type": "stream",
     "text": [
      "Epoch 36: Train 99.9%, Val 99.5%\n"
     ]
    },
    {
     "name": "stderr",
     "output_type": "stream",
     "text": [
      "Training: 100%|████████████████████████████████████████████████████████████████████| 1019/1019 [01:06<00:00, 15.22it/s]\n",
      "Validation: 100%|████████████████████████████████████████████████████████████████████| 340/340 [00:23<00:00, 14.17it/s]\n"
     ]
    },
    {
     "name": "stdout",
     "output_type": "stream",
     "text": [
      "Epoch 37: Train 99.9%, Val 99.5%\n"
     ]
    },
    {
     "name": "stderr",
     "output_type": "stream",
     "text": [
      "Training: 100%|████████████████████████████████████████████████████████████████████| 1019/1019 [01:06<00:00, 15.24it/s]\n",
      "Validation: 100%|████████████████████████████████████████████████████████████████████| 340/340 [00:24<00:00, 14.16it/s]\n"
     ]
    },
    {
     "name": "stdout",
     "output_type": "stream",
     "text": [
      "Epoch 38: Train 99.9%, Val 99.5%\n"
     ]
    },
    {
     "name": "stderr",
     "output_type": "stream",
     "text": [
      "Training: 100%|████████████████████████████████████████████████████████████████████| 1019/1019 [01:07<00:00, 15.12it/s]\n",
      "Validation: 100%|████████████████████████████████████████████████████████████████████| 340/340 [00:23<00:00, 14.20it/s]\n"
     ]
    },
    {
     "name": "stdout",
     "output_type": "stream",
     "text": [
      "Epoch 39: Train 100.0%, Val 99.6%\n"
     ]
    },
    {
     "name": "stderr",
     "output_type": "stream",
     "text": [
      "Training: 100%|████████████████████████████████████████████████████████████████████| 1019/1019 [01:07<00:00, 15.17it/s]\n",
      "Validation: 100%|████████████████████████████████████████████████████████████████████| 340/340 [00:23<00:00, 14.22it/s]\n"
     ]
    },
    {
     "name": "stdout",
     "output_type": "stream",
     "text": [
      "Epoch 40: Train 100.0%, Val 99.5%\n"
     ]
    },
    {
     "name": "stderr",
     "output_type": "stream",
     "text": [
      "Validation: 100%|████████████████████████████████████████████████████████████████████| 340/340 [00:23<00:00, 14.41it/s]\n"
     ]
    },
    {
     "name": "stdout",
     "output_type": "stream",
     "text": [
      "Confusion matrix saved: C:\\Users\\nhdkr\\off_plant_di_err_analyze\\results\\shufflenetv2_confusion_matrix.csv\n",
      "Classification statistics saved: C:\\Users\\nhdkr\\off_plant_di_err_analyze\\results\\shufflenetv2_classification_stats.csv\n"
     ]
    },
    {
     "name": "stderr",
     "output_type": "stream",
     "text": [
      "Clipping input data to the valid range for imshow with RGB data ([0..1] for floats or [0..255] for integers). Got range [-1.9124069..2.4482791].\n",
      "Clipping input data to the valid range for imshow with RGB data ([0..1] for floats or [0..255] for integers). Got range [-2.0151556..2.2216995].\n"
     ]
    },
    {
     "name": "stdout",
     "output_type": "stream",
     "text": [
      "Confusion matrix plot saved: C:\\Users\\nhdkr\\off_plant_di_err_analyze\\results\\shufflenetv2_confusion_matrix.png\n",
      "Top-k Accuracy: {'top_1_acc': 99.5396372341405, 'top_3_acc': 99.95396372341405, 'top_5_acc': 99.98158548936561}\n"
     ]
    },
    {
     "name": "stderr",
     "output_type": "stream",
     "text": [
      "Clipping input data to the valid range for imshow with RGB data ([0..1] for floats or [0..255] for integers). Got range [-1.8044444..1.4831933].\n",
      "Clipping input data to the valid range for imshow with RGB data ([0..1] for floats or [0..255] for integers). Got range [-1.5527872..1.9033613].\n",
      "Clipping input data to the valid range for imshow with RGB data ([0..1] for floats or [0..255] for integers). Got range [-1.5014129..2.64].\n",
      "Clipping input data to the valid range for imshow with RGB data ([0..1] for floats or [0..255] for integers). Got range [-2.0836544..2.3760502].\n",
      "Clipping input data to the valid range for imshow with RGB data ([0..1] for floats or [0..255] for integers). Got range [-2.0836544..1.6057423].\n",
      "Clipping input data to the valid range for imshow with RGB data ([0..1] for floats or [0..255] for integers). Got range [-1.5081482..2.0784314].\n",
      "Clipping input data to the valid range for imshow with RGB data ([0..1] for floats or [0..255] for integers). Got range [-1.5527872..2.5528543].\n",
      "Clipping input data to the valid range for imshow with RGB data ([0..1] for floats or [0..255] for integers). Got range [-1.8044444..1.7107843].\n",
      "Clipping input data to the valid range for imshow with RGB data ([0..1] for floats or [0..255] for integers). Got range [-2.0322802..1.6291069].\n",
      "Clipping input data to the valid range for imshow with RGB data ([0..1] for floats or [0..255] for integers). Got range [-1.3687146..2.465708].\n",
      "Clipping input data to the valid range for imshow with RGB data ([0..1] for floats or [0..255] for integers). Got range [-2.117904..2.0091617].\n",
      "Clipping input data to the valid range for imshow with RGB data ([0..1] for floats or [0..255] for integers). Got range [-2.0665298..2.0822659].\n",
      "Clipping input data to the valid range for imshow with RGB data ([0..1] for floats or [0..255] for integers). Got range [-2.0494049..2.3410363].\n",
      "Clipping input data to the valid range for imshow with RGB data ([0..1] for floats or [0..255] for integers). Got range [-2.0665298..2.64].\n",
      "Clipping input data to the valid range for imshow with RGB data ([0..1] for floats or [0..255] for integers). Got range [-2.1007793..2.0125492].\n",
      "Clipping input data to the valid range for imshow with RGB data ([0..1] for floats or [0..255] for integers). Got range [-2.0494049..2.4308496].\n",
      "Clipping input data to the valid range for imshow with RGB data ([0..1] for floats or [0..255] for integers). Got range [-1.9295317..1.923538].\n",
      "Clipping input data to the valid range for imshow with RGB data ([0..1] for floats or [0..255] for integers). Got range [-1.68244..1.8033988].\n"
     ]
    },
    {
     "name": "stdout",
     "output_type": "stream",
     "text": [
      "Saved 20 misclassified images to C:\\Users\\nhdkr\\off_plant_di_err_analyze\\results\n",
      "\n",
      "ShuffleNetV2 RESULTS:\n",
      "----------------------------------------\n",
      "Accuracy: 99.54%\n",
      "Error rate: 0.46%\n",
      "Files saved:\n",
      "  - Confusion Matrix CSV: C:\\Users\\nhdkr\\off_plant_di_err_analyze\\results\\shufflenetv2_confusion_matrix.csv\n",
      "  - Classification Stats: C:\\Users\\nhdkr\\off_plant_di_err_analyze\\results\\shufflenetv2_classification_stats.csv\n",
      "  - Confusion Matrix Plot: C:\\Users\\nhdkr\\off_plant_di_err_analyze\\results\\shufflenetv2_confusion_matrix.png\n",
      "Model saved to: C:\\Users\\nhdkr\\off_plant_di_err_analyze\\models\\shufflenetv2_final.pth\n",
      "\n",
      "================================================================================\n",
      "TRAINING MODEL 10/12: EfficientNetB0\n",
      "================================================================================\n",
      "\n",
      "Training EfficientNetB0...\n"
     ]
    },
    {
     "name": "stderr",
     "output_type": "stream",
     "text": [
      "Training: 100%|████████████████████████████████████████████████████████████████████| 1019/1019 [02:10<00:00,  7.81it/s]\n",
      "Validation: 100%|████████████████████████████████████████████████████████████████████| 340/340 [00:25<00:00, 13.19it/s]\n"
     ]
    },
    {
     "name": "stdout",
     "output_type": "stream",
     "text": [
      "Epoch 1: Train 51.2%, Val 67.6%\n"
     ]
    },
    {
     "name": "stderr",
     "output_type": "stream",
     "text": [
      "Training: 100%|████████████████████████████████████████████████████████████████████| 1019/1019 [02:12<00:00,  7.68it/s]\n",
      "Validation: 100%|████████████████████████████████████████████████████████████████████| 340/340 [00:25<00:00, 13.13it/s]\n"
     ]
    },
    {
     "name": "stdout",
     "output_type": "stream",
     "text": [
      "Epoch 2: Train 76.4%, Val 86.9%\n"
     ]
    },
    {
     "name": "stderr",
     "output_type": "stream",
     "text": [
      "Training: 100%|████████████████████████████████████████████████████████████████████| 1019/1019 [02:13<00:00,  7.64it/s]\n",
      "Validation: 100%|████████████████████████████████████████████████████████████████████| 340/340 [00:25<00:00, 13.15it/s]\n"
     ]
    },
    {
     "name": "stdout",
     "output_type": "stream",
     "text": [
      "Epoch 3: Train 83.8%, Val 89.5%\n"
     ]
    },
    {
     "name": "stderr",
     "output_type": "stream",
     "text": [
      "Training: 100%|████████████████████████████████████████████████████████████████████| 1019/1019 [02:13<00:00,  7.60it/s]\n",
      "Validation: 100%|████████████████████████████████████████████████████████████████████| 340/340 [00:26<00:00, 12.99it/s]\n"
     ]
    },
    {
     "name": "stdout",
     "output_type": "stream",
     "text": [
      "Epoch 4: Train 87.7%, Val 88.1%\n"
     ]
    },
    {
     "name": "stderr",
     "output_type": "stream",
     "text": [
      "Training: 100%|████████████████████████████████████████████████████████████████████| 1019/1019 [02:14<00:00,  7.59it/s]\n",
      "Validation: 100%|████████████████████████████████████████████████████████████████████| 340/340 [00:26<00:00, 12.88it/s]\n"
     ]
    },
    {
     "name": "stdout",
     "output_type": "stream",
     "text": [
      "Epoch 5: Train 89.5%, Val 91.5%\n"
     ]
    },
    {
     "name": "stderr",
     "output_type": "stream",
     "text": [
      "Training: 100%|████████████████████████████████████████████████████████████████████| 1019/1019 [02:14<00:00,  7.58it/s]\n",
      "Validation: 100%|████████████████████████████████████████████████████████████████████| 340/340 [00:26<00:00, 12.97it/s]\n"
     ]
    },
    {
     "name": "stdout",
     "output_type": "stream",
     "text": [
      "Epoch 6: Train 91.2%, Val 93.6%\n"
     ]
    },
    {
     "name": "stderr",
     "output_type": "stream",
     "text": [
      "Training: 100%|████████████████████████████████████████████████████████████████████| 1019/1019 [02:14<00:00,  7.57it/s]\n",
      "Validation: 100%|████████████████████████████████████████████████████████████████████| 340/340 [00:26<00:00, 12.86it/s]\n"
     ]
    },
    {
     "name": "stdout",
     "output_type": "stream",
     "text": [
      "Epoch 7: Train 92.4%, Val 94.3%\n"
     ]
    },
    {
     "name": "stderr",
     "output_type": "stream",
     "text": [
      "Training: 100%|████████████████████████████████████████████████████████████████████| 1019/1019 [02:14<00:00,  7.56it/s]\n",
      "Validation: 100%|████████████████████████████████████████████████████████████████████| 340/340 [00:26<00:00, 12.92it/s]\n"
     ]
    },
    {
     "name": "stdout",
     "output_type": "stream",
     "text": [
      "Epoch 8: Train 93.4%, Val 95.1%\n"
     ]
    },
    {
     "name": "stderr",
     "output_type": "stream",
     "text": [
      "Training: 100%|████████████████████████████████████████████████████████████████████| 1019/1019 [02:14<00:00,  7.56it/s]\n",
      "Validation: 100%|████████████████████████████████████████████████████████████████████| 340/340 [00:26<00:00, 12.96it/s]\n"
     ]
    },
    {
     "name": "stdout",
     "output_type": "stream",
     "text": [
      "Epoch 9: Train 94.1%, Val 94.9%\n"
     ]
    },
    {
     "name": "stderr",
     "output_type": "stream",
     "text": [
      "Training: 100%|████████████████████████████████████████████████████████████████████| 1019/1019 [02:14<00:00,  7.56it/s]\n",
      "Validation: 100%|████████████████████████████████████████████████████████████████████| 340/340 [00:26<00:00, 12.84it/s]\n"
     ]
    },
    {
     "name": "stdout",
     "output_type": "stream",
     "text": [
      "Epoch 10: Train 95.1%, Val 97.2%\n"
     ]
    },
    {
     "name": "stderr",
     "output_type": "stream",
     "text": [
      "Training: 100%|████████████████████████████████████████████████████████████████████| 1019/1019 [02:14<00:00,  7.57it/s]\n",
      "Validation: 100%|████████████████████████████████████████████████████████████████████| 340/340 [00:26<00:00, 12.94it/s]\n"
     ]
    },
    {
     "name": "stdout",
     "output_type": "stream",
     "text": [
      "Epoch 11: Train 95.4%, Val 95.6%\n"
     ]
    },
    {
     "name": "stderr",
     "output_type": "stream",
     "text": [
      "Training: 100%|████████████████████████████████████████████████████████████████████| 1019/1019 [02:14<00:00,  7.56it/s]\n",
      "Validation: 100%|████████████████████████████████████████████████████████████████████| 340/340 [00:26<00:00, 12.74it/s]\n"
     ]
    },
    {
     "name": "stdout",
     "output_type": "stream",
     "text": [
      "Epoch 12: Train 95.9%, Val 96.7%\n"
     ]
    },
    {
     "name": "stderr",
     "output_type": "stream",
     "text": [
      "Training: 100%|████████████████████████████████████████████████████████████████████| 1019/1019 [02:14<00:00,  7.58it/s]\n",
      "Validation: 100%|████████████████████████████████████████████████████████████████████| 340/340 [00:26<00:00, 12.74it/s]\n"
     ]
    },
    {
     "name": "stdout",
     "output_type": "stream",
     "text": [
      "Epoch 13: Train 96.2%, Val 96.3%\n"
     ]
    },
    {
     "name": "stderr",
     "output_type": "stream",
     "text": [
      "Training: 100%|████████████████████████████████████████████████████████████████████| 1019/1019 [02:14<00:00,  7.57it/s]\n",
      "Validation: 100%|████████████████████████████████████████████████████████████████████| 340/340 [00:26<00:00, 12.91it/s]\n"
     ]
    },
    {
     "name": "stdout",
     "output_type": "stream",
     "text": [
      "Epoch 14: Train 96.5%, Val 97.0%\n"
     ]
    },
    {
     "name": "stderr",
     "output_type": "stream",
     "text": [
      "Training: 100%|████████████████████████████████████████████████████████████████████| 1019/1019 [02:15<00:00,  7.54it/s]\n",
      "Validation: 100%|████████████████████████████████████████████████████████████████████| 340/340 [00:26<00:00, 12.91it/s]\n"
     ]
    },
    {
     "name": "stdout",
     "output_type": "stream",
     "text": [
      "Epoch 15: Train 97.0%, Val 97.4%\n"
     ]
    },
    {
     "name": "stderr",
     "output_type": "stream",
     "text": [
      "Training: 100%|████████████████████████████████████████████████████████████████████| 1019/1019 [02:16<00:00,  7.49it/s]\n",
      "Validation: 100%|████████████████████████████████████████████████████████████████████| 340/340 [00:26<00:00, 12.93it/s]\n"
     ]
    },
    {
     "name": "stdout",
     "output_type": "stream",
     "text": [
      "Epoch 16: Train 97.2%, Val 98.1%\n"
     ]
    },
    {
     "name": "stderr",
     "output_type": "stream",
     "text": [
      "Training: 100%|████████████████████████████████████████████████████████████████████| 1019/1019 [02:15<00:00,  7.49it/s]\n",
      "Validation: 100%|████████████████████████████████████████████████████████████████████| 340/340 [00:26<00:00, 12.78it/s]\n"
     ]
    },
    {
     "name": "stdout",
     "output_type": "stream",
     "text": [
      "Epoch 17: Train 97.4%, Val 98.2%\n"
     ]
    },
    {
     "name": "stderr",
     "output_type": "stream",
     "text": [
      "Training: 100%|████████████████████████████████████████████████████████████████████| 1019/1019 [02:14<00:00,  7.55it/s]\n",
      "Validation: 100%|████████████████████████████████████████████████████████████████████| 340/340 [00:26<00:00, 12.77it/s]\n"
     ]
    },
    {
     "name": "stdout",
     "output_type": "stream",
     "text": [
      "Epoch 18: Train 97.8%, Val 98.1%\n"
     ]
    },
    {
     "name": "stderr",
     "output_type": "stream",
     "text": [
      "Training: 100%|████████████████████████████████████████████████████████████████████| 1019/1019 [02:14<00:00,  7.57it/s]\n",
      "Validation: 100%|████████████████████████████████████████████████████████████████████| 340/340 [00:26<00:00, 12.70it/s]\n"
     ]
    },
    {
     "name": "stdout",
     "output_type": "stream",
     "text": [
      "Epoch 19: Train 98.0%, Val 98.0%\n"
     ]
    },
    {
     "name": "stderr",
     "output_type": "stream",
     "text": [
      "Training: 100%|████████████████████████████████████████████████████████████████████| 1019/1019 [02:14<00:00,  7.55it/s]\n",
      "Validation: 100%|████████████████████████████████████████████████████████████████████| 340/340 [00:26<00:00, 12.61it/s]\n"
     ]
    },
    {
     "name": "stdout",
     "output_type": "stream",
     "text": [
      "Epoch 20: Train 98.3%, Val 98.6%\n"
     ]
    },
    {
     "name": "stderr",
     "output_type": "stream",
     "text": [
      "Training: 100%|████████████████████████████████████████████████████████████████████| 1019/1019 [02:14<00:00,  7.55it/s]\n",
      "Validation: 100%|████████████████████████████████████████████████████████████████████| 340/340 [00:27<00:00, 12.55it/s]\n"
     ]
    },
    {
     "name": "stdout",
     "output_type": "stream",
     "text": [
      "Epoch 21: Train 98.4%, Val 98.6%\n"
     ]
    },
    {
     "name": "stderr",
     "output_type": "stream",
     "text": [
      "Training: 100%|████████████████████████████████████████████████████████████████████| 1019/1019 [02:14<00:00,  7.56it/s]\n",
      "Validation: 100%|████████████████████████████████████████████████████████████████████| 340/340 [00:26<00:00, 12.92it/s]\n"
     ]
    },
    {
     "name": "stdout",
     "output_type": "stream",
     "text": [
      "Epoch 22: Train 98.6%, Val 98.4%\n"
     ]
    },
    {
     "name": "stderr",
     "output_type": "stream",
     "text": [
      "Training: 100%|████████████████████████████████████████████████████████████████████| 1019/1019 [02:16<00:00,  7.49it/s]\n",
      "Validation: 100%|████████████████████████████████████████████████████████████████████| 340/340 [00:26<00:00, 12.83it/s]\n"
     ]
    },
    {
     "name": "stdout",
     "output_type": "stream",
     "text": [
      "Epoch 23: Train 98.8%, Val 98.8%\n"
     ]
    },
    {
     "name": "stderr",
     "output_type": "stream",
     "text": [
      "Training: 100%|████████████████████████████████████████████████████████████████████| 1019/1019 [02:15<00:00,  7.49it/s]\n",
      "Validation: 100%|████████████████████████████████████████████████████████████████████| 340/340 [00:26<00:00, 12.74it/s]\n"
     ]
    },
    {
     "name": "stdout",
     "output_type": "stream",
     "text": [
      "Epoch 24: Train 98.9%, Val 98.9%\n"
     ]
    },
    {
     "name": "stderr",
     "output_type": "stream",
     "text": [
      "Training: 100%|████████████████████████████████████████████████████████████████████| 1019/1019 [02:16<00:00,  7.47it/s]\n",
      "Validation: 100%|████████████████████████████████████████████████████████████████████| 340/340 [00:26<00:00, 12.73it/s]\n"
     ]
    },
    {
     "name": "stdout",
     "output_type": "stream",
     "text": [
      "Epoch 25: Train 99.1%, Val 98.5%\n"
     ]
    },
    {
     "name": "stderr",
     "output_type": "stream",
     "text": [
      "Training: 100%|████████████████████████████████████████████████████████████████████| 1019/1019 [02:16<00:00,  7.47it/s]\n",
      "Validation: 100%|████████████████████████████████████████████████████████████████████| 340/340 [00:26<00:00, 12.82it/s]\n"
     ]
    },
    {
     "name": "stdout",
     "output_type": "stream",
     "text": [
      "Epoch 26: Train 99.1%, Val 98.5%\n"
     ]
    },
    {
     "name": "stderr",
     "output_type": "stream",
     "text": [
      "Training: 100%|████████████████████████████████████████████████████████████████████| 1019/1019 [02:16<00:00,  7.48it/s]\n",
      "Validation: 100%|████████████████████████████████████████████████████████████████████| 340/340 [00:26<00:00, 12.62it/s]\n"
     ]
    },
    {
     "name": "stdout",
     "output_type": "stream",
     "text": [
      "Epoch 27: Train 99.3%, Val 99.1%\n"
     ]
    },
    {
     "name": "stderr",
     "output_type": "stream",
     "text": [
      "Training: 100%|████████████████████████████████████████████████████████████████████| 1019/1019 [02:16<00:00,  7.48it/s]\n",
      "Validation: 100%|████████████████████████████████████████████████████████████████████| 340/340 [00:26<00:00, 12.78it/s]\n"
     ]
    },
    {
     "name": "stdout",
     "output_type": "stream",
     "text": [
      "Epoch 28: Train 99.4%, Val 99.1%\n"
     ]
    },
    {
     "name": "stderr",
     "output_type": "stream",
     "text": [
      "Training: 100%|████████████████████████████████████████████████████████████████████| 1019/1019 [02:16<00:00,  7.49it/s]\n",
      "Validation: 100%|████████████████████████████████████████████████████████████████████| 340/340 [00:26<00:00, 12.96it/s]\n"
     ]
    },
    {
     "name": "stdout",
     "output_type": "stream",
     "text": [
      "Epoch 29: Train 99.5%, Val 99.1%\n"
     ]
    },
    {
     "name": "stderr",
     "output_type": "stream",
     "text": [
      "Training: 100%|████████████████████████████████████████████████████████████████████| 1019/1019 [02:16<00:00,  7.49it/s]\n",
      "Validation: 100%|████████████████████████████████████████████████████████████████████| 340/340 [00:26<00:00, 12.70it/s]\n"
     ]
    },
    {
     "name": "stdout",
     "output_type": "stream",
     "text": [
      "Epoch 30: Train 99.5%, Val 99.3%\n"
     ]
    },
    {
     "name": "stderr",
     "output_type": "stream",
     "text": [
      "Training: 100%|████████████████████████████████████████████████████████████████████| 1019/1019 [02:15<00:00,  7.50it/s]\n",
      "Validation: 100%|████████████████████████████████████████████████████████████████████| 340/340 [00:26<00:00, 12.80it/s]\n"
     ]
    },
    {
     "name": "stdout",
     "output_type": "stream",
     "text": [
      "Epoch 31: Train 99.5%, Val 99.3%\n"
     ]
    },
    {
     "name": "stderr",
     "output_type": "stream",
     "text": [
      "Training: 100%|████████████████████████████████████████████████████████████████████| 1019/1019 [02:14<00:00,  7.57it/s]\n",
      "Validation: 100%|████████████████████████████████████████████████████████████████████| 340/340 [00:27<00:00, 12.58it/s]\n"
     ]
    },
    {
     "name": "stdout",
     "output_type": "stream",
     "text": [
      "Epoch 32: Train 99.6%, Val 99.4%\n"
     ]
    },
    {
     "name": "stderr",
     "output_type": "stream",
     "text": [
      "Training: 100%|████████████████████████████████████████████████████████████████████| 1019/1019 [02:14<00:00,  7.56it/s]\n",
      "Validation: 100%|████████████████████████████████████████████████████████████████████| 340/340 [00:26<00:00, 12.66it/s]\n"
     ]
    },
    {
     "name": "stdout",
     "output_type": "stream",
     "text": [
      "Epoch 33: Train 99.7%, Val 99.2%\n"
     ]
    },
    {
     "name": "stderr",
     "output_type": "stream",
     "text": [
      "Training: 100%|████████████████████████████████████████████████████████████████████| 1019/1019 [02:34<00:00,  6.60it/s]\n",
      "Validation: 100%|████████████████████████████████████████████████████████████████████| 340/340 [00:59<00:00,  5.69it/s]\n"
     ]
    },
    {
     "name": "stdout",
     "output_type": "stream",
     "text": [
      "Epoch 34: Train 99.8%, Val 99.4%\n"
     ]
    },
    {
     "name": "stderr",
     "output_type": "stream",
     "text": [
      "Training: 100%|████████████████████████████████████████████████████████████████████| 1019/1019 [02:37<00:00,  6.48it/s]\n",
      "Validation: 100%|████████████████████████████████████████████████████████████████████| 340/340 [00:26<00:00, 13.03it/s]\n"
     ]
    },
    {
     "name": "stdout",
     "output_type": "stream",
     "text": [
      "Epoch 35: Train 99.8%, Val 99.3%\n"
     ]
    },
    {
     "name": "stderr",
     "output_type": "stream",
     "text": [
      "Training: 100%|████████████████████████████████████████████████████████████████████| 1019/1019 [02:13<00:00,  7.63it/s]\n",
      "Validation: 100%|████████████████████████████████████████████████████████████████████| 340/340 [00:26<00:00, 13.03it/s]\n"
     ]
    },
    {
     "name": "stdout",
     "output_type": "stream",
     "text": [
      "Epoch 36: Train 99.8%, Val 99.3%\n"
     ]
    },
    {
     "name": "stderr",
     "output_type": "stream",
     "text": [
      "Training: 100%|████████████████████████████████████████████████████████████████████| 1019/1019 [02:13<00:00,  7.61it/s]\n",
      "Validation: 100%|████████████████████████████████████████████████████████████████████| 340/340 [00:26<00:00, 12.82it/s]\n"
     ]
    },
    {
     "name": "stdout",
     "output_type": "stream",
     "text": [
      "Epoch 37: Train 99.8%, Val 99.5%\n"
     ]
    },
    {
     "name": "stderr",
     "output_type": "stream",
     "text": [
      "Training: 100%|████████████████████████████████████████████████████████████████████| 1019/1019 [02:13<00:00,  7.63it/s]\n",
      "Validation: 100%|████████████████████████████████████████████████████████████████████| 340/340 [00:26<00:00, 12.74it/s]\n"
     ]
    },
    {
     "name": "stdout",
     "output_type": "stream",
     "text": [
      "Epoch 38: Train 99.9%, Val 99.3%\n"
     ]
    },
    {
     "name": "stderr",
     "output_type": "stream",
     "text": [
      "Training: 100%|████████████████████████████████████████████████████████████████████| 1019/1019 [02:13<00:00,  7.61it/s]\n",
      "Validation: 100%|████████████████████████████████████████████████████████████████████| 340/340 [00:26<00:00, 12.89it/s]\n"
     ]
    },
    {
     "name": "stdout",
     "output_type": "stream",
     "text": [
      "Epoch 39: Train 99.9%, Val 99.3%\n"
     ]
    },
    {
     "name": "stderr",
     "output_type": "stream",
     "text": [
      "Training: 100%|████████████████████████████████████████████████████████████████████| 1019/1019 [02:13<00:00,  7.64it/s]\n",
      "Validation: 100%|████████████████████████████████████████████████████████████████████| 340/340 [00:26<00:00, 13.02it/s]\n"
     ]
    },
    {
     "name": "stdout",
     "output_type": "stream",
     "text": [
      "Epoch 40: Train 99.9%, Val 99.4%\n"
     ]
    },
    {
     "name": "stderr",
     "output_type": "stream",
     "text": [
      "Validation: 100%|████████████████████████████████████████████████████████████████████| 340/340 [00:25<00:00, 13.17it/s]\n"
     ]
    },
    {
     "name": "stdout",
     "output_type": "stream",
     "text": [
      "Confusion matrix saved: C:\\Users\\nhdkr\\off_plant_di_err_analyze\\results\\efficientnetb0_confusion_matrix.csv\n",
      "Classification statistics saved: C:\\Users\\nhdkr\\off_plant_di_err_analyze\\results\\efficientnetb0_classification_stats.csv\n"
     ]
    },
    {
     "name": "stderr",
     "output_type": "stream",
     "text": [
      "Clipping input data to the valid range for imshow with RGB data ([0..1] for floats or [0..255] for integers). Got range [-1.7695861..1.9577874].\n",
      "Clipping input data to the valid range for imshow with RGB data ([0..1] for floats or [0..255] for integers). Got range [-1.8096584..1.6495419].\n"
     ]
    },
    {
     "name": "stdout",
     "output_type": "stream",
     "text": [
      "Confusion matrix plot saved: C:\\Users\\nhdkr\\off_plant_di_err_analyze\\results\\efficientnetb0_confusion_matrix.png\n",
      "Top-k Accuracy: {'top_1_acc': 99.38311389374827, 'top_3_acc': 99.94475646809687, 'top_5_acc': 99.97237823404843}\n"
     ]
    },
    {
     "name": "stderr",
     "output_type": "stream",
     "text": [
      "Clipping input data to the valid range for imshow with RGB data ([0..1] for floats or [0..255] for integers). Got range [-2.117904..2.2042704].\n",
      "Clipping input data to the valid range for imshow with RGB data ([0..1] for floats or [0..255] for integers). Got range [-2.117904..2.3760502].\n",
      "Clipping input data to the valid range for imshow with RGB data ([0..1] for floats or [0..255] for integers). Got range [-2.0322802..2.2042704].\n",
      "Clipping input data to the valid range for imshow with RGB data ([0..1] for floats or [0..255] for integers). Got range [-1.5952941..1.3431373].\n",
      "Clipping input data to the valid range for imshow with RGB data ([0..1] for floats or [0..255] for integers). Got range [-1.7411594..1.8731157].\n",
      "Clipping input data to the valid range for imshow with RGB data ([0..1] for floats or [0..255] for integers). Got range [-2.0836544..2.2009804].\n",
      "Clipping input data to the valid range for imshow with RGB data ([0..1] for floats or [0..255] for integers). Got range [-1.6041614..2.3785625].\n",
      "Clipping input data to the valid range for imshow with RGB data ([0..1] for floats or [0..255] for integers). Got range [-1.68244..1.8033988].\n",
      "Clipping input data to the valid range for imshow with RGB data ([0..1] for floats or [0..255] for integers). Got range [-1.9295317..2.0259104].\n",
      "Clipping input data to the valid range for imshow with RGB data ([0..1] for floats or [0..255] for integers). Got range [-1.5527872..1.9033613].\n",
      "Clipping input data to the valid range for imshow with RGB data ([0..1] for floats or [0..255] for integers). Got range [-2.0322802..1.7282913].\n",
      "Clipping input data to the valid range for imshow with RGB data ([0..1] for floats or [0..255] for integers). Got range [-1.6127234..2.0996952].\n",
      "Clipping input data to the valid range for imshow with RGB data ([0..1] for floats or [0..255] for integers). Got range [-2.0151556..2.186841].\n",
      "Clipping input data to the valid range for imshow with RGB data ([0..1] for floats or [0..255] for integers). Got range [-1.6998693..1.8905448].\n",
      "Clipping input data to the valid range for imshow with RGB data ([0..1] for floats or [0..255] for integers). Got range [-1.9466565..2.3785625].\n",
      "Clipping input data to the valid range for imshow with RGB data ([0..1] for floats or [0..255] for integers). Got range [-1.7069099..1.5942485].\n",
      "Clipping input data to the valid range for imshow with RGB data ([0..1] for floats or [0..255] for integers). Got range [-1.9466565..1.1680672].\n",
      "Clipping input data to the valid range for imshow with RGB data ([0..1] for floats or [0..255] for integers). Got range [-1.8081232..1.6152923].\n"
     ]
    },
    {
     "name": "stdout",
     "output_type": "stream",
     "text": [
      "Saved 20 misclassified images to C:\\Users\\nhdkr\\off_plant_di_err_analyze\\results\n",
      "\n",
      "EfficientNetB0 RESULTS:\n",
      "----------------------------------------\n",
      "Accuracy: 99.38%\n",
      "Error rate: 0.62%\n",
      "Files saved:\n",
      "  - Confusion Matrix CSV: C:\\Users\\nhdkr\\off_plant_di_err_analyze\\results\\efficientnetb0_confusion_matrix.csv\n",
      "  - Classification Stats: C:\\Users\\nhdkr\\off_plant_di_err_analyze\\results\\efficientnetb0_classification_stats.csv\n",
      "  - Confusion Matrix Plot: C:\\Users\\nhdkr\\off_plant_di_err_analyze\\results\\efficientnetb0_confusion_matrix.png\n",
      "Model saved to: C:\\Users\\nhdkr\\off_plant_di_err_analyze\\models\\efficientnetb0_final.pth\n",
      "\n",
      "================================================================================\n",
      "TRAINING MODEL 11/12: DenseNet121\n",
      "================================================================================\n",
      "\n",
      "Training DenseNet121...\n"
     ]
    },
    {
     "name": "stderr",
     "output_type": "stream",
     "text": [
      "Training: 100%|████████████████████████████████████████████████████████████████████| 1019/1019 [03:19<00:00,  5.11it/s]\n",
      "Validation: 100%|████████████████████████████████████████████████████████████████████| 340/340 [00:29<00:00, 11.55it/s]\n"
     ]
    },
    {
     "name": "stdout",
     "output_type": "stream",
     "text": [
      "Epoch 1: Train 53.2%, Val 71.7%\n"
     ]
    },
    {
     "name": "stderr",
     "output_type": "stream",
     "text": [
      "Training: 100%|████████████████████████████████████████████████████████████████████| 1019/1019 [03:21<00:00,  5.06it/s]\n",
      "Validation: 100%|████████████████████████████████████████████████████████████████████| 340/340 [00:29<00:00, 11.50it/s]\n"
     ]
    },
    {
     "name": "stdout",
     "output_type": "stream",
     "text": [
      "Epoch 2: Train 72.0%, Val 81.7%\n"
     ]
    },
    {
     "name": "stderr",
     "output_type": "stream",
     "text": [
      "Training: 100%|████████████████████████████████████████████████████████████████████| 1019/1019 [03:22<00:00,  5.04it/s]\n",
      "Validation: 100%|████████████████████████████████████████████████████████████████████| 340/340 [00:29<00:00, 11.49it/s]\n"
     ]
    },
    {
     "name": "stdout",
     "output_type": "stream",
     "text": [
      "Epoch 3: Train 80.2%, Val 84.1%\n"
     ]
    },
    {
     "name": "stderr",
     "output_type": "stream",
     "text": [
      "Training: 100%|████████████████████████████████████████████████████████████████████| 1019/1019 [03:21<00:00,  5.05it/s]\n",
      "Validation: 100%|████████████████████████████████████████████████████████████████████| 340/340 [00:29<00:00, 11.40it/s]\n"
     ]
    },
    {
     "name": "stdout",
     "output_type": "stream",
     "text": [
      "Epoch 4: Train 85.4%, Val 90.6%\n"
     ]
    },
    {
     "name": "stderr",
     "output_type": "stream",
     "text": [
      "Training: 100%|████████████████████████████████████████████████████████████████████| 1019/1019 [03:22<00:00,  5.04it/s]\n",
      "Validation: 100%|████████████████████████████████████████████████████████████████████| 340/340 [00:29<00:00, 11.45it/s]\n"
     ]
    },
    {
     "name": "stdout",
     "output_type": "stream",
     "text": [
      "Epoch 5: Train 88.3%, Val 91.9%\n"
     ]
    },
    {
     "name": "stderr",
     "output_type": "stream",
     "text": [
      "Training: 100%|████████████████████████████████████████████████████████████████████| 1019/1019 [03:22<00:00,  5.04it/s]\n",
      "Validation: 100%|████████████████████████████████████████████████████████████████████| 340/340 [00:29<00:00, 11.46it/s]\n"
     ]
    },
    {
     "name": "stdout",
     "output_type": "stream",
     "text": [
      "Epoch 6: Train 90.1%, Val 90.4%\n"
     ]
    },
    {
     "name": "stderr",
     "output_type": "stream",
     "text": [
      "Training: 100%|████████████████████████████████████████████████████████████████████| 1019/1019 [03:22<00:00,  5.04it/s]\n",
      "Validation: 100%|████████████████████████████████████████████████████████████████████| 340/340 [00:29<00:00, 11.46it/s]\n"
     ]
    },
    {
     "name": "stdout",
     "output_type": "stream",
     "text": [
      "Epoch 7: Train 91.7%, Val 95.5%\n"
     ]
    },
    {
     "name": "stderr",
     "output_type": "stream",
     "text": [
      "Training: 100%|████████████████████████████████████████████████████████████████████| 1019/1019 [03:22<00:00,  5.04it/s]\n",
      "Validation: 100%|████████████████████████████████████████████████████████████████████| 340/340 [00:29<00:00, 11.54it/s]\n"
     ]
    },
    {
     "name": "stdout",
     "output_type": "stream",
     "text": [
      "Epoch 8: Train 92.2%, Val 94.3%\n"
     ]
    },
    {
     "name": "stderr",
     "output_type": "stream",
     "text": [
      "Training: 100%|████████████████████████████████████████████████████████████████████| 1019/1019 [03:20<00:00,  5.07it/s]\n",
      "Validation: 100%|████████████████████████████████████████████████████████████████████| 340/340 [00:29<00:00, 11.57it/s]\n"
     ]
    },
    {
     "name": "stdout",
     "output_type": "stream",
     "text": [
      "Epoch 9: Train 93.4%, Val 96.0%\n"
     ]
    },
    {
     "name": "stderr",
     "output_type": "stream",
     "text": [
      "Training: 100%|████████████████████████████████████████████████████████████████████| 1019/1019 [03:20<00:00,  5.09it/s]\n",
      "Validation: 100%|████████████████████████████████████████████████████████████████████| 340/340 [00:29<00:00, 11.53it/s]\n"
     ]
    },
    {
     "name": "stdout",
     "output_type": "stream",
     "text": [
      "Epoch 10: Train 94.3%, Val 96.9%\n"
     ]
    },
    {
     "name": "stderr",
     "output_type": "stream",
     "text": [
      "Training: 100%|████████████████████████████████████████████████████████████████████| 1019/1019 [03:21<00:00,  5.05it/s]\n",
      "Validation: 100%|████████████████████████████████████████████████████████████████████| 340/340 [00:29<00:00, 11.57it/s]\n"
     ]
    },
    {
     "name": "stdout",
     "output_type": "stream",
     "text": [
      "Epoch 11: Train 94.4%, Val 96.7%\n"
     ]
    },
    {
     "name": "stderr",
     "output_type": "stream",
     "text": [
      "Training: 100%|████████████████████████████████████████████████████████████████████| 1019/1019 [03:20<00:00,  5.07it/s]\n",
      "Validation: 100%|████████████████████████████████████████████████████████████████████| 340/340 [00:29<00:00, 11.61it/s]\n"
     ]
    },
    {
     "name": "stdout",
     "output_type": "stream",
     "text": [
      "Epoch 12: Train 94.9%, Val 97.1%\n"
     ]
    },
    {
     "name": "stderr",
     "output_type": "stream",
     "text": [
      "Training: 100%|████████████████████████████████████████████████████████████████████| 1019/1019 [03:20<00:00,  5.07it/s]\n",
      "Validation: 100%|████████████████████████████████████████████████████████████████████| 340/340 [00:29<00:00, 11.53it/s]\n"
     ]
    },
    {
     "name": "stdout",
     "output_type": "stream",
     "text": [
      "Epoch 13: Train 95.8%, Val 97.1%\n"
     ]
    },
    {
     "name": "stderr",
     "output_type": "stream",
     "text": [
      "Training: 100%|████████████████████████████████████████████████████████████████████| 1019/1019 [03:20<00:00,  5.07it/s]\n",
      "Validation: 100%|████████████████████████████████████████████████████████████████████| 340/340 [00:29<00:00, 11.56it/s]\n"
     ]
    },
    {
     "name": "stdout",
     "output_type": "stream",
     "text": [
      "Epoch 14: Train 95.9%, Val 98.2%\n"
     ]
    },
    {
     "name": "stderr",
     "output_type": "stream",
     "text": [
      "Training: 100%|████████████████████████████████████████████████████████████████████| 1019/1019 [03:21<00:00,  5.06it/s]\n",
      "Validation: 100%|████████████████████████████████████████████████████████████████████| 340/340 [00:29<00:00, 11.57it/s]\n"
     ]
    },
    {
     "name": "stdout",
     "output_type": "stream",
     "text": [
      "Epoch 15: Train 96.4%, Val 97.7%\n"
     ]
    },
    {
     "name": "stderr",
     "output_type": "stream",
     "text": [
      "Training: 100%|████████████████████████████████████████████████████████████████████| 1019/1019 [03:20<00:00,  5.09it/s]\n",
      "Validation: 100%|████████████████████████████████████████████████████████████████████| 340/340 [00:29<00:00, 11.55it/s]\n"
     ]
    },
    {
     "name": "stdout",
     "output_type": "stream",
     "text": [
      "Epoch 16: Train 96.8%, Val 98.1%\n"
     ]
    },
    {
     "name": "stderr",
     "output_type": "stream",
     "text": [
      "Training: 100%|████████████████████████████████████████████████████████████████████| 1019/1019 [03:20<00:00,  5.08it/s]\n",
      "Validation: 100%|████████████████████████████████████████████████████████████████████| 340/340 [00:29<00:00, 11.64it/s]\n"
     ]
    },
    {
     "name": "stdout",
     "output_type": "stream",
     "text": [
      "Epoch 17: Train 97.0%, Val 98.1%\n"
     ]
    },
    {
     "name": "stderr",
     "output_type": "stream",
     "text": [
      "Training: 100%|████████████████████████████████████████████████████████████████████| 1019/1019 [03:21<00:00,  5.07it/s]\n",
      "Validation: 100%|████████████████████████████████████████████████████████████████████| 340/340 [00:29<00:00, 11.60it/s]\n"
     ]
    },
    {
     "name": "stdout",
     "output_type": "stream",
     "text": [
      "Epoch 18: Train 97.2%, Val 98.5%\n"
     ]
    },
    {
     "name": "stderr",
     "output_type": "stream",
     "text": [
      "Training: 100%|████████████████████████████████████████████████████████████████████| 1019/1019 [03:20<00:00,  5.09it/s]\n",
      "Validation: 100%|████████████████████████████████████████████████████████████████████| 340/340 [00:29<00:00, 11.57it/s]\n"
     ]
    },
    {
     "name": "stdout",
     "output_type": "stream",
     "text": [
      "Epoch 19: Train 97.3%, Val 98.7%\n"
     ]
    },
    {
     "name": "stderr",
     "output_type": "stream",
     "text": [
      "Training: 100%|████████████████████████████████████████████████████████████████████| 1019/1019 [03:20<00:00,  5.09it/s]\n",
      "Validation: 100%|████████████████████████████████████████████████████████████████████| 340/340 [00:29<00:00, 11.55it/s]\n"
     ]
    },
    {
     "name": "stdout",
     "output_type": "stream",
     "text": [
      "Epoch 20: Train 97.9%, Val 99.0%\n"
     ]
    },
    {
     "name": "stderr",
     "output_type": "stream",
     "text": [
      "Training: 100%|████████████████████████████████████████████████████████████████████| 1019/1019 [03:18<00:00,  5.14it/s]\n",
      "Validation: 100%|████████████████████████████████████████████████████████████████████| 340/340 [00:29<00:00, 11.68it/s]\n"
     ]
    },
    {
     "name": "stdout",
     "output_type": "stream",
     "text": [
      "Epoch 21: Train 98.0%, Val 99.0%\n"
     ]
    },
    {
     "name": "stderr",
     "output_type": "stream",
     "text": [
      "Training: 100%|████████████████████████████████████████████████████████████████████| 1019/1019 [03:17<00:00,  5.16it/s]\n",
      "Validation: 100%|████████████████████████████████████████████████████████████████████| 340/340 [00:29<00:00, 11.69it/s]\n"
     ]
    },
    {
     "name": "stdout",
     "output_type": "stream",
     "text": [
      "Epoch 22: Train 98.2%, Val 98.9%\n"
     ]
    },
    {
     "name": "stderr",
     "output_type": "stream",
     "text": [
      "Training: 100%|████████████████████████████████████████████████████████████████████| 1019/1019 [03:16<00:00,  5.19it/s]\n",
      "Validation: 100%|████████████████████████████████████████████████████████████████████| 340/340 [00:29<00:00, 11.70it/s]\n"
     ]
    },
    {
     "name": "stdout",
     "output_type": "stream",
     "text": [
      "Epoch 23: Train 98.3%, Val 99.1%\n"
     ]
    },
    {
     "name": "stderr",
     "output_type": "stream",
     "text": [
      "Training: 100%|████████████████████████████████████████████████████████████████████| 1019/1019 [03:17<00:00,  5.17it/s]\n",
      "Validation: 100%|████████████████████████████████████████████████████████████████████| 340/340 [00:29<00:00, 11.60it/s]\n"
     ]
    },
    {
     "name": "stdout",
     "output_type": "stream",
     "text": [
      "Epoch 24: Train 98.5%, Val 98.9%\n"
     ]
    },
    {
     "name": "stderr",
     "output_type": "stream",
     "text": [
      "Training: 100%|████████████████████████████████████████████████████████████████████| 1019/1019 [03:16<00:00,  5.17it/s]\n",
      "Validation: 100%|████████████████████████████████████████████████████████████████████| 340/340 [00:29<00:00, 11.66it/s]\n"
     ]
    },
    {
     "name": "stdout",
     "output_type": "stream",
     "text": [
      "Epoch 25: Train 98.7%, Val 99.2%\n"
     ]
    },
    {
     "name": "stderr",
     "output_type": "stream",
     "text": [
      "Training: 100%|████████████████████████████████████████████████████████████████████| 1019/1019 [03:16<00:00,  5.17it/s]\n",
      "Validation: 100%|████████████████████████████████████████████████████████████████████| 340/340 [00:29<00:00, 11.68it/s]\n"
     ]
    },
    {
     "name": "stdout",
     "output_type": "stream",
     "text": [
      "Epoch 26: Train 98.8%, Val 99.3%\n"
     ]
    },
    {
     "name": "stderr",
     "output_type": "stream",
     "text": [
      "Training: 100%|████████████████████████████████████████████████████████████████████| 1019/1019 [03:17<00:00,  5.17it/s]\n",
      "Validation: 100%|████████████████████████████████████████████████████████████████████| 340/340 [00:28<00:00, 11.73it/s]\n"
     ]
    },
    {
     "name": "stdout",
     "output_type": "stream",
     "text": [
      "Epoch 27: Train 99.0%, Val 99.3%\n"
     ]
    },
    {
     "name": "stderr",
     "output_type": "stream",
     "text": [
      "Training: 100%|████████████████████████████████████████████████████████████████████| 1019/1019 [03:16<00:00,  5.19it/s]\n",
      "Validation: 100%|████████████████████████████████████████████████████████████████████| 340/340 [00:29<00:00, 11.71it/s]\n"
     ]
    },
    {
     "name": "stdout",
     "output_type": "stream",
     "text": [
      "Epoch 28: Train 99.1%, Val 99.3%\n"
     ]
    },
    {
     "name": "stderr",
     "output_type": "stream",
     "text": [
      "Training: 100%|████████████████████████████████████████████████████████████████████| 1019/1019 [03:16<00:00,  5.19it/s]\n",
      "Validation: 100%|████████████████████████████████████████████████████████████████████| 340/340 [00:29<00:00, 11.63it/s]\n"
     ]
    },
    {
     "name": "stdout",
     "output_type": "stream",
     "text": [
      "Epoch 29: Train 99.2%, Val 99.4%\n"
     ]
    },
    {
     "name": "stderr",
     "output_type": "stream",
     "text": [
      "Training: 100%|████████████████████████████████████████████████████████████████████| 1019/1019 [03:17<00:00,  5.17it/s]\n",
      "Validation: 100%|████████████████████████████████████████████████████████████████████| 340/340 [00:29<00:00, 11.62it/s]\n"
     ]
    },
    {
     "name": "stdout",
     "output_type": "stream",
     "text": [
      "Epoch 30: Train 99.2%, Val 99.5%\n"
     ]
    },
    {
     "name": "stderr",
     "output_type": "stream",
     "text": [
      "Training: 100%|████████████████████████████████████████████████████████████████████| 1019/1019 [03:17<00:00,  5.17it/s]\n",
      "Validation: 100%|████████████████████████████████████████████████████████████████████| 340/340 [00:29<00:00, 11.64it/s]\n"
     ]
    },
    {
     "name": "stdout",
     "output_type": "stream",
     "text": [
      "Epoch 31: Train 99.3%, Val 99.5%\n"
     ]
    },
    {
     "name": "stderr",
     "output_type": "stream",
     "text": [
      "Training: 100%|████████████████████████████████████████████████████████████████████| 1019/1019 [03:17<00:00,  5.16it/s]\n",
      "Validation: 100%|████████████████████████████████████████████████████████████████████| 340/340 [00:29<00:00, 11.62it/s]\n"
     ]
    },
    {
     "name": "stdout",
     "output_type": "stream",
     "text": [
      "Epoch 32: Train 99.4%, Val 99.5%\n"
     ]
    },
    {
     "name": "stderr",
     "output_type": "stream",
     "text": [
      "Training: 100%|████████████████████████████████████████████████████████████████████| 1019/1019 [03:16<00:00,  5.19it/s]\n",
      "Validation: 100%|████████████████████████████████████████████████████████████████████| 340/340 [00:29<00:00, 11.66it/s]\n"
     ]
    },
    {
     "name": "stdout",
     "output_type": "stream",
     "text": [
      "Epoch 33: Train 99.5%, Val 99.5%\n"
     ]
    },
    {
     "name": "stderr",
     "output_type": "stream",
     "text": [
      "Training: 100%|████████████████████████████████████████████████████████████████████| 1019/1019 [03:15<00:00,  5.20it/s]\n",
      "Validation: 100%|████████████████████████████████████████████████████████████████████| 340/340 [00:29<00:00, 11.62it/s]\n"
     ]
    },
    {
     "name": "stdout",
     "output_type": "stream",
     "text": [
      "Epoch 34: Train 99.5%, Val 99.5%\n"
     ]
    },
    {
     "name": "stderr",
     "output_type": "stream",
     "text": [
      "Training: 100%|████████████████████████████████████████████████████████████████████| 1019/1019 [03:16<00:00,  5.18it/s]\n",
      "Validation: 100%|████████████████████████████████████████████████████████████████████| 340/340 [00:29<00:00, 11.64it/s]\n"
     ]
    },
    {
     "name": "stdout",
     "output_type": "stream",
     "text": [
      "Epoch 35: Train 99.6%, Val 99.5%\n"
     ]
    },
    {
     "name": "stderr",
     "output_type": "stream",
     "text": [
      "Training: 100%|████████████████████████████████████████████████████████████████████| 1019/1019 [03:17<00:00,  5.16it/s]\n",
      "Validation: 100%|████████████████████████████████████████████████████████████████████| 340/340 [00:31<00:00, 10.89it/s]\n"
     ]
    },
    {
     "name": "stdout",
     "output_type": "stream",
     "text": [
      "Epoch 36: Train 99.6%, Val 99.6%\n"
     ]
    },
    {
     "name": "stderr",
     "output_type": "stream",
     "text": [
      "Training: 100%|████████████████████████████████████████████████████████████████████| 1019/1019 [03:18<00:00,  5.13it/s]\n",
      "Validation: 100%|████████████████████████████████████████████████████████████████████| 340/340 [00:29<00:00, 11.56it/s]\n"
     ]
    },
    {
     "name": "stdout",
     "output_type": "stream",
     "text": [
      "Epoch 37: Train 99.7%, Val 99.6%\n"
     ]
    },
    {
     "name": "stderr",
     "output_type": "stream",
     "text": [
      "Training: 100%|████████████████████████████████████████████████████████████████████| 1019/1019 [03:17<00:00,  5.16it/s]\n",
      "Validation: 100%|████████████████████████████████████████████████████████████████████| 340/340 [00:29<00:00, 11.50it/s]\n"
     ]
    },
    {
     "name": "stdout",
     "output_type": "stream",
     "text": [
      "Epoch 38: Train 99.6%, Val 99.6%\n"
     ]
    },
    {
     "name": "stderr",
     "output_type": "stream",
     "text": [
      "Training: 100%|████████████████████████████████████████████████████████████████████| 1019/1019 [03:17<00:00,  5.15it/s]\n",
      "Validation: 100%|████████████████████████████████████████████████████████████████████| 340/340 [00:29<00:00, 11.58it/s]\n"
     ]
    },
    {
     "name": "stdout",
     "output_type": "stream",
     "text": [
      "Epoch 39: Train 99.7%, Val 99.6%\n"
     ]
    },
    {
     "name": "stderr",
     "output_type": "stream",
     "text": [
      "Training: 100%|████████████████████████████████████████████████████████████████████| 1019/1019 [03:16<00:00,  5.17it/s]\n",
      "Validation: 100%|████████████████████████████████████████████████████████████████████| 340/340 [00:31<00:00, 10.89it/s]\n"
     ]
    },
    {
     "name": "stdout",
     "output_type": "stream",
     "text": [
      "Epoch 40: Train 99.6%, Val 99.6%\n"
     ]
    },
    {
     "name": "stderr",
     "output_type": "stream",
     "text": [
      "Validation: 100%|████████████████████████████████████████████████████████████████████| 340/340 [00:29<00:00, 11.67it/s]\n"
     ]
    },
    {
     "name": "stdout",
     "output_type": "stream",
     "text": [
      "Confusion matrix saved: C:\\Users\\nhdkr\\off_plant_di_err_analyze\\results\\densenet121_confusion_matrix.csv\n",
      "Classification statistics saved: C:\\Users\\nhdkr\\off_plant_di_err_analyze\\results\\densenet121_classification_stats.csv\n"
     ]
    },
    {
     "name": "stderr",
     "output_type": "stream",
     "text": [
      "Clipping input data to the valid range for imshow with RGB data ([0..1] for floats or [0..255] for integers). Got range [-2.0494049..1.9733893].\n",
      "Clipping input data to the valid range for imshow with RGB data ([0..1] for floats or [0..255] for integers). Got range [-1.5014129..2.1659663].\n"
     ]
    },
    {
     "name": "stdout",
     "output_type": "stream",
     "text": [
      "Confusion matrix plot saved: C:\\Users\\nhdkr\\off_plant_di_err_analyze\\results\\densenet121_confusion_matrix.png\n",
      "Top-k Accuracy: {'top_1_acc': 99.58567351072645, 'top_3_acc': 99.94475646809687, 'top_5_acc': 99.96317097873124}\n"
     ]
    },
    {
     "name": "stderr",
     "output_type": "stream",
     "text": [
      "Clipping input data to the valid range for imshow with RGB data ([0..1] for floats or [0..255] for integers). Got range [-1.68244..1.5467933].\n",
      "Clipping input data to the valid range for imshow with RGB data ([0..1] for floats or [0..255] for integers). Got range [-1.8956583..2.0784314].\n",
      "Clipping input data to the valid range for imshow with RGB data ([0..1] for floats or [0..255] for integers). Got range [-2.0494049..1.541961].\n",
      "Clipping input data to the valid range for imshow with RGB data ([0..1] for floats or [0..255] for integers). Got range [-2.0322802..2.0474076].\n",
      "Clipping input data to the valid range for imshow with RGB data ([0..1] for floats or [0..255] for integers). Got range [-1.5604358..1.7351656].\n",
      "Clipping input data to the valid range for imshow with RGB data ([0..1] for floats or [0..255] for integers). Got range [-1.7069099..1.5942485].\n",
      "Clipping input data to the valid range for imshow with RGB data ([0..1] for floats or [0..255] for integers). Got range [-1.7521569..1.923538].\n",
      "Clipping input data to the valid range for imshow with RGB data ([0..1] for floats or [0..255] for integers). Got range [-1.7411594..1.8731157].\n",
      "Clipping input data to the valid range for imshow with RGB data ([0..1] for floats or [0..255] for integers). Got range [-1.2641394..2.1134453].\n",
      "Clipping input data to the valid range for imshow with RGB data ([0..1] for floats or [0..255] for integers). Got range [-2.117904..2.3760502].\n",
      "Clipping input data to the valid range for imshow with RGB data ([0..1] for floats or [0..255] for integers). Got range [-2.0665298..2.3611329].\n",
      "Clipping input data to the valid range for imshow with RGB data ([0..1] for floats or [0..255] for integers). Got range [-1.7695861..2.2535014].\n",
      "Clipping input data to the valid range for imshow with RGB data ([0..1] for floats or [0..255] for integers). Got range [-1.7870152..1.9951199].\n",
      "Clipping input data to the valid range for imshow with RGB data ([0..1] for floats or [0..255] for integers). Got range [-2.117904..2.4134207].\n",
      "Clipping input data to the valid range for imshow with RGB data ([0..1] for floats or [0..255] for integers). Got range [-1.9466565..2.3785625].\n",
      "Clipping input data to the valid range for imshow with RGB data ([0..1] for floats or [0..255] for integers). Got range [-1.6041614..2.186841].\n",
      "Clipping input data to the valid range for imshow with RGB data ([0..1] for floats or [0..255] for integers). Got range [-1.8044444..1.4831933].\n",
      "Clipping input data to the valid range for imshow with RGB data ([0..1] for floats or [0..255] for integers). Got range [-2.117904..2.64].\n"
     ]
    },
    {
     "name": "stdout",
     "output_type": "stream",
     "text": [
      "Saved 20 misclassified images to C:\\Users\\nhdkr\\off_plant_di_err_analyze\\results\n",
      "\n",
      "DenseNet121 RESULTS:\n",
      "----------------------------------------\n",
      "Accuracy: 99.59%\n",
      "Error rate: 0.41%\n",
      "Files saved:\n",
      "  - Confusion Matrix CSV: C:\\Users\\nhdkr\\off_plant_di_err_analyze\\results\\densenet121_confusion_matrix.csv\n",
      "  - Classification Stats: C:\\Users\\nhdkr\\off_plant_di_err_analyze\\results\\densenet121_classification_stats.csv\n",
      "  - Confusion Matrix Plot: C:\\Users\\nhdkr\\off_plant_di_err_analyze\\results\\densenet121_confusion_matrix.png\n",
      "Model saved to: C:\\Users\\nhdkr\\off_plant_di_err_analyze\\models\\densenet121_final.pth\n",
      "\n",
      "================================================================================\n",
      "TRAINING MODEL 12/12: InceptionV3\n",
      "================================================================================\n",
      "\n",
      "Training InceptionV3...\n"
     ]
    },
    {
     "name": "stderr",
     "output_type": "stream",
     "text": [
      "Training: 100%|████████████████████████████████████████████████████████████████████| 1019/1019 [01:19<00:00, 12.88it/s]\n",
      "Validation: 100%|████████████████████████████████████████████████████████████████████| 340/340 [00:24<00:00, 13.91it/s]\n"
     ]
    },
    {
     "name": "stdout",
     "output_type": "stream",
     "text": [
      "Epoch 1: Train 58.0%, Val 77.5%\n"
     ]
    },
    {
     "name": "stderr",
     "output_type": "stream",
     "text": [
      "Training: 100%|████████████████████████████████████████████████████████████████████| 1019/1019 [01:18<00:00, 12.94it/s]\n",
      "Validation: 100%|████████████████████████████████████████████████████████████████████| 340/340 [00:24<00:00, 13.80it/s]\n"
     ]
    },
    {
     "name": "stdout",
     "output_type": "stream",
     "text": [
      "Epoch 2: Train 76.6%, Val 83.8%\n"
     ]
    },
    {
     "name": "stderr",
     "output_type": "stream",
     "text": [
      "Training: 100%|████████████████████████████████████████████████████████████████████| 1019/1019 [01:18<00:00, 12.96it/s]\n",
      "Validation: 100%|████████████████████████████████████████████████████████████████████| 340/340 [00:24<00:00, 13.84it/s]\n"
     ]
    },
    {
     "name": "stdout",
     "output_type": "stream",
     "text": [
      "Epoch 3: Train 83.9%, Val 89.9%\n"
     ]
    },
    {
     "name": "stderr",
     "output_type": "stream",
     "text": [
      "Training: 100%|████████████████████████████████████████████████████████████████████| 1019/1019 [01:18<00:00, 13.03it/s]\n",
      "Validation: 100%|████████████████████████████████████████████████████████████████████| 340/340 [00:24<00:00, 13.95it/s]\n"
     ]
    },
    {
     "name": "stdout",
     "output_type": "stream",
     "text": [
      "Epoch 4: Train 87.5%, Val 91.8%\n"
     ]
    },
    {
     "name": "stderr",
     "output_type": "stream",
     "text": [
      "Training: 100%|████████████████████████████████████████████████████████████████████| 1019/1019 [01:17<00:00, 13.07it/s]\n",
      "Validation: 100%|████████████████████████████████████████████████████████████████████| 340/340 [00:24<00:00, 14.05it/s]\n"
     ]
    },
    {
     "name": "stdout",
     "output_type": "stream",
     "text": [
      "Epoch 5: Train 89.1%, Val 92.9%\n"
     ]
    },
    {
     "name": "stderr",
     "output_type": "stream",
     "text": [
      "Training: 100%|████████████████████████████████████████████████████████████████████| 1019/1019 [01:17<00:00, 13.07it/s]\n",
      "Validation: 100%|████████████████████████████████████████████████████████████████████| 340/340 [00:24<00:00, 14.08it/s]\n"
     ]
    },
    {
     "name": "stdout",
     "output_type": "stream",
     "text": [
      "Epoch 6: Train 90.7%, Val 94.4%\n"
     ]
    },
    {
     "name": "stderr",
     "output_type": "stream",
     "text": [
      "Training: 100%|████████████████████████████████████████████████████████████████████| 1019/1019 [01:17<00:00, 13.13it/s]\n",
      "Validation: 100%|████████████████████████████████████████████████████████████████████| 340/340 [00:24<00:00, 14.12it/s]\n"
     ]
    },
    {
     "name": "stdout",
     "output_type": "stream",
     "text": [
      "Epoch 7: Train 92.5%, Val 94.5%\n"
     ]
    },
    {
     "name": "stderr",
     "output_type": "stream",
     "text": [
      "Training: 100%|████████████████████████████████████████████████████████████████████| 1019/1019 [01:17<00:00, 13.17it/s]\n",
      "Validation: 100%|████████████████████████████████████████████████████████████████████| 340/340 [00:23<00:00, 14.26it/s]\n"
     ]
    },
    {
     "name": "stdout",
     "output_type": "stream",
     "text": [
      "Epoch 8: Train 92.8%, Val 96.5%\n"
     ]
    },
    {
     "name": "stderr",
     "output_type": "stream",
     "text": [
      "Training: 100%|████████████████████████████████████████████████████████████████████| 1019/1019 [01:17<00:00, 13.21it/s]\n",
      "Validation: 100%|████████████████████████████████████████████████████████████████████| 340/340 [00:24<00:00, 14.04it/s]\n"
     ]
    },
    {
     "name": "stdout",
     "output_type": "stream",
     "text": [
      "Epoch 9: Train 93.6%, Val 96.7%\n"
     ]
    },
    {
     "name": "stderr",
     "output_type": "stream",
     "text": [
      "Training: 100%|████████████████████████████████████████████████████████████████████| 1019/1019 [01:17<00:00, 13.18it/s]\n",
      "Validation: 100%|████████████████████████████████████████████████████████████████████| 340/340 [00:23<00:00, 14.38it/s]\n"
     ]
    },
    {
     "name": "stdout",
     "output_type": "stream",
     "text": [
      "Epoch 10: Train 94.0%, Val 96.6%\n"
     ]
    },
    {
     "name": "stderr",
     "output_type": "stream",
     "text": [
      "Training: 100%|████████████████████████████████████████████████████████████████████| 1019/1019 [01:17<00:00, 13.19it/s]\n",
      "Validation: 100%|████████████████████████████████████████████████████████████████████| 340/340 [00:24<00:00, 14.00it/s]\n"
     ]
    },
    {
     "name": "stdout",
     "output_type": "stream",
     "text": [
      "Epoch 11: Train 94.8%, Val 97.0%\n"
     ]
    },
    {
     "name": "stderr",
     "output_type": "stream",
     "text": [
      "Training: 100%|████████████████████████████████████████████████████████████████████| 1019/1019 [01:17<00:00, 13.19it/s]\n",
      "Validation: 100%|████████████████████████████████████████████████████████████████████| 340/340 [00:23<00:00, 14.21it/s]\n"
     ]
    },
    {
     "name": "stdout",
     "output_type": "stream",
     "text": [
      "Epoch 12: Train 95.0%, Val 96.9%\n"
     ]
    },
    {
     "name": "stderr",
     "output_type": "stream",
     "text": [
      "Training: 100%|████████████████████████████████████████████████████████████████████| 1019/1019 [01:16<00:00, 13.25it/s]\n",
      "Validation: 100%|████████████████████████████████████████████████████████████████████| 340/340 [00:23<00:00, 14.34it/s]\n"
     ]
    },
    {
     "name": "stdout",
     "output_type": "stream",
     "text": [
      "Epoch 13: Train 95.5%, Val 97.7%\n"
     ]
    },
    {
     "name": "stderr",
     "output_type": "stream",
     "text": [
      "Training: 100%|████████████████████████████████████████████████████████████████████| 1019/1019 [01:17<00:00, 13.23it/s]\n",
      "Validation: 100%|████████████████████████████████████████████████████████████████████| 340/340 [00:23<00:00, 14.24it/s]\n"
     ]
    },
    {
     "name": "stdout",
     "output_type": "stream",
     "text": [
      "Epoch 14: Train 96.1%, Val 97.7%\n"
     ]
    },
    {
     "name": "stderr",
     "output_type": "stream",
     "text": [
      "Training: 100%|████████████████████████████████████████████████████████████████████| 1019/1019 [01:17<00:00, 13.23it/s]\n",
      "Validation: 100%|████████████████████████████████████████████████████████████████████| 340/340 [00:23<00:00, 14.45it/s]\n"
     ]
    },
    {
     "name": "stdout",
     "output_type": "stream",
     "text": [
      "Epoch 15: Train 96.1%, Val 98.2%\n"
     ]
    },
    {
     "name": "stderr",
     "output_type": "stream",
     "text": [
      "Training: 100%|████████████████████████████████████████████████████████████████████| 1019/1019 [01:16<00:00, 13.25it/s]\n",
      "Validation: 100%|████████████████████████████████████████████████████████████████████| 340/340 [00:23<00:00, 14.27it/s]\n"
     ]
    },
    {
     "name": "stdout",
     "output_type": "stream",
     "text": [
      "Epoch 16: Train 96.6%, Val 98.5%\n"
     ]
    },
    {
     "name": "stderr",
     "output_type": "stream",
     "text": [
      "Training: 100%|████████████████████████████████████████████████████████████████████| 1019/1019 [01:16<00:00, 13.29it/s]\n",
      "Validation: 100%|████████████████████████████████████████████████████████████████████| 340/340 [00:23<00:00, 14.19it/s]\n"
     ]
    },
    {
     "name": "stdout",
     "output_type": "stream",
     "text": [
      "Epoch 17: Train 96.9%, Val 98.9%\n"
     ]
    },
    {
     "name": "stderr",
     "output_type": "stream",
     "text": [
      "Training: 100%|████████████████████████████████████████████████████████████████████| 1019/1019 [01:16<00:00, 13.30it/s]\n",
      "Validation: 100%|████████████████████████████████████████████████████████████████████| 340/340 [00:23<00:00, 14.24it/s]\n"
     ]
    },
    {
     "name": "stdout",
     "output_type": "stream",
     "text": [
      "Epoch 18: Train 97.0%, Val 98.4%\n"
     ]
    },
    {
     "name": "stderr",
     "output_type": "stream",
     "text": [
      "Training: 100%|████████████████████████████████████████████████████████████████████| 1019/1019 [01:16<00:00, 13.30it/s]\n",
      "Validation: 100%|████████████████████████████████████████████████████████████████████| 340/340 [00:23<00:00, 14.23it/s]\n"
     ]
    },
    {
     "name": "stdout",
     "output_type": "stream",
     "text": [
      "Epoch 19: Train 97.3%, Val 98.3%\n"
     ]
    },
    {
     "name": "stderr",
     "output_type": "stream",
     "text": [
      "Training: 100%|████████████████████████████████████████████████████████████████████| 1019/1019 [01:16<00:00, 13.34it/s]\n",
      "Validation: 100%|████████████████████████████████████████████████████████████████████| 340/340 [00:23<00:00, 14.46it/s]\n"
     ]
    },
    {
     "name": "stdout",
     "output_type": "stream",
     "text": [
      "Epoch 20: Train 97.5%, Val 98.5%\n"
     ]
    },
    {
     "name": "stderr",
     "output_type": "stream",
     "text": [
      "Training: 100%|████████████████████████████████████████████████████████████████████| 1019/1019 [01:16<00:00, 13.30it/s]\n",
      "Validation: 100%|████████████████████████████████████████████████████████████████████| 340/340 [00:23<00:00, 14.37it/s]\n"
     ]
    },
    {
     "name": "stdout",
     "output_type": "stream",
     "text": [
      "Epoch 21: Train 97.7%, Val 99.0%\n"
     ]
    },
    {
     "name": "stderr",
     "output_type": "stream",
     "text": [
      "Training: 100%|████████████████████████████████████████████████████████████████████| 1019/1019 [01:16<00:00, 13.31it/s]\n",
      "Validation: 100%|████████████████████████████████████████████████████████████████████| 340/340 [00:23<00:00, 14.48it/s]\n"
     ]
    },
    {
     "name": "stdout",
     "output_type": "stream",
     "text": [
      "Epoch 22: Train 97.9%, Val 98.8%\n"
     ]
    },
    {
     "name": "stderr",
     "output_type": "stream",
     "text": [
      "Training: 100%|████████████████████████████████████████████████████████████████████| 1019/1019 [01:16<00:00, 13.32it/s]\n",
      "Validation: 100%|████████████████████████████████████████████████████████████████████| 340/340 [00:23<00:00, 14.35it/s]\n"
     ]
    },
    {
     "name": "stdout",
     "output_type": "stream",
     "text": [
      "Epoch 23: Train 97.9%, Val 99.1%\n"
     ]
    },
    {
     "name": "stderr",
     "output_type": "stream",
     "text": [
      "Training: 100%|████████████████████████████████████████████████████████████████████| 1019/1019 [01:16<00:00, 13.33it/s]\n",
      "Validation: 100%|████████████████████████████████████████████████████████████████████| 340/340 [00:23<00:00, 14.28it/s]\n"
     ]
    },
    {
     "name": "stdout",
     "output_type": "stream",
     "text": [
      "Epoch 24: Train 98.2%, Val 99.2%\n"
     ]
    },
    {
     "name": "stderr",
     "output_type": "stream",
     "text": [
      "Training: 100%|████████████████████████████████████████████████████████████████████| 1019/1019 [01:16<00:00, 13.33it/s]\n",
      "Validation: 100%|████████████████████████████████████████████████████████████████████| 340/340 [00:23<00:00, 14.35it/s]\n"
     ]
    },
    {
     "name": "stdout",
     "output_type": "stream",
     "text": [
      "Epoch 25: Train 98.4%, Val 99.0%\n"
     ]
    },
    {
     "name": "stderr",
     "output_type": "stream",
     "text": [
      "Training: 100%|████████████████████████████████████████████████████████████████████| 1019/1019 [01:16<00:00, 13.29it/s]\n",
      "Validation: 100%|████████████████████████████████████████████████████████████████████| 340/340 [00:23<00:00, 14.49it/s]\n"
     ]
    },
    {
     "name": "stdout",
     "output_type": "stream",
     "text": [
      "Epoch 26: Train 98.4%, Val 99.2%\n"
     ]
    },
    {
     "name": "stderr",
     "output_type": "stream",
     "text": [
      "Training: 100%|████████████████████████████████████████████████████████████████████| 1019/1019 [01:16<00:00, 13.30it/s]\n",
      "Validation: 100%|████████████████████████████████████████████████████████████████████| 340/340 [00:23<00:00, 14.42it/s]\n"
     ]
    },
    {
     "name": "stdout",
     "output_type": "stream",
     "text": [
      "Epoch 27: Train 98.7%, Val 99.3%\n"
     ]
    },
    {
     "name": "stderr",
     "output_type": "stream",
     "text": [
      "Training: 100%|████████████████████████████████████████████████████████████████████| 1019/1019 [01:16<00:00, 13.33it/s]\n",
      "Validation: 100%|████████████████████████████████████████████████████████████████████| 340/340 [00:23<00:00, 14.48it/s]\n"
     ]
    },
    {
     "name": "stdout",
     "output_type": "stream",
     "text": [
      "Epoch 28: Train 98.8%, Val 99.4%\n"
     ]
    },
    {
     "name": "stderr",
     "output_type": "stream",
     "text": [
      "Training: 100%|████████████████████████████████████████████████████████████████████| 1019/1019 [01:16<00:00, 13.32it/s]\n",
      "Validation: 100%|████████████████████████████████████████████████████████████████████| 340/340 [00:23<00:00, 14.47it/s]\n"
     ]
    },
    {
     "name": "stdout",
     "output_type": "stream",
     "text": [
      "Epoch 29: Train 98.8%, Val 99.4%\n"
     ]
    },
    {
     "name": "stderr",
     "output_type": "stream",
     "text": [
      "Training: 100%|████████████████████████████████████████████████████████████████████| 1019/1019 [01:16<00:00, 13.36it/s]\n",
      "Validation: 100%|████████████████████████████████████████████████████████████████████| 340/340 [00:23<00:00, 14.47it/s]\n"
     ]
    },
    {
     "name": "stdout",
     "output_type": "stream",
     "text": [
      "Epoch 30: Train 99.0%, Val 99.5%\n"
     ]
    },
    {
     "name": "stderr",
     "output_type": "stream",
     "text": [
      "Training: 100%|████████████████████████████████████████████████████████████████████| 1019/1019 [01:16<00:00, 13.35it/s]\n",
      "Validation: 100%|████████████████████████████████████████████████████████████████████| 340/340 [00:23<00:00, 14.47it/s]\n"
     ]
    },
    {
     "name": "stdout",
     "output_type": "stream",
     "text": [
      "Epoch 31: Train 98.9%, Val 99.5%\n"
     ]
    },
    {
     "name": "stderr",
     "output_type": "stream",
     "text": [
      "Training: 100%|████████████████████████████████████████████████████████████████████| 1019/1019 [01:16<00:00, 13.36it/s]\n",
      "Validation: 100%|████████████████████████████████████████████████████████████████████| 340/340 [00:23<00:00, 14.27it/s]\n"
     ]
    },
    {
     "name": "stdout",
     "output_type": "stream",
     "text": [
      "Epoch 32: Train 99.2%, Val 99.5%\n"
     ]
    },
    {
     "name": "stderr",
     "output_type": "stream",
     "text": [
      "Training: 100%|████████████████████████████████████████████████████████████████████| 1019/1019 [01:16<00:00, 13.34it/s]\n",
      "Validation: 100%|████████████████████████████████████████████████████████████████████| 340/340 [00:23<00:00, 14.58it/s]\n"
     ]
    },
    {
     "name": "stdout",
     "output_type": "stream",
     "text": [
      "Epoch 33: Train 99.2%, Val 99.6%\n"
     ]
    },
    {
     "name": "stderr",
     "output_type": "stream",
     "text": [
      "Training: 100%|████████████████████████████████████████████████████████████████████| 1019/1019 [01:16<00:00, 13.34it/s]\n",
      "Validation: 100%|████████████████████████████████████████████████████████████████████| 340/340 [00:23<00:00, 14.47it/s]\n"
     ]
    },
    {
     "name": "stdout",
     "output_type": "stream",
     "text": [
      "Epoch 34: Train 99.2%, Val 99.6%\n"
     ]
    },
    {
     "name": "stderr",
     "output_type": "stream",
     "text": [
      "Training: 100%|████████████████████████████████████████████████████████████████████| 1019/1019 [01:16<00:00, 13.31it/s]\n",
      "Validation: 100%|████████████████████████████████████████████████████████████████████| 340/340 [00:23<00:00, 14.18it/s]\n"
     ]
    },
    {
     "name": "stdout",
     "output_type": "stream",
     "text": [
      "Epoch 35: Train 99.3%, Val 99.6%\n"
     ]
    },
    {
     "name": "stderr",
     "output_type": "stream",
     "text": [
      "Training: 100%|████████████████████████████████████████████████████████████████████| 1019/1019 [01:16<00:00, 13.32it/s]\n",
      "Validation: 100%|████████████████████████████████████████████████████████████████████| 340/340 [00:23<00:00, 14.46it/s]\n"
     ]
    },
    {
     "name": "stdout",
     "output_type": "stream",
     "text": [
      "Epoch 36: Train 99.3%, Val 99.6%\n"
     ]
    },
    {
     "name": "stderr",
     "output_type": "stream",
     "text": [
      "Training: 100%|████████████████████████████████████████████████████████████████████| 1019/1019 [01:16<00:00, 13.39it/s]\n",
      "Validation: 100%|████████████████████████████████████████████████████████████████████| 340/340 [00:23<00:00, 14.39it/s]\n"
     ]
    },
    {
     "name": "stdout",
     "output_type": "stream",
     "text": [
      "Epoch 37: Train 99.4%, Val 99.6%\n"
     ]
    },
    {
     "name": "stderr",
     "output_type": "stream",
     "text": [
      "Training: 100%|████████████████████████████████████████████████████████████████████| 1019/1019 [01:16<00:00, 13.36it/s]\n",
      "Validation: 100%|████████████████████████████████████████████████████████████████████| 340/340 [00:23<00:00, 14.50it/s]\n"
     ]
    },
    {
     "name": "stdout",
     "output_type": "stream",
     "text": [
      "Epoch 38: Train 99.4%, Val 99.6%\n"
     ]
    },
    {
     "name": "stderr",
     "output_type": "stream",
     "text": [
      "Training: 100%|████████████████████████████████████████████████████████████████████| 1019/1019 [01:16<00:00, 13.33it/s]\n",
      "Validation: 100%|████████████████████████████████████████████████████████████████████| 340/340 [00:23<00:00, 14.52it/s]\n"
     ]
    },
    {
     "name": "stdout",
     "output_type": "stream",
     "text": [
      "Epoch 39: Train 99.3%, Val 99.6%\n"
     ]
    },
    {
     "name": "stderr",
     "output_type": "stream",
     "text": [
      "Training: 100%|████████████████████████████████████████████████████████████████████| 1019/1019 [01:16<00:00, 13.41it/s]\n",
      "Validation: 100%|████████████████████████████████████████████████████████████████████| 340/340 [00:23<00:00, 14.53it/s]\n"
     ]
    },
    {
     "name": "stdout",
     "output_type": "stream",
     "text": [
      "Epoch 40: Train 99.4%, Val 99.6%\n"
     ]
    },
    {
     "name": "stderr",
     "output_type": "stream",
     "text": [
      "Validation: 100%|████████████████████████████████████████████████████████████████████| 340/340 [00:23<00:00, 14.73it/s]\n"
     ]
    },
    {
     "name": "stdout",
     "output_type": "stream",
     "text": [
      "Confusion matrix saved: C:\\Users\\nhdkr\\off_plant_di_err_analyze\\results\\inceptionv3_confusion_matrix.csv\n",
      "Classification statistics saved: C:\\Users\\nhdkr\\off_plant_di_err_analyze\\results\\inceptionv3_classification_stats.csv\n"
     ]
    },
    {
     "name": "stderr",
     "output_type": "stream",
     "text": [
      "Clipping input data to the valid range for imshow with RGB data ([0..1] for floats or [0..255] for integers). Got range [-1.7695861..1.9577874].\n",
      "Clipping input data to the valid range for imshow with RGB data ([0..1] for floats or [0..255] for integers). Got range [-2.117904..2.3760502].\n"
     ]
    },
    {
     "name": "stdout",
     "output_type": "stream",
     "text": [
      "Confusion matrix plot saved: C:\\Users\\nhdkr\\off_plant_di_err_analyze\\results\\inceptionv3_confusion_matrix.png\n",
      "Top-k Accuracy: {'top_1_acc': 99.59488076604364, 'top_3_acc': 99.97237823404843, 'top_5_acc': 99.98158548936561}\n"
     ]
    },
    {
     "name": "stderr",
     "output_type": "stream",
     "text": [
      "Clipping input data to the valid range for imshow with RGB data ([0..1] for floats or [0..255] for integers). Got range [-1.8044444..1.3070468].\n",
      "Clipping input data to the valid range for imshow with RGB data ([0..1] for floats or [0..255] for integers). Got range [-1.7870152..2.3088455].\n",
      "Clipping input data to the valid range for imshow with RGB data ([0..1] for floats or [0..255] for integers). Got range [-1.7521569..1.923538].\n",
      "Clipping input data to the valid range for imshow with RGB data ([0..1] for floats or [0..255] for integers). Got range [-1.3687146..2.465708].\n",
      "Clipping input data to the valid range for imshow with RGB data ([0..1] for floats or [0..255] for integers). Got range [-1.8044444..1.7633053].\n",
      "Clipping input data to the valid range for imshow with RGB data ([0..1] for floats or [0..255] for integers). Got range [-1.9466565..2.3785625].\n",
      "Clipping input data to the valid range for imshow with RGB data ([0..1] for floats or [0..255] for integers). Got range [-1.68244..1.8033988].\n",
      "Clipping input data to the valid range for imshow with RGB data ([0..1] for floats or [0..255] for integers). Got range [-2.0494049..1.9733893].\n",
      "Clipping input data to the valid range for imshow with RGB data ([0..1] for floats or [0..255] for integers). Got range [-1.7069099..1.5942485].\n",
      "Clipping input data to the valid range for imshow with RGB data ([0..1] for floats or [0..255] for integers). Got range [-1.8781574..2.2391288].\n",
      "Clipping input data to the valid range for imshow with RGB data ([0..1] for floats or [0..255] for integers). Got range [-2.0322802..2.3088455].\n",
      "Clipping input data to the valid range for imshow with RGB data ([0..1] for floats or [0..255] for integers). Got range [-1.6650109..2.1484594].\n",
      "Clipping input data to the valid range for imshow with RGB data ([0..1] for floats or [0..255] for integers). Got range [-2.0836544..1.3070468].\n",
      "Clipping input data to the valid range for imshow with RGB data ([0..1] for floats or [0..255] for integers). Got range [-1.6041614..2.3785625].\n",
      "Clipping input data to the valid range for imshow with RGB data ([0..1] for floats or [0..255] for integers). Got range [-2.117904..2.2042704].\n",
      "Clipping input data to the valid range for imshow with RGB data ([0..1] for floats or [0..255] for integers). Got range [-0.47759098..2.4134207].\n",
      "Clipping input data to the valid range for imshow with RGB data ([0..1] for floats or [0..255] for integers). Got range [-1.7695861..1.4782944].\n",
      "Clipping input data to the valid range for imshow with RGB data ([0..1] for floats or [0..255] for integers). Got range [-1.9637812..1.2731093].\n"
     ]
    },
    {
     "name": "stdout",
     "output_type": "stream",
     "text": [
      "Saved 20 misclassified images to C:\\Users\\nhdkr\\off_plant_di_err_analyze\\results\n",
      "\n",
      "InceptionV3 RESULTS:\n",
      "----------------------------------------\n",
      "Accuracy: 99.59%\n",
      "Error rate: 0.41%\n",
      "Files saved:\n",
      "  - Confusion Matrix CSV: C:\\Users\\nhdkr\\off_plant_di_err_analyze\\results\\inceptionv3_confusion_matrix.csv\n",
      "  - Classification Stats: C:\\Users\\nhdkr\\off_plant_di_err_analyze\\results\\inceptionv3_classification_stats.csv\n",
      "  - Confusion Matrix Plot: C:\\Users\\nhdkr\\off_plant_di_err_analyze\\results\\inceptionv3_confusion_matrix.png\n",
      "Model saved to: C:\\Users\\nhdkr\\off_plant_di_err_analyze\\models\\inceptionv3_final.pth\n",
      "\n",
      "Comprehensive results saved: C:\\Users\\nhdkr\\off_plant_di_err_analyze\\results\\all_models_comprehensive_results.json\n",
      "\n",
      "================================================================================\n",
      "FINAL SUMMARY\n",
      "================================================================================\n",
      "LeNet:\n",
      "  - Final Accuracy: 97.25%\n",
      "  - Confusion Matrix CSV: C:\\Users\\nhdkr\\off_plant_di_err_analyze\\results\\lenet_confusion_matrix.csv\n",
      "  - Classification Stats: C:\\Users\\nhdkr\\off_plant_di_err_analyze\\results\\lenet_classification_stats.csv\n",
      "  - Confusion Matrix Plot: C:\\Users\\nhdkr\\off_plant_di_err_analyze\\results\\lenet_confusion_matrix.png\n",
      "\n",
      "SimpleCNN:\n",
      "  - Final Accuracy: 99.48%\n",
      "  - Confusion Matrix CSV: C:\\Users\\nhdkr\\off_plant_di_err_analyze\\results\\simplecnn_confusion_matrix.csv\n",
      "  - Classification Stats: C:\\Users\\nhdkr\\off_plant_di_err_analyze\\results\\simplecnn_classification_stats.csv\n",
      "  - Confusion Matrix Plot: C:\\Users\\nhdkr\\off_plant_di_err_analyze\\results\\simplecnn_confusion_matrix.png\n",
      "\n",
      "AlexNet:\n",
      "  - Final Accuracy: 95.50%\n",
      "  - Confusion Matrix CSV: C:\\Users\\nhdkr\\off_plant_di_err_analyze\\results\\alexnet_confusion_matrix.csv\n",
      "  - Classification Stats: C:\\Users\\nhdkr\\off_plant_di_err_analyze\\results\\alexnet_classification_stats.csv\n",
      "  - Confusion Matrix Plot: C:\\Users\\nhdkr\\off_plant_di_err_analyze\\results\\alexnet_confusion_matrix.png\n",
      "\n",
      "ResNet18:\n",
      "  - Final Accuracy: 99.41%\n",
      "  - Confusion Matrix CSV: C:\\Users\\nhdkr\\off_plant_di_err_analyze\\results\\resnet18_confusion_matrix.csv\n",
      "  - Classification Stats: C:\\Users\\nhdkr\\off_plant_di_err_analyze\\results\\resnet18_classification_stats.csv\n",
      "  - Confusion Matrix Plot: C:\\Users\\nhdkr\\off_plant_di_err_analyze\\results\\resnet18_confusion_matrix.png\n",
      "\n",
      "ResNet34:\n",
      "  - Final Accuracy: 99.30%\n",
      "  - Confusion Matrix CSV: C:\\Users\\nhdkr\\off_plant_di_err_analyze\\results\\resnet34_confusion_matrix.csv\n",
      "  - Classification Stats: C:\\Users\\nhdkr\\off_plant_di_err_analyze\\results\\resnet34_classification_stats.csv\n",
      "  - Confusion Matrix Plot: C:\\Users\\nhdkr\\off_plant_di_err_analyze\\results\\resnet34_confusion_matrix.png\n",
      "\n",
      "ResNet50:\n",
      "  - Final Accuracy: 99.45%\n",
      "  - Confusion Matrix CSV: C:\\Users\\nhdkr\\off_plant_di_err_analyze\\results\\resnet50_confusion_matrix.csv\n",
      "  - Classification Stats: C:\\Users\\nhdkr\\off_plant_di_err_analyze\\results\\resnet50_classification_stats.csv\n",
      "  - Confusion Matrix Plot: C:\\Users\\nhdkr\\off_plant_di_err_analyze\\results\\resnet50_confusion_matrix.png\n",
      "\n",
      "MobileNetV2:\n",
      "  - Final Accuracy: 99.13%\n",
      "  - Confusion Matrix CSV: C:\\Users\\nhdkr\\off_plant_di_err_analyze\\results\\mobilenetv2_confusion_matrix.csv\n",
      "  - Classification Stats: C:\\Users\\nhdkr\\off_plant_di_err_analyze\\results\\mobilenetv2_classification_stats.csv\n",
      "  - Confusion Matrix Plot: C:\\Users\\nhdkr\\off_plant_di_err_analyze\\results\\mobilenetv2_confusion_matrix.png\n",
      "\n",
      "MobileNetV3Small:\n",
      "  - Final Accuracy: 99.36%\n",
      "  - Confusion Matrix CSV: C:\\Users\\nhdkr\\off_plant_di_err_analyze\\results\\mobilenetv3small_confusion_matrix.csv\n",
      "  - Classification Stats: C:\\Users\\nhdkr\\off_plant_di_err_analyze\\results\\mobilenetv3small_classification_stats.csv\n",
      "  - Confusion Matrix Plot: C:\\Users\\nhdkr\\off_plant_di_err_analyze\\results\\mobilenetv3small_confusion_matrix.png\n",
      "\n",
      "ShuffleNetV2:\n",
      "  - Final Accuracy: 99.54%\n",
      "  - Confusion Matrix CSV: C:\\Users\\nhdkr\\off_plant_di_err_analyze\\results\\shufflenetv2_confusion_matrix.csv\n",
      "  - Classification Stats: C:\\Users\\nhdkr\\off_plant_di_err_analyze\\results\\shufflenetv2_classification_stats.csv\n",
      "  - Confusion Matrix Plot: C:\\Users\\nhdkr\\off_plant_di_err_analyze\\results\\shufflenetv2_confusion_matrix.png\n",
      "\n",
      "EfficientNetB0:\n",
      "  - Final Accuracy: 99.38%\n",
      "  - Confusion Matrix CSV: C:\\Users\\nhdkr\\off_plant_di_err_analyze\\results\\efficientnetb0_confusion_matrix.csv\n",
      "  - Classification Stats: C:\\Users\\nhdkr\\off_plant_di_err_analyze\\results\\efficientnetb0_classification_stats.csv\n",
      "  - Confusion Matrix Plot: C:\\Users\\nhdkr\\off_plant_di_err_analyze\\results\\efficientnetb0_confusion_matrix.png\n",
      "\n",
      "DenseNet121:\n",
      "  - Final Accuracy: 99.59%\n",
      "  - Confusion Matrix CSV: C:\\Users\\nhdkr\\off_plant_di_err_analyze\\results\\densenet121_confusion_matrix.csv\n",
      "  - Classification Stats: C:\\Users\\nhdkr\\off_plant_di_err_analyze\\results\\densenet121_classification_stats.csv\n",
      "  - Confusion Matrix Plot: C:\\Users\\nhdkr\\off_plant_di_err_analyze\\results\\densenet121_confusion_matrix.png\n",
      "\n",
      "InceptionV3:\n",
      "  - Final Accuracy: 99.59%\n",
      "  - Confusion Matrix CSV: C:\\Users\\nhdkr\\off_plant_di_err_analyze\\results\\inceptionv3_confusion_matrix.csv\n",
      "  - Classification Stats: C:\\Users\\nhdkr\\off_plant_di_err_analyze\\results\\inceptionv3_classification_stats.csv\n",
      "  - Confusion Matrix Plot: C:\\Users\\nhdkr\\off_plant_di_err_analyze\\results\\inceptionv3_confusion_matrix.png\n",
      "\n",
      "BEST MODEL: InceptionV3 (99.59%)\n"
     ]
    }
   ],
   "source": [
    "def main():\n",
    "    \"\"\"Main function with flexible path handling\"\"\"\n",
    "    \n",
    "    print(\"Plant Disease Detection - Multi-Model Error Analysis\")\n",
    "    print(\"=\" * 60)\n",
    "    \n",
    "    # FLEXIBLE PATH CONFIGURATION\n",
    "    current_dir = os.getcwd()\n",
    "    print(f\"Current working directory: {current_dir}\")\n",
    "    \n",
    "    # You can modify these paths:\n",
    "    data_path = os.path.join(current_dir,\"plant_data_tvt.pkl\")\n",
    "    models_dir = os.path.join(current_dir, \"models\")\n",
    "    results_dir = os.path.join(current_dir, \"results\")\n",
    "\n",
    "    print(f\"Data path: {data_path}\")\n",
    "    print(f\"Models directory: {models_dir}\")\n",
    "    print(f\"Results directory: {results_dir}\")\n",
    "    \n",
    "    # Create directories\n",
    "    os.makedirs(models_dir, exist_ok=True)\n",
    "    os.makedirs(results_dir, exist_ok=True)\n",
    "    \n",
    "    # Configuration parameters\n",
    "    DATA_SUBSET_RATIO = 1  # Use 100% of data for quick testing\n",
    "    EPOCHS = 40  # Number of epochs per model\n",
    "    \n",
    "    print(f\"Data subset ratio: {DATA_SUBSET_RATIO*100:.1f}%\")\n",
    "    print(f\"Training epochs per model: {EPOCHS}\")\n",
    "    \n",
    "    # Load data\n",
    "    print(\"\\nLoading data...\")\n",
    "\n",
    "    train_loader, val_loader, classes = load_data(data_path, subset_ratio=DATA_SUBSET_RATIO)\n",
    "    print(f\"Data loaded successfully!\")\n",
    "    print(f\"Classes: {len(classes)}\")\n",
    "    print(f\"Train batches: {len(train_loader)}\")\n",
    "    print(f\"Val batches: {len(val_loader)}\")\n",
    "    \n",
    "    # Get models for testing\n",
    "    print(\"\\nInitializing models...\")\n",
    "    all_models = get_all_models(num_classes=len(classes))\n",
    "    \n",
    "    print(f\"Total models to train: {len(all_models)}\")\n",
    "    \n",
    "    # Initialize result storage\n",
    "    all_results = {}\n",
    "    \n",
    "    # Train models\n",
    "    for i, (name, model) in enumerate(all_models.items()):\n",
    "        print(f\"\\n{'='*80}\")\n",
    "        print(f\"TRAINING MODEL {i+1}/{len(all_models)}: {name}\")\n",
    "        print(f\"{'='*80}\")\n",
    "        \n",
    "        try:\n",
    "            # Move model to device\n",
    "            model = model.to(device)\n",
    "            \n",
    "            # Train model with confusion matrix export\n",
    "            results, current_val_loader = train_and_analyze(\n",
    "                model, name, train_loader, val_loader, classes, results_dir, epochs=EPOCHS\n",
    "            )\n",
    "            all_results[name] = results\n",
    "            \n",
    "            # Save model\n",
    "            model_path = os.path.join(models_dir, f\"{name.lower()}_final.pth\")\n",
    "            torch.save(model.state_dict(), model_path)\n",
    "            print(f\"Model saved to: {model_path}\")\n",
    "            \n",
    "            # Clear GPU memory\n",
    "            del model\n",
    "            torch.cuda.empty_cache()\n",
    "            \n",
    "        except Exception as e:\n",
    "            print(f\"ERROR training {name}: {e}\")\n",
    "            print(f\"Skipping {name} and continuing with next model...\")\n",
    "            continue\n",
    "    \n",
    "    # Save comprehensive results\n",
    "    if all_results:\n",
    "        results_filename = 'all_models_comprehensive_results.json'\n",
    "        results_path = os.path.join(results_dir, results_filename)\n",
    "        \n",
    "        with open(results_path, 'w') as f:\n",
    "            json.dump(all_results, f, indent=2)\n",
    "        \n",
    "        print(f\"\\nComprehensive results saved: {results_path}\")\n",
    "        \n",
    "        # Print final summary\n",
    "        print(f\"\\n{'='*80}\")\n",
    "        print(\"FINAL SUMMARY\")\n",
    "        print(f\"{'='*80}\")\n",
    "        \n",
    "        for model_name, results in all_results.items():\n",
    "            print(f\"{model_name}:\")\n",
    "            print(f\"  - Final Accuracy: {results['final_accuracy']:.2f}%\")\n",
    "            print(f\"  - Confusion Matrix CSV: {results['confusion_matrix_csv']}\")\n",
    "            print(f\"  - Classification Stats: {results['classification_stats_csv']}\")\n",
    "            print(f\"  - Confusion Matrix Plot: {results['confusion_matrix_plot']}\")\n",
    "            print()\n",
    "        \n",
    "        # Best model\n",
    "        best_model = max(all_results.items(), key=lambda x: x[1]['final_accuracy'])\n",
    "        print(f\"BEST MODEL: {best_model[0]} ({best_model[1]['final_accuracy']:.2f}%)\")\n",
    "        \n",
    "    else:\n",
    "        print(\"No models were successfully trained!\")\n",
    "    \n",
    "    return all_results\n",
    "\n",
    "if __name__ == \"__main__\":\n",
    "    results = main()"
   ]
  },
  {
   "cell_type": "code",
   "execution_count": null,
   "id": "e92fdb5a",
   "metadata": {},
   "outputs": [],
   "source": []
  },
  {
   "cell_type": "code",
   "execution_count": null,
   "id": "e48fa70d",
   "metadata": {},
   "outputs": [],
   "source": []
  },
  {
   "cell_type": "code",
   "execution_count": null,
   "id": "b63c24e6",
   "metadata": {},
   "outputs": [],
   "source": []
  },
  {
   "cell_type": "code",
   "execution_count": null,
   "id": "84f0f980",
   "metadata": {},
   "outputs": [],
   "source": []
  }
 ],
 "metadata": {
  "kernelspec": {
   "display_name": "Python [conda env:For_pytorch]",
   "language": "python",
   "name": "conda-env-For_pytorch-py"
  },
  "language_info": {
   "codemirror_mode": {
    "name": "ipython",
    "version": 3
   },
   "file_extension": ".py",
   "mimetype": "text/x-python",
   "name": "python",
   "nbconvert_exporter": "python",
   "pygments_lexer": "ipython3",
   "version": "3.12.9"
  }
 },
 "nbformat": 4,
 "nbformat_minor": 5
}
